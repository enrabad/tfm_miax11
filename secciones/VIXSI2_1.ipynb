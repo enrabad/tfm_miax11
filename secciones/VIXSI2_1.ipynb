{
 "cells": [
  {
   "cell_type": "markdown",
   "metadata": {},
   "source": [
    "### Creación del dataset de acciones del SP500\n",
    "\n",
    "Como el histórico de datos va a ser el periodo del cálculo de VIXSI [2008-2024], se cargarán las acciones del SP500 que se añadieron al índice antes del 2008.\n",
    "\n",
    "Para la gestión de entradas/salidas/bajas de acciones del SP500 desde el 2008, se aplicarán las siguientes reglas que aseguran que haya el máxmimo número de acciones con el máximo histórico de datos con precio que se puedan obtener desde el 2008 en el SP500.\n",
    "\n",
    "1. Se va a trabajar con todos los activos que se unieron al índice antes del 2008, sin importar que a día de hoy sigan existiendo o no:\n",
    "\n",
    "    1.1 primero se seleccionan los activos del SP500 que entraron al índice antes del 2008 y siguen estando a día de hoy.\n",
    "    \n",
    "    1.2 luego se seleccionan los activos que salieron desde el 2008 en adelante, sin resetear precios desde el día de la fecha de salida hasta el fin de periodo.\n",
    "\n",
    "2. Se descartan las acciones que no tengan precios en ninguna fecha o estén descatalogadas por yfinance.\n",
    "\n",
    "3. Las acciones que no tengan precios en alguna fecha, se rellenan con el siguiente valor con datos.\n"
   ]
  },
  {
   "cell_type": "code",
   "execution_count": 1,
   "metadata": {},
   "outputs": [],
   "source": [
    "import pandas as pd\n",
    "import numpy as np\n",
    "import matplotlib.pyplot as plt\n",
    "\n",
    "import yfinance as yf\n",
    "import requests\n",
    "\n",
    "%matplotlib inline\n",
    "%load_ext autoreload\n",
    "%autoreload 2\n",
    "import warnings\n",
    "warnings.filterwarnings('ignore')\n",
    "\n"
   ]
  },
  {
   "cell_type": "markdown",
   "metadata": {},
   "source": [
    "### Se carga el histórico de VIXSI para determinar el periodo histórico de los activos"
   ]
  },
  {
   "cell_type": "code",
   "execution_count": 2,
   "metadata": {},
   "outputs": [],
   "source": [
    "vixsi_datos = pd.read_csv(\"../datos/vixsi.csv\", index_col=0)\n",
    "desde = vixsi_datos.index[0]\n",
    "hasta = vixsi_datos.index[-1]"
   ]
  },
  {
   "cell_type": "markdown",
   "metadata": {},
   "source": [
    "### Se seleccionan los activos que existían en el índice SP500 antes del 2008 y existen actualmente\n"
   ]
  },
  {
   "cell_type": "code",
   "execution_count": 3,
   "metadata": {},
   "outputs": [],
   "source": [
    "tickers = pd.read_html('https://en.wikipedia.org/wiki/List_of_S%26P_500_companies')[0]\n",
    "tickers = tickers[tickers[\"Date added\"]<=\"2008-01-01\"]\n",
    "tickers = tickers.Symbol.to_list()\n"
   ]
  },
  {
   "cell_type": "markdown",
   "metadata": {},
   "source": [
    "### Se seleccionan los activos que entraron en el SP500 antes del 2008 y salieron del índice después del 2008"
   ]
  },
  {
   "cell_type": "code",
   "execution_count": 4,
   "metadata": {},
   "outputs": [],
   "source": [
    "cambios = pd.read_html('https://en.wikipedia.org/wiki/List_of_S%26P_500_companies')[1]\n",
    "df_cambios = cambios[[(\"Date\",\"Date\"),(\"Added\",\"Ticker\"),(\"Removed\",\"Ticker\")]]\n",
    "df_cambios.columns = [\"fecha\",\"entrada\",\"salida\"]\n",
    "df_cambios.fecha = pd.to_datetime (df_cambios.fecha)\n",
    "df_cambios.set_index(df_cambios.fecha, inplace=True)\n",
    "df_cambios.sort_index(inplace=True)\n",
    "tick_entrantes = (list(df_cambios[df_cambios.fecha <\"2008-01-01\"].dropna().entrada.values))\n",
    "tick_saldespues = (list(df_cambios[df_cambios.fecha >\"2008-01-01\"].dropna().salida.values))\n",
    "tickers_mov = list(set(tick_entrantes) & set(tick_saldespues))"
   ]
  },
  {
   "cell_type": "markdown",
   "metadata": {},
   "source": [
    "### Se cargan los dos conjuntos de activos seleccionados anteriormente\n",
    "\n",
    "Se unen los activos tickers y tickers_mov con el operador de conjuntos \"|\" para evitar duplicados, si los hubiera."
   ]
  },
  {
   "cell_type": "code",
   "execution_count": 5,
   "metadata": {},
   "outputs": [
    {
     "name": "stdout",
     "output_type": "stream",
     "text": [
      "[*********************100%***********************]  260 of 260 completed"
     ]
    },
    {
     "name": "stderr",
     "output_type": "stream",
     "text": [
      "\n",
      "3 Failed downloads:\n",
      "['BF.B', 'JDSU']: Exception('%ticker%: No price data found, symbol may be delisted (1d 2008-01-02 -> 2024-12-16)')\n",
      "['YHOO']: Exception('%ticker%: No timezone found, symbol may be delisted')\n"
     ]
    },
    {
     "name": "stdout",
     "output_type": "stream",
     "text": [
      "\n"
     ]
    },
    {
     "data": {
      "text/html": [
       "<div>\n",
       "<style scoped>\n",
       "    .dataframe tbody tr th:only-of-type {\n",
       "        vertical-align: middle;\n",
       "    }\n",
       "\n",
       "    .dataframe tbody tr th {\n",
       "        vertical-align: top;\n",
       "    }\n",
       "\n",
       "    .dataframe thead th {\n",
       "        text-align: right;\n",
       "    }\n",
       "</style>\n",
       "<table border=\"1\" class=\"dataframe\">\n",
       "  <thead>\n",
       "    <tr style=\"text-align: right;\">\n",
       "      <th></th>\n",
       "      <th>A</th>\n",
       "      <th>AAPL</th>\n",
       "      <th>ABK</th>\n",
       "      <th>ABT</th>\n",
       "      <th>ADBE</th>\n",
       "      <th>ADI</th>\n",
       "      <th>ADM</th>\n",
       "      <th>ADP</th>\n",
       "      <th>ADSK</th>\n",
       "      <th>AEE</th>\n",
       "      <th>...</th>\n",
       "      <th>WFC</th>\n",
       "      <th>WM</th>\n",
       "      <th>WMB</th>\n",
       "      <th>WMT</th>\n",
       "      <th>WY</th>\n",
       "      <th>XEL</th>\n",
       "      <th>XOM</th>\n",
       "      <th>YHOO</th>\n",
       "      <th>YUM</th>\n",
       "      <th>ZBH</th>\n",
       "    </tr>\n",
       "    <tr>\n",
       "      <th>Date</th>\n",
       "      <th></th>\n",
       "      <th></th>\n",
       "      <th></th>\n",
       "      <th></th>\n",
       "      <th></th>\n",
       "      <th></th>\n",
       "      <th></th>\n",
       "      <th></th>\n",
       "      <th></th>\n",
       "      <th></th>\n",
       "      <th></th>\n",
       "      <th></th>\n",
       "      <th></th>\n",
       "      <th></th>\n",
       "      <th></th>\n",
       "      <th></th>\n",
       "      <th></th>\n",
       "      <th></th>\n",
       "      <th></th>\n",
       "      <th></th>\n",
       "      <th></th>\n",
       "    </tr>\n",
       "  </thead>\n",
       "  <tbody>\n",
       "    <tr>\n",
       "      <th>2008-01-02 00:00:00</th>\n",
       "      <td>25.965666</td>\n",
       "      <td>6.958571</td>\n",
       "      <td>1.08878</td>\n",
       "      <td>26.777637</td>\n",
       "      <td>41.709999</td>\n",
       "      <td>30.370001</td>\n",
       "      <td>45.259998</td>\n",
       "      <td>37.945564</td>\n",
       "      <td>48.240002</td>\n",
       "      <td>53.349998</td>\n",
       "      <td>...</td>\n",
       "      <td>29.10</td>\n",
       "      <td>32.259998</td>\n",
       "      <td>29.167856</td>\n",
       "      <td>15.633333</td>\n",
       "      <td>71.519997</td>\n",
       "      <td>22.170000</td>\n",
       "      <td>93.510002</td>\n",
       "      <td>NaN</td>\n",
       "      <td>27.232206</td>\n",
       "      <td>64.359222</td>\n",
       "    </tr>\n",
       "    <tr>\n",
       "      <th>2008-01-03 00:00:00</th>\n",
       "      <td>25.708155</td>\n",
       "      <td>6.961786</td>\n",
       "      <td>1.02656</td>\n",
       "      <td>26.614506</td>\n",
       "      <td>41.790001</td>\n",
       "      <td>29.910000</td>\n",
       "      <td>45.730000</td>\n",
       "      <td>37.664619</td>\n",
       "      <td>47.840000</td>\n",
       "      <td>53.310001</td>\n",
       "      <td>...</td>\n",
       "      <td>28.52</td>\n",
       "      <td>32.259998</td>\n",
       "      <td>29.917839</td>\n",
       "      <td>15.460000</td>\n",
       "      <td>72.199997</td>\n",
       "      <td>22.299999</td>\n",
       "      <td>93.830002</td>\n",
       "      <td>NaN</td>\n",
       "      <td>26.851187</td>\n",
       "      <td>64.427185</td>\n",
       "    </tr>\n",
       "    <tr>\n",
       "      <th>2008-01-04 00:00:00</th>\n",
       "      <td>24.871244</td>\n",
       "      <td>6.430357</td>\n",
       "      <td>1.02656</td>\n",
       "      <td>26.768042</td>\n",
       "      <td>40.360001</td>\n",
       "      <td>29.129999</td>\n",
       "      <td>45.849998</td>\n",
       "      <td>35.996487</td>\n",
       "      <td>45.700001</td>\n",
       "      <td>52.919998</td>\n",
       "      <td>...</td>\n",
       "      <td>27.49</td>\n",
       "      <td>31.049999</td>\n",
       "      <td>29.012968</td>\n",
       "      <td>15.240000</td>\n",
       "      <td>68.620003</td>\n",
       "      <td>22.049999</td>\n",
       "      <td>92.080002</td>\n",
       "      <td>NaN</td>\n",
       "      <td>26.470165</td>\n",
       "      <td>64.563110</td>\n",
       "    </tr>\n",
       "    <tr>\n",
       "      <th>2008-01-07 00:00:00</th>\n",
       "      <td>25.278971</td>\n",
       "      <td>6.344286</td>\n",
       "      <td>0.99545</td>\n",
       "      <td>27.588499</td>\n",
       "      <td>40.240002</td>\n",
       "      <td>28.760000</td>\n",
       "      <td>45.860001</td>\n",
       "      <td>36.777874</td>\n",
       "      <td>46.720001</td>\n",
       "      <td>53.610001</td>\n",
       "      <td>...</td>\n",
       "      <td>27.68</td>\n",
       "      <td>31.570000</td>\n",
       "      <td>28.866232</td>\n",
       "      <td>15.520000</td>\n",
       "      <td>68.129997</td>\n",
       "      <td>22.389999</td>\n",
       "      <td>91.220001</td>\n",
       "      <td>NaN</td>\n",
       "      <td>27.088427</td>\n",
       "      <td>66.660194</td>\n",
       "    </tr>\n",
       "    <tr>\n",
       "      <th>2008-01-08 00:00:00</th>\n",
       "      <td>25.243204</td>\n",
       "      <td>6.116071</td>\n",
       "      <td>0.99545</td>\n",
       "      <td>28.312998</td>\n",
       "      <td>39.220001</td>\n",
       "      <td>27.809999</td>\n",
       "      <td>45.020000</td>\n",
       "      <td>36.444248</td>\n",
       "      <td>44.820000</td>\n",
       "      <td>53.310001</td>\n",
       "      <td>...</td>\n",
       "      <td>26.50</td>\n",
       "      <td>31.730000</td>\n",
       "      <td>29.021120</td>\n",
       "      <td>15.323333</td>\n",
       "      <td>66.699997</td>\n",
       "      <td>22.160000</td>\n",
       "      <td>90.050003</td>\n",
       "      <td>NaN</td>\n",
       "      <td>26.398275</td>\n",
       "      <td>65.291260</td>\n",
       "    </tr>\n",
       "  </tbody>\n",
       "</table>\n",
       "<p>5 rows × 260 columns</p>\n",
       "</div>"
      ],
      "text/plain": [
       "                             A      AAPL      ABK        ABT       ADBE  \\\n",
       "Date                                                                      \n",
       "2008-01-02 00:00:00  25.965666  6.958571  1.08878  26.777637  41.709999   \n",
       "2008-01-03 00:00:00  25.708155  6.961786  1.02656  26.614506  41.790001   \n",
       "2008-01-04 00:00:00  24.871244  6.430357  1.02656  26.768042  40.360001   \n",
       "2008-01-07 00:00:00  25.278971  6.344286  0.99545  27.588499  40.240002   \n",
       "2008-01-08 00:00:00  25.243204  6.116071  0.99545  28.312998  39.220001   \n",
       "\n",
       "                           ADI        ADM        ADP       ADSK        AEE  \\\n",
       "Date                                                                         \n",
       "2008-01-02 00:00:00  30.370001  45.259998  37.945564  48.240002  53.349998   \n",
       "2008-01-03 00:00:00  29.910000  45.730000  37.664619  47.840000  53.310001   \n",
       "2008-01-04 00:00:00  29.129999  45.849998  35.996487  45.700001  52.919998   \n",
       "2008-01-07 00:00:00  28.760000  45.860001  36.777874  46.720001  53.610001   \n",
       "2008-01-08 00:00:00  27.809999  45.020000  36.444248  44.820000  53.310001   \n",
       "\n",
       "                     ...    WFC         WM        WMB        WMT         WY  \\\n",
       "Date                 ...                                                      \n",
       "2008-01-02 00:00:00  ...  29.10  32.259998  29.167856  15.633333  71.519997   \n",
       "2008-01-03 00:00:00  ...  28.52  32.259998  29.917839  15.460000  72.199997   \n",
       "2008-01-04 00:00:00  ...  27.49  31.049999  29.012968  15.240000  68.620003   \n",
       "2008-01-07 00:00:00  ...  27.68  31.570000  28.866232  15.520000  68.129997   \n",
       "2008-01-08 00:00:00  ...  26.50  31.730000  29.021120  15.323333  66.699997   \n",
       "\n",
       "                           XEL        XOM  YHOO        YUM        ZBH  \n",
       "Date                                                                   \n",
       "2008-01-02 00:00:00  22.170000  93.510002   NaN  27.232206  64.359222  \n",
       "2008-01-03 00:00:00  22.299999  93.830002   NaN  26.851187  64.427185  \n",
       "2008-01-04 00:00:00  22.049999  92.080002   NaN  26.470165  64.563110  \n",
       "2008-01-07 00:00:00  22.389999  91.220001   NaN  27.088427  66.660194  \n",
       "2008-01-08 00:00:00  22.160000  90.050003   NaN  26.398275  65.291260  \n",
       "\n",
       "[5 rows x 260 columns]"
      ]
     },
     "execution_count": 5,
     "metadata": {},
     "output_type": "execute_result"
    }
   ],
   "source": [
    "tickers_all = list(set(tickers) | set(tickers_mov))\n",
    "tickers_all.insert(0, 'SPY')\n",
    "data = yf.download(tickers_all, desde, hasta)['Close']\n",
    "\n",
    "data.head()"
   ]
  },
  {
   "cell_type": "markdown",
   "metadata": {},
   "source": [
    "### Se eliminan las acciones que todos sus precios sean nulos, y las que en algún precio no tiene datos, se le asigna el valor siguiente con datos. Si los primeros valores son nulos, se les asigna el valor siguiente con datos."
   ]
  },
  {
   "cell_type": "code",
   "execution_count": 6,
   "metadata": {},
   "outputs": [],
   "source": [
    "data = data.dropna(axis=1, how=\"all\")\n",
    "data.fillna(method=\"ffill\", inplace=True)\n",
    "data.fillna(method=\"bfill\", inplace=True)"
   ]
  },
  {
   "cell_type": "markdown",
   "metadata": {},
   "source": [
    "### Se guarda el dataset"
   ]
  },
  {
   "cell_type": "code",
   "execution_count": 7,
   "metadata": {},
   "outputs": [],
   "source": [
    "data.to_csv (\"../datos/sp500.csv\")"
   ]
  },
  {
   "cell_type": "markdown",
   "metadata": {},
   "source": [
    "### Conclusiones\n",
    "\n",
    "Se ha creado el conjunto de datos del SP500, siguiendo las reglas mencionadas al principio del notebook, para guardarlo en un fichero que el resto de notebooks utilizará.\n"
   ]
  }
 ],
 "metadata": {
  "kernelspec": {
   "display_name": "python39",
   "language": "python",
   "name": "python39"
  },
  "language_info": {
   "codemirror_mode": {
    "name": "ipython",
    "version": 3
   },
   "file_extension": ".py",
   "mimetype": "text/x-python",
   "name": "python",
   "nbconvert_exporter": "python",
   "pygments_lexer": "ipython3",
   "version": "3.9.13"
  }
 },
 "nbformat": 4,
 "nbformat_minor": 5
}
