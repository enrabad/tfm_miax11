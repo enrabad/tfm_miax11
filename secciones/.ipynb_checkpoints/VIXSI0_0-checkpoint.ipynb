{
 "cells": [
  {
   "cell_type": "markdown",
   "metadata": {
    "id": "pid7thaAix3z"
   },
   "source": [
    "### SEÑAL VIXSI\n",
    "\n",
    "VIXSI es una señal que tiene dos valores:\n",
    "\n",
    "1: estar comprado\n",
    "-1: estar en corto o fuera de mercado.\n",
    "\n",
    "El objetivo es que la señal actúe de cobertura para un activo, desinvirtiendo o invirtiendo en corto cuando la señal es -1, intentando evitar o ir en contra de los momentos de mercado con exceso de confianza (valor -1), con la idea de que estos momentos de mercado son propicios a grandes caídas a la más ligera mala noticia.\n",
    "\n",
    "Se puede acceder a los datos históricos recogidos de esta señal en el fichero \"vixsi.csv\" ó a la api 'http://5.250.185.6:5001/api/datos' en tiempo real.\n",
    "\n"
   ]
  },
  {
   "cell_type": "code",
   "execution_count": 4,
   "metadata": {
    "id": "hmCJ-ZQ6jH0Z"
   },
   "outputs": [
    {
     "name": "stdout",
     "output_type": "stream",
     "text": [
      "The autoreload extension is already loaded. To reload it, use:\n",
      "  %reload_ext autoreload\n"
     ]
    }
   ],
   "source": [
    "#Importamos las librerias necesarias\n",
    "import pandas as pd\n",
    "import numpy as np\n",
    "import matplotlib.pyplot as plt\n",
    "import requests\n",
    "\n",
    "%matplotlib inline\n",
    "%load_ext autoreload\n",
    "%autoreload 2\n"
   ]
  },
  {
   "cell_type": "code",
   "execution_count": null,
   "metadata": {},
   "outputs": [],
   "source": [
    "desde = \"2008-01-01\"\n",
    "hasta = datetime.now().strftime(\"%Y-%m-%d\")\n",
    "VIX = yf.download(tickers=\"^VIX\", start=desde, end=hasta)\n",
    "SPY = yf.download(tickers=\"SPY\", start=desde, end=hasta, auto_adjust=False)\n",
    "datos = pd.concat([VIX.Close,SPY.Close], axis=1).dropna()\n",
    "datos.columns = [\"VIX\",\"SPY\"]\n",
    "\n",
    "def vixsignal (datos, vix=\"VIX\", benchmark=\"SPY\"):\n",
    "    rets = datos[benchmark].pct_change()\n",
    "    fvixsi = rets - datos[vix]/(np.sqrt(256)*100)\n",
    "    #vixsi = datos[vix]/(np.sqrt(256)*100)\n",
    "    vixsi = np.where ((fvixsi > 0), -1, 1)\n",
    "    fvixsi1 = np.abs(rets) - datos[vix]/(np.sqrt(256)*100)\n",
    "    vixsi1 = np.where (((rets < 0) & (fvixsi1>0)), 0, vixsi)\n",
    "    return vixsi, vixsi1\n",
    "\n",
    "vixsi_df = pd.DataFrame(index=datos.index)\n",
    "vixsi, vixsi1 =  vixsignal (datos)\n",
    "#vixsi_df[\"SPY\"] = datos.SPY\n",
    "vixsi_df[\"VIXSI\"] = vixsi\n",
    "vixsi_df.dropna(inplace=True)\n",
    "vixsi_df.to_csv(\"../datos/VIXSI.csv\")\n",
    "vixsi_df[\"VIXSI1\"] = vixsi1"
   ]
  },
  {
   "cell_type": "code",
   "execution_count": 2,
   "metadata": {},
   "outputs": [
    {
     "name": "stdout",
     "output_type": "stream",
     "text": [
      "Archivo cargado correctamente: ../datos\\vixsi_1m__2024-09-24.csv\n",
      "Archivo cargado correctamente: ../datos\\vixsi_1m__2024-09-27.csv\n",
      "Archivo cargado correctamente: ../datos\\vixsi_1m__2024-10-02.csv\n",
      "Archivo cargado correctamente: ../datos\\vixsi_1m__2024-10-07.csv\n",
      "Archivo cargado correctamente: ../datos\\vixsi_1m__2024-10-10.csv\n",
      "Archivo cargado correctamente: ../datos\\vixsi_1m__2024-12-04.csv\n",
      "Archivo cargado correctamente: ../datos\\vixsi_1m__2024-12-09.csv\n",
      "Archivo cargado correctamente: ../datos\\vixsi_1m__2024-12-12.csv\n",
      "Todos los dataframes se han concatenado correctamente.\n"
     ]
    }
   ],
   "source": [
    "import glob\n",
    "import os\n",
    "\n",
    "# Patrón de búsqueda de archivos\n",
    "patron_archivos = \"vixsi*2024*csv\"\n",
    "\n",
    "# Lista para almacenar los dataframes\n",
    "dataframes = []\n",
    "\n",
    "# Directorio actual (ajustar si los archivos están en otro directorio)\n",
    "directorio = \"../datos/\"  \n",
    "\n",
    "# Buscar archivos que coincidan con el patrón\n",
    "archivos = glob.glob(os.path.join(directorio, patron_archivos))\n",
    "\n",
    "# Leer cada archivo y añadirlo a la lista de dataframes\n",
    "for archivo in archivos:\n",
    "    try:\n",
    "        # Cargar el archivo CSV y establecer la primera columna como índice con formato de fecha\n",
    "        df = pd.read_csv(archivo, index_col=0)\n",
    "        dataframes.append(df)\n",
    "        print(f\"Archivo cargado correctamente: {archivo}\")\n",
    "    except Exception as e:\n",
    "        print(f\"Error al cargar el archivo {archivo}: {e}\")\n",
    "\n",
    "# Concatenar todos los dataframes en uno solo\n",
    "if dataframes:\n",
    "    df_final = pd.concat(dataframes, axis=0)  # axis=0 para concatenar por filas\n",
    "    print(\"Todos los dataframes se han concatenado correctamente.\")\n",
    "else:\n",
    "    df_final = pd.DataFrame()  # Si no hay archivos, se crea un dataframe vacío\n",
    "    print(\"No se encontraron archivos que coincidan con el patrón.\")\n",
    "\n",
    "# Mostrar el resultado (opcional)\n",
    "#print(df_final.head())\n",
    "df_final.index = pd.to_datetime(df_final.index, utc=True)\n",
    "df_final = df_final.resample('D').last().dropna()\n",
    "df_final.index = pd.to_datetime(df_final.index.strftime('%Y-%m-%d'))"
   ]
  },
  {
   "cell_type": "markdown",
   "metadata": {},
   "source": [
    "### Obtener datos históricos de VIXSI desde fichero\n"
   ]
  },
  {
   "cell_type": "code",
   "execution_count": 20,
   "metadata": {},
   "outputs": [
    {
     "data": {
      "text/html": [
       "<div>\n",
       "<style scoped>\n",
       "    .dataframe tbody tr th:only-of-type {\n",
       "        vertical-align: middle;\n",
       "    }\n",
       "\n",
       "    .dataframe tbody tr th {\n",
       "        vertical-align: top;\n",
       "    }\n",
       "\n",
       "    .dataframe thead th {\n",
       "        text-align: right;\n",
       "    }\n",
       "</style>\n",
       "<table border=\"1\" class=\"dataframe\">\n",
       "  <thead>\n",
       "    <tr style=\"text-align: right;\">\n",
       "      <th></th>\n",
       "      <th>VIXSI</th>\n",
       "      <th>VIXSI_REAL</th>\n",
       "    </tr>\n",
       "  </thead>\n",
       "  <tbody>\n",
       "    <tr>\n",
       "      <th>2024-09-19</th>\n",
       "      <td>NaN</td>\n",
       "      <td>0.0</td>\n",
       "    </tr>\n",
       "    <tr>\n",
       "      <th>2024-09-20</th>\n",
       "      <td>NaN</td>\n",
       "      <td>0.0</td>\n",
       "    </tr>\n",
       "    <tr>\n",
       "      <th>2024-09-23</th>\n",
       "      <td>NaN</td>\n",
       "      <td>0.0</td>\n",
       "    </tr>\n",
       "    <tr>\n",
       "      <th>2024-09-24</th>\n",
       "      <td>NaN</td>\n",
       "      <td>0.0</td>\n",
       "    </tr>\n",
       "    <tr>\n",
       "      <th>2024-09-25</th>\n",
       "      <td>NaN</td>\n",
       "      <td>0.0</td>\n",
       "    </tr>\n",
       "    <tr>\n",
       "      <th>2024-09-26</th>\n",
       "      <td>NaN</td>\n",
       "      <td>0.0</td>\n",
       "    </tr>\n",
       "    <tr>\n",
       "      <th>2024-09-27</th>\n",
       "      <td>NaN</td>\n",
       "      <td>0.0</td>\n",
       "    </tr>\n",
       "    <tr>\n",
       "      <th>2024-09-30</th>\n",
       "      <td>NaN</td>\n",
       "      <td>0.0</td>\n",
       "    </tr>\n",
       "    <tr>\n",
       "      <th>2024-10-01</th>\n",
       "      <td>NaN</td>\n",
       "      <td>0.0</td>\n",
       "    </tr>\n",
       "    <tr>\n",
       "      <th>2024-10-02</th>\n",
       "      <td>NaN</td>\n",
       "      <td>0.0</td>\n",
       "    </tr>\n",
       "    <tr>\n",
       "      <th>2024-10-03</th>\n",
       "      <td>NaN</td>\n",
       "      <td>0.0</td>\n",
       "    </tr>\n",
       "    <tr>\n",
       "      <th>2024-10-04</th>\n",
       "      <td>NaN</td>\n",
       "      <td>0.0</td>\n",
       "    </tr>\n",
       "    <tr>\n",
       "      <th>2024-10-07</th>\n",
       "      <td>NaN</td>\n",
       "      <td>0.0</td>\n",
       "    </tr>\n",
       "    <tr>\n",
       "      <th>2024-10-08</th>\n",
       "      <td>NaN</td>\n",
       "      <td>0.0</td>\n",
       "    </tr>\n",
       "    <tr>\n",
       "      <th>2024-10-09</th>\n",
       "      <td>NaN</td>\n",
       "      <td>0.0</td>\n",
       "    </tr>\n",
       "    <tr>\n",
       "      <th>2024-10-10</th>\n",
       "      <td>NaN</td>\n",
       "      <td>0.0</td>\n",
       "    </tr>\n",
       "    <tr>\n",
       "      <th>2024-10-11</th>\n",
       "      <td>NaN</td>\n",
       "      <td>0.0</td>\n",
       "    </tr>\n",
       "    <tr>\n",
       "      <th>2024-12-03</th>\n",
       "      <td>NaN</td>\n",
       "      <td>0.0</td>\n",
       "    </tr>\n",
       "    <tr>\n",
       "      <th>2024-12-04</th>\n",
       "      <td>NaN</td>\n",
       "      <td>0.0</td>\n",
       "    </tr>\n",
       "    <tr>\n",
       "      <th>2024-12-05</th>\n",
       "      <td>NaN</td>\n",
       "      <td>0.0</td>\n",
       "    </tr>\n",
       "    <tr>\n",
       "      <th>2024-12-06</th>\n",
       "      <td>NaN</td>\n",
       "      <td>0.0</td>\n",
       "    </tr>\n",
       "    <tr>\n",
       "      <th>2024-12-09</th>\n",
       "      <td>NaN</td>\n",
       "      <td>0.0</td>\n",
       "    </tr>\n",
       "    <tr>\n",
       "      <th>2024-12-10</th>\n",
       "      <td>NaN</td>\n",
       "      <td>0.0</td>\n",
       "    </tr>\n",
       "    <tr>\n",
       "      <th>2024-12-11</th>\n",
       "      <td>NaN</td>\n",
       "      <td>0.0</td>\n",
       "    </tr>\n",
       "    <tr>\n",
       "      <th>2024-12-12</th>\n",
       "      <td>NaN</td>\n",
       "      <td>0.0</td>\n",
       "    </tr>\n",
       "  </tbody>\n",
       "</table>\n",
       "</div>"
      ],
      "text/plain": [
       "            VIXSI  VIXSI_REAL\n",
       "2024-09-19    NaN         0.0\n",
       "2024-09-20    NaN         0.0\n",
       "2024-09-23    NaN         0.0\n",
       "2024-09-24    NaN         0.0\n",
       "2024-09-25    NaN         0.0\n",
       "2024-09-26    NaN         0.0\n",
       "2024-09-27    NaN         0.0\n",
       "2024-09-30    NaN         0.0\n",
       "2024-10-01    NaN         0.0\n",
       "2024-10-02    NaN         0.0\n",
       "2024-10-03    NaN         0.0\n",
       "2024-10-04    NaN         0.0\n",
       "2024-10-07    NaN         0.0\n",
       "2024-10-08    NaN         0.0\n",
       "2024-10-09    NaN         0.0\n",
       "2024-10-10    NaN         0.0\n",
       "2024-10-11    NaN         0.0\n",
       "2024-12-03    NaN         0.0\n",
       "2024-12-04    NaN         0.0\n",
       "2024-12-05    NaN         0.0\n",
       "2024-12-06    NaN         0.0\n",
       "2024-12-09    NaN         0.0\n",
       "2024-12-10    NaN         0.0\n",
       "2024-12-11    NaN         0.0\n",
       "2024-12-12    NaN         0.0"
      ]
     },
     "execution_count": 20,
     "metadata": {},
     "output_type": "execute_result"
    }
   ],
   "source": [
    "vixsi_datos = pd.read_csv(\"../datos/vixsi.csv\", index_col=0)\n",
    "vixsi_datos.index = pd.to_datetime(vixsi_datos.index)\n",
    "vixsi_real = vixsi_datos.loc[df_final.index]\n",
    "vixsi_real[\"VIXSI_REAL\"] = df_final[\"VIXSI\"]\n",
    "vixsi_real.diff(axis=1)"
   ]
  },
  {
   "cell_type": "markdown",
   "metadata": {},
   "source": [
    "### Obtener VIXSI en tiempo real"
   ]
  },
  {
   "cell_type": "code",
   "execution_count": 6,
   "metadata": {},
   "outputs": [
    {
     "name": "stdout",
     "output_type": "stream",
     "text": [
      "2024-12-16 1\n"
     ]
    }
   ],
   "source": [
    "base_url = 'http://5.250.185.6:5001/api/datos'\n",
    "headers = {'Authorization': \"genVIXSI\"}\n",
    "\n",
    "response = requests.get(base_url, headers=headers)\n",
    "if response.status_code == 200:\n",
    "        data = response.json()\n",
    "        print(data[\"Date\"], data[\"vixsi\"])\n",
    "else:\n",
    "        print('Error al hacer la solicitud:', response.status_code)\n"
   ]
  },
  {
   "cell_type": "markdown",
   "metadata": {},
   "source": [
    "### Funciona para detectar movimientos bajistas?"
   ]
  },
  {
   "cell_type": "code",
   "execution_count": 7,
   "metadata": {},
   "outputs": [
    {
     "name": "stdout",
     "output_type": "stream",
     "text": [
      "[*********************100%***********************]  1 of 1 completed\n"
     ]
    }
   ],
   "source": [
    "import yfinance as yf\n",
    "\n",
    "vixsi_datos.index = pd.to_datetime(vixsi_datos.index)\n",
    "desde = vixsi_datos.index[0].strftime(\"%Y-%m-%d\")\n",
    "hasta = vixsi_datos.index[-1].strftime(\"%Y-%m-%d\")\n",
    "spy_datos = yf.download(\"SPY\", start=desde, end=hasta)\n",
    "datos = pd.concat([vixsi_datos.VIXSI, spy_datos.Close], axis=1).dropna()\n",
    "datos.columns = [\"vixsignal\",\"SPY\"]\n",
    "datos[\"retSPY\"] = datos.SPY.pct_change()\n",
    "datos.dropna(inplace=True)\n"
   ]
  },
  {
   "cell_type": "code",
   "execution_count": 24,
   "metadata": {},
   "outputs": [
    {
     "data": {
      "text/plain": [
       "(count    4261.000000\n",
       " mean        0.000416\n",
       " std         0.012627\n",
       " min        -0.109424\n",
       " 25%        -0.004229\n",
       " 50%         0.000634\n",
       " 75%         0.005970\n",
       " max         0.145198\n",
       " Name: retSPY, dtype: float64,\n",
       " count    496.000000\n",
       " mean       0.001641\n",
       " std        0.012711\n",
       " min       -0.069291\n",
       " 25%       -0.003926\n",
       " 50%       -0.000000\n",
       " 75%        0.005515\n",
       " max        0.109424\n",
       " Name: retSPY, dtype: float64)"
      ]
     },
     "execution_count": 24,
     "metadata": {},
     "output_type": "execute_result"
    }
   ],
   "source": [
    "datos.retSPY.describe(), (datos[datos.vixsignal.shift(1) == -1].retSPY*-1).describe()"
   ]
  }
 ],
 "metadata": {
  "accelerator": "GPU",
  "colab": {
   "provenance": [
    {
     "file_id": "1Msh4cLcjnhzoqDvJyqVELcqHZKZYl2fk",
     "timestamp": 1551434518723
    }
   ]
  },
  "kernelspec": {
   "display_name": "python39",
   "language": "python",
   "name": "python39"
  },
  "language_info": {
   "codemirror_mode": {
    "name": "ipython",
    "version": 3
   },
   "file_extension": ".py",
   "mimetype": "text/x-python",
   "name": "python",
   "nbconvert_exporter": "python",
   "pygments_lexer": "ipython3",
   "version": "3.9.13"
  }
 },
 "nbformat": 4,
 "nbformat_minor": 2
}
