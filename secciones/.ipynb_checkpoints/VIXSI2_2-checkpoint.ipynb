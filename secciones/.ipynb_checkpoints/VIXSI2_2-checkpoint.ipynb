{
 "cells": [
  {
   "cell_type": "markdown",
   "metadata": {},
   "source": [
    "### Analizar alpha de la estrategia con otros activos del SP500\n",
    "\n",
    "En este notebook se calculan los alphas anualizados de la estrategia con los activos del dataset del SP500. \n",
    "\n",
    "Se comparan los alphas con el alpha de la estrategia VIXSI con SPY\n"
   ]
  },
  {
   "cell_type": "code",
   "execution_count": 1,
   "metadata": {},
   "outputs": [],
   "source": [
    "#Importamos las librerias necesarias\n",
    "\n",
    "import pandas as pd\n",
    "import numpy as np\n",
    "import matplotlib.pyplot as plt\n",
    "\n",
    "import yfinance as yf\n",
    "import requests\n",
    "\n",
    "%matplotlib inline\n",
    "%load_ext autoreload\n",
    "%autoreload 2\n",
    "import warnings\n",
    "warnings.filterwarnings('ignore')\n",
    "\n"
   ]
  },
  {
   "cell_type": "markdown",
   "metadata": {},
   "source": [
    "### Se cargar la señal vixsi"
   ]
  },
  {
   "cell_type": "code",
   "execution_count": 2,
   "metadata": {},
   "outputs": [],
   "source": [
    "datos_vixsi = pd.read_csv(\"../datos/VIXSI.csv\", index_col=0)\n",
    "datos_vixsi.index = pd.to_datetime(datos_vixsi.index)"
   ]
  },
  {
   "cell_type": "markdown",
   "metadata": {},
   "source": [
    "### Se carga el dataset del sp500"
   ]
  },
  {
   "cell_type": "code",
   "execution_count": 3,
   "metadata": {},
   "outputs": [],
   "source": [
    "data = pd.read_csv(\"../datos/sp500.csv\", index_col=0)\n",
    "data.index = pd.to_datetime(data.index)"
   ]
  },
  {
   "cell_type": "markdown",
   "metadata": {},
   "source": [
    "### Se calcula la estrategia únicamente en corto\n",
    "\n",
    "cuando vixsi es 1, el activo está fuera de mercado, cuando es -1, está en corto\n"
   ]
  },
  {
   "cell_type": "code",
   "execution_count": 4,
   "metadata": {},
   "outputs": [],
   "source": [
    "data = data.dropna(axis=1, how=\"all\")\n",
    "data.index = pd.to_datetime(data.index)\n",
    "datos_vixsi = datos_vixsi.loc[data.index]\n",
    "\n",
    "estrcorto = pd.DataFrame(\n",
    "             np.array(np.log(data).diff()) * np.array((datos_vixsi.VIXSI.shift(1) - 1)/2).reshape(-1,1),\n",
    "            index = data.index)\n",
    "estrcorto.columns = data.columns"
   ]
  },
  {
   "cell_type": "markdown",
   "metadata": {},
   "source": [
    "### Se calcula el alpha anual (año por año) de la estrategia aplicada a los activos\n",
    "\n",
    "A partir de los retornos de la estrategia solo en corto, se calcula el alpha anualizando los retornos por año y multiplicándolos por 2"
   ]
  },
  {
   "cell_type": "code",
   "execution_count": 5,
   "metadata": {},
   "outputs": [],
   "source": [
    "df_alpha_ann = estrcorto.resample('A').sum()*2\n",
    "df_alpha_ann.index = df_alpha_ann.index.strftime('%Y')"
   ]
  },
  {
   "cell_type": "code",
   "execution_count": 6,
   "metadata": {},
   "outputs": [
    {
     "name": "stdout",
     "output_type": "stream",
     "text": [
      "% alpha anual activos que superan al alpha de SPY: 50.97%\n",
      "% alpha anual promedio anual de todos los alphas que superan al SPY: 14.64%\n",
      "% alpha anual promedio del SPY: 10.06%\n"
     ]
    }
   ],
   "source": [
    "alfasup = df_alpha_ann.columns[(df_alpha_ann.mean() > df_alpha_ann[\"SPY\"].mean())]\n",
    "print (f\"% alpha anual activos que superan al alpha de SPY: {len(alfasup)/len(df_alpha_ann.columns)*100:.2f}%\")\n",
    "print (f\"% alpha promedio anual de todos los alphas que superan al SPY: {df_alpha_ann[alfasup].mean().mean()*100:.2f}%\")\n",
    "print (f\"% alpha anual promedio del SPY: {df_alpha_ann.SPY.mean()*100:.2f}%\")\n"
   ]
  },
  {
   "cell_type": "markdown",
   "metadata": {},
   "source": [
    "### Se guardan los alphas anuales de todos los activos para el siguiente notebook"
   ]
  },
  {
   "cell_type": "code",
   "execution_count": 7,
   "metadata": {},
   "outputs": [],
   "source": [
    "df_alpha_ann.to_csv (\"../datos/alphas_ann.csv\")"
   ]
  },
  {
   "cell_type": "markdown",
   "metadata": {},
   "source": [
    "### Resumen\n",
    "\n",
    "La mitad de las acciones del SP500 tiene un alpha anual medio superior al SPY, y el alpha anual de los activos que superan a SPY es 6% más alto que el alpha del SPY, con lo que en principio no parace muy difícil encontrar una cartera de acciones del SP500 cuyo alpha anual supere al alpha del SPY para sustituirlo por dicha cartera en la cobertura de la estrategia VIXSI. En los siguientes notebooks se describirán técnicas de selección de carteras.\n"
   ]
  }
 ],
 "metadata": {
  "kernelspec": {
   "display_name": "python39",
   "language": "python",
   "name": "python39"
  },
  "language_info": {
   "codemirror_mode": {
    "name": "ipython",
    "version": 3
   },
   "file_extension": ".py",
   "mimetype": "text/x-python",
   "name": "python",
   "nbconvert_exporter": "python",
   "pygments_lexer": "ipython3",
   "version": "3.9.13"
  }
 },
 "nbformat": 4,
 "nbformat_minor": 5
}
