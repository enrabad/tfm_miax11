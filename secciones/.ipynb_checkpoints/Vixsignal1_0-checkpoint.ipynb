{
 "cells": [
  {
   "cell_type": "markdown",
   "metadata": {},
   "source": [
    "## Que es el VIX?\n",
    "\n",
    "De manera resumida, se puede decir que el Vix (Volatility Index)  mide las expectativas del mercado sobre la volatilidad implícita a 30 días en los precios ATM de las opciones del SP500 utilizando las opciones con más de 23 días y menos de 37 días hasta el vencimiento.\n",
    "\n",
    "## Como se interpreta?\n",
    "\n",
    "Hay varias maneras de interpretar el VIX, la más conocida es la que relaciona diferentes niveles del VIX con la situación del mercado. (hasta 20 mercado alcista, entre 20 y 30 mercado volatil y mayor que 30 mercado bajista). Sin embargo, el VIX también se puede utilizar para crear señales de sobrevaloración y infravaloración de la volatilidad del SP500.\n",
    "\n",
    "## Creación de la señal basada en el VIX\n",
    "\n",
    "Utilizando esta última interpretación, la de la volatilidad infravalorada del SP500, se crea una señal diaria, que es 1 por defecto excepto para los casos en los que la volatilidad está infravalorada, que será -1. Dicha señal se denominará a partir de ahora VIXSI, y por defecto se calcula a final de día de las acciones/ETFs americanos.\n",
    "\n",
    "## Obtención VIX en tiempo real\n",
    "\n",
    "El valor del VIX en tiempo real se obtiene al final de dia de la cotización de las acciones/ETF americanos (1 minuto antes). Este dato se extrae por scpraping de la web \"investing.com\" debido a que yfinance muestra un retardo de 15 minutos.\n",
    "\n",
    "[Tiempo real VIX desde investing versus yfinance](#tiempo_real_VIX)\n",
    "\n",
    "\n",
    "## Obtención datos históricos señal VIXSI a final de día\n",
    "\n",
    "Se establece un periodo histórico desde 2008 (en el 2014 se crearon las opciones semanales del SP500). Los datos históricos del VIX se obtienen a partir de los datos del final de día VIX en yfinance, a pesar de que hay una pequeña diferencia de tiempo entre el cierre del VIX y el cierre de las acciones/ETFs americanos, que es cuando se obtiene el valor en tiempo real del VIX.\n",
    "\n",
    "[Ver diferencia cierres SPY y VIX](#diferencia_cierres)\n",
    "\n",
    "Los datos históricos para el estudio de esta señal abarcan un periodo entre el 01-01-2008 y el 01-01-2024.\n",
    "\n",
    "[datos históricos VIXSI](#vixsi_hist)\n",
    "\n"
   ]
  },
  {
   "cell_type": "code",
   "execution_count": 1,
   "metadata": {},
   "outputs": [],
   "source": [
    "#%pip install --upgrade investpy\n",
    "\n",
    "import pandas as pd\n",
    "import numpy as np\n",
    "\n",
    "import warnings\n",
    "warnings.filterwarnings('ignore')\n",
    "\n",
    "import matplotlib.pyplot as plt\n",
    "%matplotlib inline\n",
    "plt.style.use('seaborn-darkgrid')\n",
    "\n",
    "import yfinance as yf\n",
    "from bs4 import BeautifulSoup\n",
    "import requests\n",
    "from datetime import datetime\n",
    "from datetime import timedelta\n",
    "from dateutil.relativedelta import relativedelta\n",
    "import time\n"
   ]
  },
  {
   "cell_type": "code",
   "execution_count": 54,
   "metadata": {},
   "outputs": [
    {
     "name": "stdout",
     "output_type": "stream",
     "text": [
      "[*********************100%***********************]  1 of 1 completed\n",
      "no hay datos nuevos\n"
     ]
    },
    {
     "data": {
      "text/html": [
       "<div>\n",
       "<style scoped>\n",
       "    .dataframe tbody tr th:only-of-type {\n",
       "        vertical-align: middle;\n",
       "    }\n",
       "\n",
       "    .dataframe tbody tr th {\n",
       "        vertical-align: top;\n",
       "    }\n",
       "\n",
       "    .dataframe thead th {\n",
       "        text-align: right;\n",
       "    }\n",
       "</style>\n",
       "<table border=\"1\" class=\"dataframe\">\n",
       "  <thead>\n",
       "    <tr style=\"text-align: right;\">\n",
       "      <th></th>\n",
       "      <th>VIXSI</th>\n",
       "    </tr>\n",
       "  </thead>\n",
       "  <tbody>\n",
       "    <tr>\n",
       "      <th>2024-09-19 10:58:00-04:00</th>\n",
       "      <td>-1.0</td>\n",
       "    </tr>\n",
       "    <tr>\n",
       "      <th>2024-09-19 10:59:00-04:00</th>\n",
       "      <td>-1.0</td>\n",
       "    </tr>\n",
       "  </tbody>\n",
       "</table>\n",
       "</div>"
      ],
      "text/plain": [
       "                           VIXSI\n",
       "2024-09-19 10:58:00-04:00   -1.0\n",
       "2024-09-19 10:59:00-04:00   -1.0"
      ]
     },
     "execution_count": 54,
     "metadata": {},
     "output_type": "execute_result"
    }
   ],
   "source": [
    "def generar_vixsi_1m (fichero=\"\"):\n",
    "    '''\n",
    "    \n",
    "    '''\n",
    "\n",
    "    spy_yf = yf.download(tickers=\"SPY\", interval=\"1m\")\n",
    "    ultima_fecha = spy_yf.index[-1]\n",
    "    \n",
    "    if fichero != \"\":\n",
    "        pd_vixsi = pd.read_csv(fichero, index_col=0)\n",
    "        pd_vixsi.index = pd.to_datetime(pd_vixsi.index)\n",
    "        if pd_vixsi.index[-1] >= ultima_fecha:\n",
    "            print(\"no hay datos nuevos\")\n",
    "            return\n",
    "    else:\n",
    "        pd_vixsi = pd.DataFrame()\n",
    "\n",
    "    hora_exacta = ultima_fecha.time()\n",
    "    penultimo_dia_misma_hora = ultima_fecha - pd.Timedelta(days=1)\n",
    "    spy_ant = spy_yf.loc[\n",
    "        (spy_yf.index.date == penultimo_dia_misma_hora.date()) & (spy_yf.index.time == hora_exacta)\n",
    "    ]\n",
    "    retspy = (spy_yf.iloc[-1].Close - spy_ant.iloc[-1].Close)/spy_ant.iloc[-1].Close\n",
    "\n",
    "    url = \"https://es.investing.com/indices/volatility-s-p-500-chart\"\n",
    "    response = requests.get(url)\n",
    "    if response.status_code == 200:\n",
    "        html = response.text\n",
    "    else:\n",
    "        print(\"no se ha podido cargar\")\n",
    "    soup = BeautifulSoup(html, \"html.parser\")\n",
    "    vix_inv = soup.find('div', {'data-test': 'instrument-price-last'}).text\n",
    "    fecha_inv = soup.find('time', {'data-test': 'trading-time-label'}).text\n",
    "    vix_inv = float(vix_inv.replace(',', '.'))\n",
    "    \n",
    "    vixsi = retspy - vix_inv/(np.sqrt(256)*100)\n",
    "    vixsi = np.float(np.where ((vixsi > 0), -1, 1))\n",
    "    pd_vixsi1 = pd.DataFrame([vixsi], index=[ultima_fecha])\n",
    "    pd_vixsi1.columns = [\"VIXSI\"]\n",
    "    pd_vixsi = pd.concat([pd_vixsi, pd_vixsi1], axis=0)\n",
    "    pd_vixsi.to_csv(\"vixsi_1m.csv\")\n",
    "\n",
    "#generar_vixsi_1m ()\n",
    "generar_vixsi_1m (fichero=\"vixsi_1m.csv\")\n",
    "pd_vixsi = pd.read_csv(\"vixsi_1m.csv\", index_col=0)\n",
    "pd_vixsi.index = pd.to_datetime(pd_vixsi.index)\n",
    "pd_vixsi"
   ]
  },
  {
   "cell_type": "code",
   "execution_count": 2,
   "metadata": {},
   "outputs": [],
   "source": [
    "from datetime import datetime, timedelta\n",
    "\n",
    "# Fecha inicial y fecha final\n",
    "start_date = datetime(2024, 7, 1)\n",
    "end_date = datetime(2024, 8, 1)\n",
    "\n",
    "# Lista para almacenar los resultados\n",
    "urls = []\n",
    "url1 = \"https://www.alphavantage.co/query?function=TIME_SERIES_INTRADAY&symbol=SPY&interval=30min&month=\"\n",
    "url2 = \"&outputsize=full&adjusted=false&apikey=J8LLECNGFXTR005D&datatype=csv\"\n",
    "\n",
    "# Iterar desde la fecha inicial hasta la fecha final en incrementos de un mes\n",
    "current_date = start_date\n",
    "while current_date <= end_date:\n",
    "    # Agregar el año y mes en formato %Y-%m a la lista\n",
    "    urls.append(url1+current_date.strftime(\"%Y-%m\")+url2)\n",
    "    # Incrementar un mes\n",
    "    next_month = current_date.month % 12 + 1\n",
    "    next_year = current_date.year + (current_date.month // 12)\n",
    "    current_date = datetime(next_year, next_month, 1)\n",
    "\n",
    "# Mostrar la lista generada\n",
    "# print(date_list)\n"
   ]
  },
  {
   "cell_type": "code",
   "execution_count": 29,
   "metadata": {},
   "outputs": [
    {
     "name": "stdout",
     "output_type": "stream",
     "text": [
      "[*********************100%***********************]  1 of 1 completed\n"
     ]
    },
    {
     "data": {
      "text/html": [
       "<div>\n",
       "<style scoped>\n",
       "    .dataframe tbody tr th:only-of-type {\n",
       "        vertical-align: middle;\n",
       "    }\n",
       "\n",
       "    .dataframe tbody tr th {\n",
       "        vertical-align: top;\n",
       "    }\n",
       "\n",
       "    .dataframe thead th {\n",
       "        text-align: right;\n",
       "    }\n",
       "</style>\n",
       "<table border=\"1\" class=\"dataframe\">\n",
       "  <thead>\n",
       "    <tr style=\"text-align: right;\">\n",
       "      <th></th>\n",
       "      <th>Open</th>\n",
       "      <th>High</th>\n",
       "      <th>Low</th>\n",
       "      <th>Close</th>\n",
       "      <th>Adj Close</th>\n",
       "      <th>Volume</th>\n",
       "    </tr>\n",
       "    <tr>\n",
       "      <th>Datetime</th>\n",
       "      <th></th>\n",
       "      <th></th>\n",
       "      <th></th>\n",
       "      <th></th>\n",
       "      <th></th>\n",
       "      <th></th>\n",
       "    </tr>\n",
       "  </thead>\n",
       "  <tbody>\n",
       "    <tr>\n",
       "      <th>2024-07-26 09:30:00</th>\n",
       "      <td>542.280029</td>\n",
       "      <td>543.179993</td>\n",
       "      <td>541.489990</td>\n",
       "      <td>542.900024</td>\n",
       "      <td>542.900024</td>\n",
       "      <td>6262151</td>\n",
       "    </tr>\n",
       "    <tr>\n",
       "      <th>2024-07-26 10:00:00</th>\n",
       "      <td>542.880005</td>\n",
       "      <td>544.630005</td>\n",
       "      <td>542.034973</td>\n",
       "      <td>543.630920</td>\n",
       "      <td>543.630920</td>\n",
       "      <td>3580117</td>\n",
       "    </tr>\n",
       "    <tr>\n",
       "      <th>2024-07-26 10:30:00</th>\n",
       "      <td>543.630005</td>\n",
       "      <td>543.830017</td>\n",
       "      <td>541.669983</td>\n",
       "      <td>543.419983</td>\n",
       "      <td>543.419983</td>\n",
       "      <td>2984467</td>\n",
       "    </tr>\n",
       "    <tr>\n",
       "      <th>2024-07-26 11:00:00</th>\n",
       "      <td>543.429993</td>\n",
       "      <td>544.030029</td>\n",
       "      <td>542.780273</td>\n",
       "      <td>543.210022</td>\n",
       "      <td>543.210022</td>\n",
       "      <td>2461244</td>\n",
       "    </tr>\n",
       "    <tr>\n",
       "      <th>2024-07-26 11:30:00</th>\n",
       "      <td>543.210022</td>\n",
       "      <td>544.960022</td>\n",
       "      <td>542.888977</td>\n",
       "      <td>544.849976</td>\n",
       "      <td>544.849976</td>\n",
       "      <td>4490161</td>\n",
       "    </tr>\n",
       "    <tr>\n",
       "      <th>...</th>\n",
       "      <td>...</td>\n",
       "      <td>...</td>\n",
       "      <td>...</td>\n",
       "      <td>...</td>\n",
       "      <td>...</td>\n",
       "      <td>...</td>\n",
       "    </tr>\n",
       "    <tr>\n",
       "      <th>2024-09-06 13:30:00</th>\n",
       "      <td>540.830017</td>\n",
       "      <td>541.049988</td>\n",
       "      <td>539.890015</td>\n",
       "      <td>540.640015</td>\n",
       "      <td>540.640015</td>\n",
       "      <td>1867499</td>\n",
       "    </tr>\n",
       "    <tr>\n",
       "      <th>2024-09-06 14:00:00</th>\n",
       "      <td>540.650024</td>\n",
       "      <td>540.849976</td>\n",
       "      <td>539.440002</td>\n",
       "      <td>539.989990</td>\n",
       "      <td>539.989990</td>\n",
       "      <td>1810354</td>\n",
       "    </tr>\n",
       "    <tr>\n",
       "      <th>2024-09-06 14:30:00</th>\n",
       "      <td>540.000000</td>\n",
       "      <td>540.650024</td>\n",
       "      <td>539.549988</td>\n",
       "      <td>540.450012</td>\n",
       "      <td>540.450012</td>\n",
       "      <td>3146744</td>\n",
       "    </tr>\n",
       "    <tr>\n",
       "      <th>2024-09-06 15:00:00</th>\n",
       "      <td>540.450012</td>\n",
       "      <td>541.880005</td>\n",
       "      <td>540.400024</td>\n",
       "      <td>541.330017</td>\n",
       "      <td>541.330017</td>\n",
       "      <td>3748176</td>\n",
       "    </tr>\n",
       "    <tr>\n",
       "      <th>2024-09-06 15:30:00</th>\n",
       "      <td>541.330017</td>\n",
       "      <td>541.700012</td>\n",
       "      <td>539.669983</td>\n",
       "      <td>540.419983</td>\n",
       "      <td>540.419983</td>\n",
       "      <td>13567032</td>\n",
       "    </tr>\n",
       "  </tbody>\n",
       "</table>\n",
       "<p>390 rows × 6 columns</p>\n",
       "</div>"
      ],
      "text/plain": [
       "                           Open        High         Low       Close  \\\n",
       "Datetime                                                              \n",
       "2024-07-26 09:30:00  542.280029  543.179993  541.489990  542.900024   \n",
       "2024-07-26 10:00:00  542.880005  544.630005  542.034973  543.630920   \n",
       "2024-07-26 10:30:00  543.630005  543.830017  541.669983  543.419983   \n",
       "2024-07-26 11:00:00  543.429993  544.030029  542.780273  543.210022   \n",
       "2024-07-26 11:30:00  543.210022  544.960022  542.888977  544.849976   \n",
       "...                         ...         ...         ...         ...   \n",
       "2024-09-06 13:30:00  540.830017  541.049988  539.890015  540.640015   \n",
       "2024-09-06 14:00:00  540.650024  540.849976  539.440002  539.989990   \n",
       "2024-09-06 14:30:00  540.000000  540.650024  539.549988  540.450012   \n",
       "2024-09-06 15:00:00  540.450012  541.880005  540.400024  541.330017   \n",
       "2024-09-06 15:30:00  541.330017  541.700012  539.669983  540.419983   \n",
       "\n",
       "                      Adj Close    Volume  \n",
       "Datetime                                   \n",
       "2024-07-26 09:30:00  542.900024   6262151  \n",
       "2024-07-26 10:00:00  543.630920   3580117  \n",
       "2024-07-26 10:30:00  543.419983   2984467  \n",
       "2024-07-26 11:00:00  543.210022   2461244  \n",
       "2024-07-26 11:30:00  544.849976   4490161  \n",
       "...                         ...       ...  \n",
       "2024-09-06 13:30:00  540.640015   1867499  \n",
       "2024-09-06 14:00:00  539.989990   1810354  \n",
       "2024-09-06 14:30:00  540.450012   3146744  \n",
       "2024-09-06 15:00:00  541.330017   3748176  \n",
       "2024-09-06 15:30:00  540.419983  13567032  \n",
       "\n",
       "[390 rows x 6 columns]"
      ]
     },
     "execution_count": 29,
     "metadata": {},
     "output_type": "execute_result"
    }
   ],
   "source": [
    "SPY_yf = yf.download(tickers=\"SPY\",period=\"30d\", interval=\"30m\")\n"
   ]
  },
  {
   "cell_type": "code",
   "execution_count": 30,
   "metadata": {},
   "outputs": [
    {
     "data": {
      "text/html": [
       "<div>\n",
       "<style scoped>\n",
       "    .dataframe tbody tr th:only-of-type {\n",
       "        vertical-align: middle;\n",
       "    }\n",
       "\n",
       "    .dataframe tbody tr th {\n",
       "        vertical-align: top;\n",
       "    }\n",
       "\n",
       "    .dataframe thead th {\n",
       "        text-align: right;\n",
       "    }\n",
       "</style>\n",
       "<table border=\"1\" class=\"dataframe\">\n",
       "  <thead>\n",
       "    <tr style=\"text-align: right;\">\n",
       "      <th></th>\n",
       "      <th>Open</th>\n",
       "      <th>High</th>\n",
       "      <th>Low</th>\n",
       "      <th>Close</th>\n",
       "      <th>Adj Close</th>\n",
       "      <th>Volume</th>\n",
       "    </tr>\n",
       "    <tr>\n",
       "      <th>Datetime</th>\n",
       "      <th></th>\n",
       "      <th></th>\n",
       "      <th></th>\n",
       "      <th></th>\n",
       "      <th></th>\n",
       "      <th></th>\n",
       "    </tr>\n",
       "  </thead>\n",
       "  <tbody>\n",
       "    <tr>\n",
       "      <th>2024-07-31 09:30:00</th>\n",
       "      <td>548.979980</td>\n",
       "      <td>549.260010</td>\n",
       "      <td>547.579895</td>\n",
       "      <td>548.739990</td>\n",
       "      <td>548.739990</td>\n",
       "      <td>7489346</td>\n",
       "    </tr>\n",
       "    <tr>\n",
       "      <th>2024-07-31 10:00:00</th>\n",
       "      <td>548.750000</td>\n",
       "      <td>550.549988</td>\n",
       "      <td>548.469971</td>\n",
       "      <td>550.299988</td>\n",
       "      <td>550.299988</td>\n",
       "      <td>2747266</td>\n",
       "    </tr>\n",
       "    <tr>\n",
       "      <th>2024-07-31 10:30:00</th>\n",
       "      <td>550.289978</td>\n",
       "      <td>551.280029</td>\n",
       "      <td>549.619995</td>\n",
       "      <td>550.559998</td>\n",
       "      <td>550.559998</td>\n",
       "      <td>2893087</td>\n",
       "    </tr>\n",
       "    <tr>\n",
       "      <th>2024-07-31 11:00:00</th>\n",
       "      <td>550.559998</td>\n",
       "      <td>551.229980</td>\n",
       "      <td>550.370117</td>\n",
       "      <td>551.119995</td>\n",
       "      <td>551.119995</td>\n",
       "      <td>1726281</td>\n",
       "    </tr>\n",
       "    <tr>\n",
       "      <th>2024-07-31 11:30:00</th>\n",
       "      <td>551.119995</td>\n",
       "      <td>551.710022</td>\n",
       "      <td>550.280029</td>\n",
       "      <td>550.659973</td>\n",
       "      <td>550.659973</td>\n",
       "      <td>2186371</td>\n",
       "    </tr>\n",
       "    <tr>\n",
       "      <th>2024-07-31 12:00:00</th>\n",
       "      <td>550.684998</td>\n",
       "      <td>551.099976</td>\n",
       "      <td>550.299988</td>\n",
       "      <td>550.510071</td>\n",
       "      <td>550.510071</td>\n",
       "      <td>1167205</td>\n",
       "    </tr>\n",
       "    <tr>\n",
       "      <th>2024-07-31 12:30:00</th>\n",
       "      <td>550.500000</td>\n",
       "      <td>550.914978</td>\n",
       "      <td>550.099976</td>\n",
       "      <td>550.169983</td>\n",
       "      <td>550.169983</td>\n",
       "      <td>1613673</td>\n",
       "    </tr>\n",
       "    <tr>\n",
       "      <th>2024-07-31 13:00:00</th>\n",
       "      <td>550.169983</td>\n",
       "      <td>550.979980</td>\n",
       "      <td>549.919983</td>\n",
       "      <td>550.338623</td>\n",
       "      <td>550.338623</td>\n",
       "      <td>2425492</td>\n",
       "    </tr>\n",
       "    <tr>\n",
       "      <th>2024-07-31 13:30:00</th>\n",
       "      <td>550.330017</td>\n",
       "      <td>550.789978</td>\n",
       "      <td>548.659973</td>\n",
       "      <td>550.289978</td>\n",
       "      <td>550.289978</td>\n",
       "      <td>2858141</td>\n",
       "    </tr>\n",
       "    <tr>\n",
       "      <th>2024-07-31 14:00:00</th>\n",
       "      <td>550.320007</td>\n",
       "      <td>551.304993</td>\n",
       "      <td>549.429993</td>\n",
       "      <td>550.955017</td>\n",
       "      <td>550.955017</td>\n",
       "      <td>2549289</td>\n",
       "    </tr>\n",
       "    <tr>\n",
       "      <th>2024-07-31 14:30:00</th>\n",
       "      <td>550.960022</td>\n",
       "      <td>553.500000</td>\n",
       "      <td>550.479980</td>\n",
       "      <td>553.059998</td>\n",
       "      <td>553.059998</td>\n",
       "      <td>4625189</td>\n",
       "    </tr>\n",
       "    <tr>\n",
       "      <th>2024-07-31 15:00:00</th>\n",
       "      <td>553.049988</td>\n",
       "      <td>553.369995</td>\n",
       "      <td>549.229980</td>\n",
       "      <td>549.679993</td>\n",
       "      <td>549.679993</td>\n",
       "      <td>7407522</td>\n",
       "    </tr>\n",
       "    <tr>\n",
       "      <th>2024-07-31 15:30:00</th>\n",
       "      <td>549.659973</td>\n",
       "      <td>552.266785</td>\n",
       "      <td>549.280029</td>\n",
       "      <td>550.429993</td>\n",
       "      <td>550.429993</td>\n",
       "      <td>15135770</td>\n",
       "    </tr>\n",
       "  </tbody>\n",
       "</table>\n",
       "</div>"
      ],
      "text/plain": [
       "                           Open        High         Low       Close  \\\n",
       "Datetime                                                              \n",
       "2024-07-31 09:30:00  548.979980  549.260010  547.579895  548.739990   \n",
       "2024-07-31 10:00:00  548.750000  550.549988  548.469971  550.299988   \n",
       "2024-07-31 10:30:00  550.289978  551.280029  549.619995  550.559998   \n",
       "2024-07-31 11:00:00  550.559998  551.229980  550.370117  551.119995   \n",
       "2024-07-31 11:30:00  551.119995  551.710022  550.280029  550.659973   \n",
       "2024-07-31 12:00:00  550.684998  551.099976  550.299988  550.510071   \n",
       "2024-07-31 12:30:00  550.500000  550.914978  550.099976  550.169983   \n",
       "2024-07-31 13:00:00  550.169983  550.979980  549.919983  550.338623   \n",
       "2024-07-31 13:30:00  550.330017  550.789978  548.659973  550.289978   \n",
       "2024-07-31 14:00:00  550.320007  551.304993  549.429993  550.955017   \n",
       "2024-07-31 14:30:00  550.960022  553.500000  550.479980  553.059998   \n",
       "2024-07-31 15:00:00  553.049988  553.369995  549.229980  549.679993   \n",
       "2024-07-31 15:30:00  549.659973  552.266785  549.280029  550.429993   \n",
       "\n",
       "                      Adj Close    Volume  \n",
       "Datetime                                   \n",
       "2024-07-31 09:30:00  548.739990   7489346  \n",
       "2024-07-31 10:00:00  550.299988   2747266  \n",
       "2024-07-31 10:30:00  550.559998   2893087  \n",
       "2024-07-31 11:00:00  551.119995   1726281  \n",
       "2024-07-31 11:30:00  550.659973   2186371  \n",
       "2024-07-31 12:00:00  550.510071   1167205  \n",
       "2024-07-31 12:30:00  550.169983   1613673  \n",
       "2024-07-31 13:00:00  550.338623   2425492  \n",
       "2024-07-31 13:30:00  550.289978   2858141  \n",
       "2024-07-31 14:00:00  550.955017   2549289  \n",
       "2024-07-31 14:30:00  553.059998   4625189  \n",
       "2024-07-31 15:00:00  549.679993   7407522  \n",
       "2024-07-31 15:30:00  550.429993  15135770  "
      ]
     },
     "execution_count": 30,
     "metadata": {},
     "output_type": "execute_result"
    }
   ],
   "source": [
    "SPY_yf.loc[\"2024-07-31\"]"
   ]
  },
  {
   "cell_type": "code",
   "execution_count": 31,
   "metadata": {},
   "outputs": [
    {
     "name": "stdout",
     "output_type": "stream",
     "text": [
      "            timestamp    open    high      low   close   volume\n",
      "0 2024-07-31 20:00:00  550.81  550.81  550.810  550.81  3416695\n",
      "1 2024-07-31 19:30:00  553.50  553.64  553.395  553.43    47218\n",
      "2 2024-07-31 19:00:00  552.99  553.61  552.840  553.52   115933\n",
      "3 2024-07-31 18:30:00  550.81  553.15  550.810  552.94  3448209\n",
      "4 2024-07-31 18:00:00  551.99  553.05  551.940  552.79   212269\n",
      "            timestamp     open    high     low   close   volume\n",
      "0 2024-08-30 20:00:00  563.680  563.68  563.68  563.68  2646138\n",
      "1 2024-08-30 19:30:00  563.490  563.60  563.37  563.55    14586\n",
      "2 2024-08-30 19:00:00  563.545  563.63  563.45  563.54     6287\n",
      "3 2024-08-30 18:30:00  563.680  563.68  563.41  563.52  2655884\n",
      "4 2024-08-30 18:00:00  563.570  563.57  563.41  563.42     6787\n"
     ]
    }
   ],
   "source": [
    "import requests\n",
    "import pandas as pd\n",
    "\n",
    "\n",
    "def cargar_mes (url):\n",
    "\n",
    "# Realizar la solicitud HTTP para descargar el archivo CSV\n",
    "    response = requests.get(url)\n",
    "\n",
    "    # Comprobar si la solicitud fue exitosa (código de estado 200)\n",
    "    if response.status_code == 200:\n",
    "        # Leer el contenido descargado en un DataFrame de pandas\n",
    "        from io import StringIO\n",
    "        csv_data = StringIO(response.text)\n",
    "        df = pd.read_csv(csv_data)\n",
    "        df.timestamp = pd.to_datetime(df.timestamp, format=\"%Y-%m-%d %H:%M:%S\")\n",
    "\n",
    "        # Mostrar las primeras filas del DataFrame\n",
    "        print(df.head())\n",
    "    else:\n",
    "        df = pd.DataFrame()\n",
    "        print(f\"Error al descargar el archivo: {response.status_code}\")\n",
    "        \n",
    "    return df\n",
    "\n",
    "datos = pd.DataFrame()\n",
    "for url in urls:\n",
    "    df = cargar_mes(url)\n",
    "    datos = pd.concat([datos, df], axis=0)\n",
    "datos.columns = [\"fecha\", \"open\", \"high\", \"low\", \"close\", \"volume\"]\n",
    "datos.set_index('fecha', inplace=True)\n",
    "datos.sort_index(inplace=True)"
   ]
  },
  {
   "cell_type": "code",
   "execution_count": 44,
   "metadata": {},
   "outputs": [
    {
     "data": {
      "text/html": [
       "<div>\n",
       "<style scoped>\n",
       "    .dataframe tbody tr th:only-of-type {\n",
       "        vertical-align: middle;\n",
       "    }\n",
       "\n",
       "    .dataframe tbody tr th {\n",
       "        vertical-align: top;\n",
       "    }\n",
       "\n",
       "    .dataframe thead th {\n",
       "        text-align: right;\n",
       "    }\n",
       "</style>\n",
       "<table border=\"1\" class=\"dataframe\">\n",
       "  <thead>\n",
       "    <tr style=\"text-align: right;\">\n",
       "      <th></th>\n",
       "      <th>open</th>\n",
       "      <th>high</th>\n",
       "      <th>low</th>\n",
       "      <th>close</th>\n",
       "      <th>volume</th>\n",
       "    </tr>\n",
       "    <tr>\n",
       "      <th>fecha</th>\n",
       "      <th></th>\n",
       "      <th></th>\n",
       "      <th></th>\n",
       "      <th></th>\n",
       "      <th></th>\n",
       "    </tr>\n",
       "  </thead>\n",
       "  <tbody>\n",
       "    <tr>\n",
       "      <th>2024-07-31 19:30:00</th>\n",
       "      <td>553.5</td>\n",
       "      <td>553.64</td>\n",
       "      <td>553.395</td>\n",
       "      <td>553.43</td>\n",
       "      <td>47218</td>\n",
       "    </tr>\n",
       "  </tbody>\n",
       "</table>\n",
       "</div>"
      ],
      "text/plain": [
       "                      open    high      low   close  volume\n",
       "fecha                                                      \n",
       "2024-07-31 19:30:00  553.5  553.64  553.395  553.43   47218"
      ]
     },
     "execution_count": 44,
     "metadata": {},
     "output_type": "execute_result"
    }
   ],
   "source": [
    "datos_dia = datos.groupby(datos.index.date).nth(-2)\n",
    "datos_dia.loc[\"2024-07-31\"]"
   ]
  },
  {
   "cell_type": "code",
   "execution_count": 46,
   "metadata": {},
   "outputs": [
    {
     "data": {
      "text/html": [
       "<div>\n",
       "<style scoped>\n",
       "    .dataframe tbody tr th:only-of-type {\n",
       "        vertical-align: middle;\n",
       "    }\n",
       "\n",
       "    .dataframe tbody tr th {\n",
       "        vertical-align: top;\n",
       "    }\n",
       "\n",
       "    .dataframe thead th {\n",
       "        text-align: right;\n",
       "    }\n",
       "</style>\n",
       "<table border=\"1\" class=\"dataframe\">\n",
       "  <thead>\n",
       "    <tr style=\"text-align: right;\">\n",
       "      <th></th>\n",
       "      <th>Open</th>\n",
       "      <th>High</th>\n",
       "      <th>Low</th>\n",
       "      <th>Close</th>\n",
       "      <th>Adj Close</th>\n",
       "      <th>Volume</th>\n",
       "    </tr>\n",
       "    <tr>\n",
       "      <th>Datetime</th>\n",
       "      <th></th>\n",
       "      <th></th>\n",
       "      <th></th>\n",
       "      <th></th>\n",
       "      <th></th>\n",
       "      <th></th>\n",
       "    </tr>\n",
       "  </thead>\n",
       "  <tbody>\n",
       "    <tr>\n",
       "      <th>2024-07-31 15:00:00</th>\n",
       "      <td>553.049988</td>\n",
       "      <td>553.369995</td>\n",
       "      <td>549.22998</td>\n",
       "      <td>549.679993</td>\n",
       "      <td>549.679993</td>\n",
       "      <td>7407522</td>\n",
       "    </tr>\n",
       "  </tbody>\n",
       "</table>\n",
       "</div>"
      ],
      "text/plain": [
       "                           Open        High        Low       Close  \\\n",
       "Datetime                                                             \n",
       "2024-07-31 15:00:00  553.049988  553.369995  549.22998  549.679993   \n",
       "\n",
       "                      Adj Close   Volume  \n",
       "Datetime                                  \n",
       "2024-07-31 15:00:00  549.679993  7407522  "
      ]
     },
     "execution_count": 46,
     "metadata": {},
     "output_type": "execute_result"
    }
   ],
   "source": [
    "SPY_dia = SPY_yf.groupby(SPY_yf.index.date).nth(-2)\n",
    "SPY_dia.loc[\"2024-07-31\"]"
   ]
  },
  {
   "cell_type": "markdown",
   "metadata": {},
   "source": [
    "### tiempo_real_VIX\n",
    "\n",
    "Como se puede observar, cuando la cotización del VIX está abierta, el valor del VIX de investing es en tiempo real, mientras que el valor de yfinance está retardado unos 15 minutos aprox. (sólo hay que fijarse en los minutos, las horas son diferentes debido al uso horario diferente)."
   ]
  },
  {
   "cell_type": "code",
   "execution_count": 2,
   "metadata": {},
   "outputs": [
    {
     "name": "stdout",
     "output_type": "stream",
     "text": [
      "VIX investing: 16.63 fecha: 13:36:46\n",
      "[*********************100%***********************]  1 of 1 completed\n",
      "VIX yfinance: 16.6200008392334 fecha: 2024-09-19 06:22:00-05:00\n",
      "VIX 16.6200008392334 16.610000610351562\n"
     ]
    }
   ],
   "source": [
    "url = \"https://es.investing.com/indices/volatility-s-p-500-chart\"\n",
    "response = requests.get(url)\n",
    "\n",
    "if response.status_code == 200:\n",
    "    html = response.text\n",
    "else:\n",
    "    print(\"no se ha podido cargar\")\n",
    "\n",
    "soup = BeautifulSoup(html, \"html.parser\")\n",
    "vix_inv = soup.find('div', {'data-test': 'instrument-price-last'}).text\n",
    "fecha_inv = soup.find('time', {'data-test': 'trading-time-label'}).text\n",
    "vix_inv = float(vix_inv.replace(',', '.'))\n",
    "print(\"VIX investing:\", vix_inv, \"fecha:\", fecha_inv)\n",
    "\n",
    "vix_yf = yf.download(tickers=\"^VIX\", interval=\"1m\")\n",
    "print(\"VIX yfinance:\", vix_yf.iloc[-1].Close, \"fecha:\", vix_yf.index[-1])\n",
    "print(\"VIX\", vix_yf.iloc[-1].Close,vix_yf.iloc[-16].Close)"
   ]
  },
  {
   "cell_type": "code",
   "execution_count": 10,
   "metadata": {},
   "outputs": [
    {
     "name": "stdout",
     "output_type": "stream",
     "text": [
      "[*********************100%***********************]  1 of 1 completed\n"
     ]
    }
   ],
   "source": [
    "spy_yf = yf.download(tickers=\"SPY\", interval=\"1m\")\n"
   ]
  },
  {
   "cell_type": "code",
   "execution_count": 12,
   "metadata": {},
   "outputs": [
    {
     "data": {
      "text/plain": [
       "(Timestamp('2024-09-18 15:59:00-0400', tz='America/New_York'),\n",
       " Timestamp('2024-09-11 09:30:00-0400', tz='America/New_York'))"
      ]
     },
     "execution_count": 12,
     "metadata": {},
     "output_type": "execute_result"
    }
   ],
   "source": [
    "spy_yf.index[-1], spy_yf.index[0] - pd.Timedelta(days=1)"
   ]
  },
  {
   "cell_type": "code",
   "execution_count": 15,
   "metadata": {},
   "outputs": [
    {
     "data": {
      "text/plain": [
       "datetime.time(15, 59)"
      ]
     },
     "execution_count": 15,
     "metadata": {},
     "output_type": "execute_result"
    }
   ],
   "source": [
    "ultima_fecha.time()"
   ]
  },
  {
   "cell_type": "code",
   "execution_count": 19,
   "metadata": {},
   "outputs": [
    {
     "data": {
      "text/plain": [
       "Datetime\n",
       "2024-09-17 15:59:00-04:00   -0.003143\n",
       "Name: Close, dtype: float64"
      ]
     },
     "execution_count": 19,
     "metadata": {},
     "output_type": "execute_result"
    }
   ],
   "source": [
    "ultima_fecha = spy_yf.index[-1]\n",
    "hora_exacta = ultima_fecha.time()\n",
    "penultimo_dia_misma_hora = ultima_fecha - pd.Timedelta(days=1)\n",
    "spy_ant = spy_yf.loc[\n",
    "    (spy_yf.index.date == penultimo_dia_misma_hora.date()) & (spy_yf.index.time == hora_exacta)\n",
    "]\n",
    "(spy_yf.iloc[-1].Close - spy_ant.Close)/spy_ant.Close"
   ]
  },
  {
   "cell_type": "code",
   "execution_count": 23,
   "metadata": {},
   "outputs": [
    {
     "name": "stdout",
     "output_type": "stream",
     "text": [
      "[*********************100%***********************]  1 of 1 completed\n"
     ]
    },
    {
     "data": {
      "text/plain": [
       "Open        -0.002407\n",
       "High         0.003724\n",
       "Low          0.000071\n",
       "Close       -0.002966\n",
       "Adj Close   -0.002966\n",
       "Volume       0.191953\n",
       "Name: 2024-09-18 00:00:00, dtype: float64"
      ]
     },
     "execution_count": 23,
     "metadata": {},
     "output_type": "execute_result"
    }
   ],
   "source": [
    "spy = yf.download(tickers=\"SPY\", start=\"2024-09-01\", interval=\"1d\", auto_adjust=False)\n",
    "spy.pct_change().iloc[-1]"
   ]
  },
  {
   "cell_type": "code",
   "execution_count": 5,
   "metadata": {},
   "outputs": [
    {
     "name": "stdout",
     "output_type": "stream",
     "text": [
      "VIX investing: 549.61 fecha: 05/09\n",
      "[*********************100%***********************]  1 of 1 completed\n",
      "VIX yfinance: 549.5700073242188 fecha: 2024-09-05 15:59:00-04:00\n"
     ]
    }
   ],
   "source": [
    "url = \"https://es.investing.com/etfs/spdr-s-p-500-chart\"\n",
    "\n",
    "response = requests.get(url)\n",
    "\n",
    "if response.status_code == 200:\n",
    "    html = response.text\n",
    "else:\n",
    "    print(\"no se ha podido cargar\")\n",
    "\n",
    "soup = BeautifulSoup(html, \"html.parser\")\n",
    "vix_inv = soup.find('div', {'data-test': 'instrument-price-last'}).text\n",
    "fecha_inv = soup.find('time', {'data-test': 'trading-time-label'}).text\n",
    "vix_inv = float(vix_inv.replace(',', '.'))\n",
    "print(\"VIX investing:\", vix_inv, \"fecha:\", fecha_inv)\n",
    "\n",
    "vix_yf = yf.download(tickers=\"SPY\", interval=\"1m\")\n",
    "print(\"VIX yfinance:\", vix_yf.iloc[-1].Close, \"fecha:\", vix_yf.index[-1])"
   ]
  },
  {
   "cell_type": "markdown",
   "metadata": {},
   "source": [
    "###  diferencia_cierres\n",
    "\n",
    "Como se puede ver en las fechas de cierre del mismo día del VIX y del SPY, el VIX cierra a las 15:10 + 00:05 (intérvalo de cinco minutos) + 5 horas a UTC = 20:15 hora UTC y el SPY cierra a las 15:55 + 00:05 + 4 = 20:00 hora UTC\n",
    "\n",
    "Teniendo en cuenta que son menos de 15 min. de diferencia y que en tiempo real se calcula un minuto antes del cierre del SPY, se considerará el cierre diario del VIX como valor en el cálculo histórico del VIXSI.\n"
   ]
  },
  {
   "cell_type": "code",
   "execution_count": 7,
   "metadata": {},
   "outputs": [
    {
     "name": "stdout",
     "output_type": "stream",
     "text": [
      "[*********************100%***********************]  1 of 1 completed\n",
      "[*********************100%***********************]  1 of 1 completed\n",
      "cierre diario VIX: 2024-09-04 15:10:00-05:00\n",
      "cierre diario MSFT : 2024-09-04 15:55:00-04:00\n"
     ]
    }
   ],
   "source": [
    "activo=\"MSFT\"\n",
    "activoyf = yf.download(tickers=activo, period=\"3d\", interval=\"5m\")\n",
    "vixyf = yf.download(tickers=\"^VIX\", period=\"3d\", interval=\"5m\")\n",
    "dia = sorted(list(set(activoyf.index.date).intersection(set(vixyf.index.date))))[0].strftime(\"%Y-%m-%d\")\n",
    "print(\"cierre diario VIX:\", vixyf.loc[dia].index[-1])\n",
    "print(\"cierre diario\", activo, \":\", activoyf.loc[dia].index[-1]) \n"
   ]
  },
  {
   "cell_type": "markdown",
   "metadata": {},
   "source": [
    "### vixsi_hist\n",
    "\n",
    "Los datos históricos se pueden descargar desde el enlace dropbox público :\n",
    "https://www.dropbox.com/scl/fi/c1z2awpwgo0c2dv1re82u/VIXSI_yfhist.csv?rlkey=7qb76fi4zeftorksvfzonr0qs&st=ya8wtjcz&dl=1\n"
   ]
  },
  {
   "cell_type": "code",
   "execution_count": 21,
   "metadata": {},
   "outputs": [
    {
     "name": "stdout",
     "output_type": "stream",
     "text": [
      "% días VIX infravalorado: 0.12\n"
     ]
    }
   ],
   "source": [
    "df_vixsi = pd.read_csv(\"../datos/VIXSIyf.csv\", index_col=0)\n",
    "df_vixsi.index =  pd.to_datetime(df_vixsi.index)\n",
    "print(f\"% días VIX infravalorado: {len(df_vixsi[df_vixsi.VIXSI<0])/len(df_vixsi):.2f}\")\n"
   ]
  }
 ],
 "metadata": {
  "kernelspec": {
   "display_name": "python39",
   "language": "python",
   "name": "python39"
  },
  "language_info": {
   "codemirror_mode": {
    "name": "ipython",
    "version": 3
   },
   "file_extension": ".py",
   "mimetype": "text/x-python",
   "name": "python",
   "nbconvert_exporter": "python",
   "pygments_lexer": "ipython3",
   "version": "3.9.13"
  }
 },
 "nbformat": 4,
 "nbformat_minor": 5
}
