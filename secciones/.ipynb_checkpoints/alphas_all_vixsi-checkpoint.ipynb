{
 "cells": [
  {
   "cell_type": "markdown",
   "metadata": {},
   "source": [
    "## Analizar alpha generado por la señal VIXSI en el activo SPY\n",
    "\n",
    "Utilizando los datos históricos de la señal VIXSI, se puede analizar el alpha generado por el algoritmo de trading que utiliza la señal VIXSI para mantener comprado (VIXSI=1) o vendido (en corto) (VIXSI=-1) diariamente el activo SPY, donde el benchmark es el propio activo.\n",
    "\n",
    "En este estudio se ignoran las comisiones.\n",
    "\n",
    "[alpha VIXSI con SPY](#alpha_vixsi_spy)\n",
    "\n",
    "\n",
    "## Analizar alpha generado por la señal VIXSI en activos correlacionados con SPY\n",
    "\n",
    "\n",
    "Se seleccionan los 5 activos más correlacionados con el SPY\n",
    "\n"
   ]
  },
  {
   "cell_type": "code",
   "execution_count": 68,
   "metadata": {},
   "outputs": [],
   "source": [
    "#%pip install --upgrade investpy\n",
    "\n",
    "import pandas as pd\n",
    "import numpy as np\n",
    "\n",
    "import warnings\n",
    "warnings.filterwarnings('ignore')\n",
    "\n",
    "import matplotlib.pyplot as plt\n",
    "%matplotlib inline\n",
    "plt.style.use('seaborn-darkgrid')\n",
    "\n",
    "import yfinance as yf\n",
    "from bs4 import BeautifulSoup\n",
    "import requests\n",
    "from datetime import datetime\n",
    "from datetime import timedelta\n",
    "from dateutil.relativedelta import relativedelta\n",
    "import time\n"
   ]
  },
  {
   "cell_type": "code",
   "execution_count": 95,
   "metadata": {},
   "outputs": [],
   "source": [
    "tickers = pd.read_html('https://en.wikipedia.org/wiki/List_of_S%26P_500_companies')[0]\n",
    "# Se seleccionan los activos que se unieron al índice antes del 2014\n",
    "tickers = tickers[tickers[\"Date added\"]<=\"2008-01-01\"]\n",
    "tickers = tickers.Symbol.to_list()\n",
    "tickers.insert(0, 'SPY')"
   ]
  },
  {
   "cell_type": "code",
   "execution_count": 96,
   "metadata": {},
   "outputs": [],
   "source": [
    "cambios = pd.read_html('https://en.wikipedia.org/wiki/List_of_S%26P_500_companies')[1]\n",
    "#cambios.Date = pd.to_datetime(cambios.Date, format=\"%B %d, %Y\")\n",
    "cambios['fecha'] = cambios[\"Date\"].iloc[:,0].apply(lambda x: datetime.strptime(x, \"%B %d, %Y\"))\n",
    "cambios.set_index(cambios.fecha, inplace=True)\n",
    "cambios.columns = [\"Date\",\"iTicker\",\"d1\",\"oTicker\",\"d2\",\"razon\",\"fecha\"]\n",
    "cambios = cambios[[\"iTicker\",\"oTicker\"]]\n",
    "cambios.sort_index(inplace=True)\n",
    "cambios = cambios.loc[\"2008\":]"
   ]
  },
  {
   "cell_type": "code",
   "execution_count": null,
   "metadata": {},
   "outputs": [],
   "source": [
    "data = yf.download(tickers, '2008-01-01', '2024-08-25', auto_adjust=True)['Close']\n",
    "# Print the first few rows of the fetched data\n",
    "data.head()"
   ]
  },
  {
   "cell_type": "code",
   "execution_count": 179,
   "metadata": {},
   "outputs": [
    {
     "data": {
      "text/plain": [
       "2024"
      ]
     },
     "execution_count": 179,
     "metadata": {},
     "output_type": "execute_result"
    }
   ],
   "source": [
    "ult_año = cambios.index.year[-1]\n",
    "ult_año"
   ]
  },
  {
   "cell_type": "code",
   "execution_count": 129,
   "metadata": {},
   "outputs": [
    {
     "name": "stdout",
     "output_type": "stream",
     "text": [
      "[*********************100%***********************]  1 of 1 completed"
     ]
    },
    {
     "name": "stderr",
     "output_type": "stream",
     "text": [
      "\n",
      "1 Failed download:\n",
      "['LO']: Exception('%ticker%: No price data found, symbol may be delisted (1d 2008-01-01 -> 2024-08-25)')\n"
     ]
    },
    {
     "name": "stdout",
     "output_type": "stream",
     "text": [
      "\n",
      "[*********************100%***********************]  1 of 1 completed\n",
      "[*********************100%***********************]  1 of 1 completed"
     ]
    },
    {
     "name": "stderr",
     "output_type": "stream",
     "text": [
      "\n",
      "1 Failed download:\n",
      "['COG']: Exception('%ticker%: No timezone found, symbol may be delisted')\n"
     ]
    },
    {
     "name": "stdout",
     "output_type": "stream",
     "text": [
      "\n",
      "[*********************100%***********************]  1 of 1 completed"
     ]
    },
    {
     "name": "stderr",
     "output_type": "stream",
     "text": [
      "\n",
      "1 Failed download:\n",
      "['AKS']: Exception('%ticker%: No timezone found, symbol may be delisted')\n"
     ]
    },
    {
     "name": "stdout",
     "output_type": "stream",
     "text": [
      "\n",
      "[*********************100%***********************]  1 of 1 completed\n",
      "[*********************100%***********************]  1 of 1 completed\n",
      "[*********************100%***********************]  1 of 1 completed"
     ]
    },
    {
     "name": "stderr",
     "output_type": "stream",
     "text": [
      "\n",
      "1 Failed download:\n",
      "['HRS']: Exception('%ticker%: No timezone found, symbol may be delisted')\n"
     ]
    },
    {
     "name": "stdout",
     "output_type": "stream",
     "text": [
      "\n",
      "[*********************100%***********************]  1 of 1 completed\n",
      "[*********************100%***********************]  1 of 1 completed\n",
      "[*********************100%***********************]  1 of 1 completed\n",
      "[*********************100%***********************]  1 of 1 completed\n",
      "[*********************100%***********************]  1 of 1 completed"
     ]
    },
    {
     "name": "stderr",
     "output_type": "stream",
     "text": [
      "\n",
      "1 Failed download:\n",
      "['PCS']: Exception('%ticker%: No price data found, symbol may be delisted (1d 2008-01-01 -> 2024-08-25)')\n"
     ]
    },
    {
     "name": "stdout",
     "output_type": "stream",
     "text": [
      "\n",
      "[*********************100%***********************]  1 of 1 completed\n",
      "[*********************100%***********************]  1 of 1 completed"
     ]
    },
    {
     "name": "stderr",
     "output_type": "stream",
     "text": [
      "\n",
      "1 Failed download:\n",
      "['ARG']: Exception('%ticker%: No price data found, symbol may be delisted (1d 2008-01-01 -> 2024-08-25)')\n"
     ]
    },
    {
     "name": "stdout",
     "output_type": "stream",
     "text": [
      "\n",
      "[*********************100%***********************]  1 of 1 completed"
     ]
    },
    {
     "name": "stderr",
     "output_type": "stream",
     "text": [
      "\n",
      "1 Failed download:\n",
      "['PCLN']: Exception('%ticker%: No price data found, symbol may be delisted (1d 2008-01-01 -> 2024-08-25)')\n"
     ]
    },
    {
     "name": "stdout",
     "output_type": "stream",
     "text": [
      "\n",
      "[*********************100%***********************]  1 of 1 completed\n",
      "[*********************100%***********************]  1 of 1 completed"
     ]
    },
    {
     "name": "stderr",
     "output_type": "stream",
     "text": [
      "\n",
      "1 Failed download:\n",
      "['MJN']: Exception('%ticker%: No price data found, symbol may be delisted (1d 2008-01-01 -> 2024-08-25)')\n"
     ]
    },
    {
     "name": "stdout",
     "output_type": "stream",
     "text": [
      "\n",
      "[*********************100%***********************]  1 of 1 completed\n",
      "[*********************100%***********************]  1 of 1 completed\n",
      "[*********************100%***********************]  1 of 1 completed\n",
      "[*********************100%***********************]  1 of 1 completed\n",
      "[*********************100%***********************]  1 of 1 completed"
     ]
    },
    {
     "name": "stderr",
     "output_type": "stream",
     "text": [
      "\n",
      "1 Failed download:\n",
      "['CERN']: Exception('%ticker%: No timezone found, symbol may be delisted')\n"
     ]
    },
    {
     "name": "stdout",
     "output_type": "stream",
     "text": [
      "\n",
      "[*********************100%***********************]  1 of 1 completed\n",
      "[*********************100%***********************]  1 of 1 completed"
     ]
    },
    {
     "name": "stderr",
     "output_type": "stream",
     "text": [
      "\n",
      "1 Failed download:\n",
      "['QEP']: Exception('%ticker%: No timezone found, symbol may be delisted')\n"
     ]
    },
    {
     "name": "stdout",
     "output_type": "stream",
     "text": [
      "\n",
      "[*********************100%***********************]  1 of 1 completed\n",
      "[*********************100%***********************]  1 of 1 completed"
     ]
    },
    {
     "name": "stderr",
     "output_type": "stream",
     "text": [
      "\n",
      "1 Failed download:\n",
      "['TYC']: Exception('%ticker%: No price data found, symbol may be delisted (1d 2008-01-01 -> 2024-08-25)')\n"
     ]
    },
    {
     "name": "stdout",
     "output_type": "stream",
     "text": [
      "\n",
      "[*********************100%***********************]  1 of 1 completed\n",
      "[*********************100%***********************]  1 of 1 completed"
     ]
    },
    {
     "name": "stderr",
     "output_type": "stream",
     "text": [
      "\n",
      "1 Failed download:\n",
      "['CVC']: Exception('%ticker%: No price data found, symbol may be delisted (1d 2008-01-01 -> 2024-08-25)')\n"
     ]
    },
    {
     "name": "stdout",
     "output_type": "stream",
     "text": [
      "\n",
      "[*********************100%***********************]  1 of 1 completed\n",
      "[*********************100%***********************]  1 of 1 completed\n",
      "[*********************100%***********************]  1 of 1 completed\n",
      "[*********************100%***********************]  1 of 1 completed"
     ]
    },
    {
     "name": "stderr",
     "output_type": "stream",
     "text": [
      "\n",
      "1 Failed download:\n",
      "['JOYG']: Exception('%ticker%: No price data found, symbol may be delisted (1d 2008-01-01 -> 2024-08-25)')\n"
     ]
    },
    {
     "name": "stdout",
     "output_type": "stream",
     "text": [
      "\n",
      "[*********************100%***********************]  1 of 1 completed\n",
      "[*********************100%***********************]  1 of 1 completed\n",
      "[*********************100%***********************]  1 of 1 completed\n",
      "[*********************100%***********************]  1 of 1 completed\n",
      "[*********************100%***********************]  1 of 1 completed\n",
      "[*********************100%***********************]  1 of 1 completed\n",
      "[*********************100%***********************]  1 of 1 completed\n",
      "[*********************100%***********************]  1 of 1 completed\n",
      "[*********************100%***********************]  1 of 1 completed\n",
      "[*********************100%***********************]  1 of 1 completed\n",
      "[*********************100%***********************]  1 of 1 completed\n",
      "[*********************100%***********************]  1 of 1 completed\n",
      "[*********************100%***********************]  1 of 1 completed\n",
      "[*********************100%***********************]  1 of 1 completed\n",
      "[*********************100%***********************]  1 of 1 completed\n",
      "[*********************100%***********************]  1 of 1 completed\n",
      "[*********************100%***********************]  1 of 1 completed"
     ]
    },
    {
     "name": "stderr",
     "output_type": "stream",
     "text": [
      "\n",
      "1 Failed download:\n",
      "['WPX']: Exception('%ticker%: No timezone found, symbol may be delisted')\n"
     ]
    },
    {
     "name": "stdout",
     "output_type": "stream",
     "text": [
      "\n",
      "[*********************100%***********************]  1 of 1 completed\n",
      "[*********************100%***********************]  1 of 1 completed\n",
      "[*********************100%***********************]  1 of 1 completed\n",
      "[*********************100%***********************]  1 of 1 completed\n",
      "[*********************100%***********************]  1 of 1 completed"
     ]
    },
    {
     "name": "stderr",
     "output_type": "stream",
     "text": [
      "\n",
      "1 Failed download:\n",
      "['ALXN']: Exception('%ticker%: No timezone found, symbol may be delisted')\n"
     ]
    },
    {
     "name": "stdout",
     "output_type": "stream",
     "text": [
      "\n",
      "[*********************100%***********************]  1 of 1 completed\n",
      "[*********************100%***********************]  1 of 1 completed\n",
      "[*********************100%***********************]  1 of 1 completed\n",
      "[*********************100%***********************]  1 of 1 completed"
     ]
    },
    {
     "name": "stderr",
     "output_type": "stream",
     "text": [
      "\n",
      "1 Failed download:\n",
      "['ESV']: Exception('%ticker%: No timezone found, symbol may be delisted')\n"
     ]
    },
    {
     "name": "stdout",
     "output_type": "stream",
     "text": [
      "\n",
      "[*********************100%***********************]  1 of 1 completed\n",
      "[*********************100%***********************]  1 of 1 completed\n",
      "[*********************100%***********************]  1 of 1 completed\n",
      "[*********************100%***********************]  1 of 1 completed"
     ]
    },
    {
     "name": "stderr",
     "output_type": "stream",
     "text": [
      "\n",
      "1 Failed download:\n",
      "['KRFT']: Exception('%ticker%: No price data found, symbol may be delisted (1d 2008-01-01 -> 2024-08-25)')\n"
     ]
    },
    {
     "name": "stdout",
     "output_type": "stream",
     "text": [
      "\n",
      "[*********************100%***********************]  1 of 1 completed\n",
      "[*********************100%***********************]  1 of 1 completed\n",
      "[*********************100%***********************]  1 of 1 completed\n",
      "[*********************100%***********************]  1 of 1 completed"
     ]
    },
    {
     "name": "stderr",
     "output_type": "stream",
     "text": [
      "\n",
      "1 Failed download:\n",
      "['DLPH']: Exception('%ticker%: No timezone found, symbol may be delisted')\n"
     ]
    },
    {
     "name": "stdout",
     "output_type": "stream",
     "text": [
      "\n",
      "[*********************100%***********************]  1 of 1 completed\n",
      "[*********************100%***********************]  1 of 1 completed\n",
      "[*********************100%***********************]  1 of 1 completed\n",
      "[*********************100%***********************]  1 of 1 completed\n",
      "[*********************100%***********************]  1 of 1 completed"
     ]
    },
    {
     "name": "stderr",
     "output_type": "stream",
     "text": [
      "\n",
      "1 Failed download:\n",
      "['KSU']: Exception('%ticker%: No timezone found, symbol may be delisted')\n"
     ]
    },
    {
     "name": "stdout",
     "output_type": "stream",
     "text": [
      "\n",
      "[*********************100%***********************]  1 of 1 completed\n",
      "[*********************100%***********************]  1 of 1 completed\n",
      "[*********************100%***********************]  1 of 1 completed\n",
      "[*********************100%***********************]  1 of 1 completed"
     ]
    },
    {
     "name": "stderr",
     "output_type": "stream",
     "text": [
      "\n",
      "1 Failed download:\n",
      "['NLSN']: Exception('%ticker%: No timezone found, symbol may be delisted')\n"
     ]
    },
    {
     "name": "stdout",
     "output_type": "stream",
     "text": [
      "\n",
      "[*********************100%***********************]  1 of 1 completed\n",
      "[*********************100%***********************]  1 of 1 completed\n",
      "[*********************100%***********************]  1 of 1 completed\n",
      "[*********************100%***********************]  1 of 1 completed\n",
      "[*********************100%***********************]  1 of 1 completed"
     ]
    },
    {
     "name": "stderr",
     "output_type": "stream",
     "text": [
      "\n",
      "1 Failed download:\n",
      "['KORS']: Exception('%ticker%: No price data found, symbol may be delisted (1d 2008-01-01 -> 2024-08-25)')\n"
     ]
    },
    {
     "name": "stdout",
     "output_type": "stream",
     "text": [
      "\n",
      "[*********************100%***********************]  1 of 1 completed\n",
      "[*********************100%***********************]  1 of 1 completed"
     ]
    },
    {
     "name": "stderr",
     "output_type": "stream",
     "text": [
      "\n",
      "1 Failed download:\n",
      "['GGP']: Exception('%ticker%: No price data found, symbol may be delisted (1d 2008-01-01 -> 2024-08-25)')\n"
     ]
    },
    {
     "name": "stdout",
     "output_type": "stream",
     "text": [
      "\n",
      "[*********************100%***********************]  1 of 1 completed"
     ]
    },
    {
     "name": "stderr",
     "output_type": "stream",
     "text": [
      "\n",
      "1 Failed download:\n",
      "['ADS']: Exception('%ticker%: No timezone found, symbol may be delisted')\n"
     ]
    },
    {
     "name": "stdout",
     "output_type": "stream",
     "text": [
      "\n",
      "[*********************100%***********************]  1 of 1 completed"
     ]
    },
    {
     "name": "stderr",
     "output_type": "stream",
     "text": [
      "\n",
      "1 Failed download:\n",
      "['FB']: Exception('%ticker%: No timezone found, symbol may be delisted')\n"
     ]
    },
    {
     "name": "stdout",
     "output_type": "stream",
     "text": [
      "\n",
      "[*********************100%***********************]  1 of 1 completed\n",
      "[*********************100%***********************]  1 of 1 completed\n",
      "[*********************100%***********************]  1 of 1 completed"
     ]
    },
    {
     "name": "stderr",
     "output_type": "stream",
     "text": [
      "\n",
      "1 Failed download:\n",
      "['GMCR']: Exception('%ticker%: No price data found, symbol may be delisted (1d 2008-01-01 -> 2024-08-25)')\n"
     ]
    },
    {
     "name": "stdout",
     "output_type": "stream",
     "text": [
      "\n",
      "[*********************100%***********************]  1 of 1 completed\n",
      "[*********************100%***********************]  1 of 1 completed\n",
      "[*********************100%***********************]  1 of 1 completed\n",
      "[*********************100%***********************]  1 of 1 completed\n",
      "[*********************100%***********************]  1 of 1 completed\n",
      "[*********************100%***********************]  1 of 1 completed"
     ]
    },
    {
     "name": "stderr",
     "output_type": "stream",
     "text": [
      "\n",
      "1 Failed download:\n",
      "['XEC']: Exception('%ticker%: No timezone found, symbol may be delisted')\n"
     ]
    },
    {
     "name": "stdout",
     "output_type": "stream",
     "text": [
      "\n",
      "[*********************100%***********************]  1 of 1 completed\n",
      "[*********************100%***********************]  1 of 1 completed\n",
      "[*********************100%***********************]  1 of 1 completed"
     ]
    },
    {
     "name": "stderr",
     "output_type": "stream",
     "text": [
      "\n",
      "1 Failed download:\n",
      "['DISCK']: Exception('%ticker%: No timezone found, symbol may be delisted')\n"
     ]
    },
    {
     "name": "stdout",
     "output_type": "stream",
     "text": [
      "\n",
      "[*********************100%***********************]  1 of 1 completed"
     ]
    },
    {
     "name": "stderr",
     "output_type": "stream",
     "text": [
      "\n",
      "1 Failed download:\n",
      "['MNK']: Exception('%ticker%: No timezone found, symbol may be delisted')\n"
     ]
    },
    {
     "name": "stdout",
     "output_type": "stream",
     "text": [
      "\n",
      "[*********************100%***********************]  1 of 1 completed\n",
      "[*********************100%***********************]  1 of 1 completed\n",
      "[*********************100%***********************]  1 of 1 completed"
     ]
    },
    {
     "name": "stderr",
     "output_type": "stream",
     "text": [
      "\n",
      "1 Failed download:\n",
      "['LVLT']: Exception('%ticker%: No price data found, symbol may be delisted (1d 2008-01-01 -> 2024-08-25)')\n"
     ]
    },
    {
     "name": "stdout",
     "output_type": "stream",
     "text": [
      "\n",
      "[*********************100%***********************]  1 of 1 completed\n",
      "[*********************100%***********************]  1 of 1 completed"
     ]
    },
    {
     "name": "stderr",
     "output_type": "stream",
     "text": [
      "\n",
      "1 Failed download:\n",
      "['ENDP']: Exception(\"%ticker%: Period 'max' is invalid, must be one of ['1d', '5d']\")\n"
     ]
    },
    {
     "name": "stdout",
     "output_type": "stream",
     "text": [
      "\n",
      "[*********************100%***********************]  1 of 1 completed\n",
      "[*********************100%***********************]  1 of 1 completed\n",
      "[*********************100%***********************]  1 of 1 completed\n",
      "[*********************100%***********************]  1 of 1 completed\n",
      "[*********************100%***********************]  1 of 1 completed\n",
      "[*********************100%***********************]  1 of 1 completed\n",
      "[*********************100%***********************]  1 of 1 completed\n",
      "[*********************100%***********************]  1 of 1 completed\n",
      "[*********************100%***********************]  1 of 1 completed\n",
      "[*********************100%***********************]  1 of 1 completed"
     ]
    },
    {
     "name": "stderr",
     "output_type": "stream",
     "text": [
      "\n",
      "1 Failed download:\n",
      "['BXLT']: Exception('%ticker%: No price data found, symbol may be delisted (1d 2008-01-01 -> 2024-08-25)')\n"
     ]
    },
    {
     "name": "stdout",
     "output_type": "stream",
     "text": [
      "\n",
      "[*********************100%***********************]  1 of 1 completed\n",
      "[*********************100%***********************]  1 of 1 completed"
     ]
    },
    {
     "name": "stderr",
     "output_type": "stream",
     "text": [
      "\n",
      "1 Failed download:\n",
      "['CPGX']: Exception('%ticker%: No price data found, symbol may be delisted (1d 2008-01-01 -> 2024-08-25)')\n"
     ]
    },
    {
     "name": "stdout",
     "output_type": "stream",
     "text": [
      "\n",
      "[*********************100%***********************]  1 of 1 completed\n",
      "[*********************100%***********************]  1 of 1 completed\n",
      "[*********************100%***********************]  1 of 1 completed\n",
      "[*********************100%***********************]  1 of 1 completed\n",
      "[*********************100%***********************]  1 of 1 completed"
     ]
    },
    {
     "name": "stderr",
     "output_type": "stream",
     "text": [
      "\n",
      "1 Failed download:\n",
      "['ATVI']: Exception('%ticker%: No timezone found, symbol may be delisted')\n"
     ]
    },
    {
     "name": "stdout",
     "output_type": "stream",
     "text": [
      "\n",
      "[*********************100%***********************]  1 of 1 completed\n",
      "[*********************100%***********************]  1 of 1 completed\n",
      "[*********************100%***********************]  1 of 1 completed\n",
      "[*********************100%***********************]  1 of 1 completed"
     ]
    },
    {
     "name": "stderr",
     "output_type": "stream",
     "text": [
      "\n",
      "1 Failed download:\n",
      "['CMCSK']: Exception('%ticker%: No price data found, symbol may be delisted (1d 2008-01-01 -> 2024-08-25)')\n"
     ]
    },
    {
     "name": "stdout",
     "output_type": "stream",
     "text": [
      "\n",
      "[*********************100%***********************]  1 of 1 completed\n",
      "[*********************100%***********************]  1 of 1 completed\n",
      "[*********************100%***********************]  1 of 1 completed\n",
      "[*********************100%***********************]  1 of 1 completed\n",
      "[*********************100%***********************]  1 of 1 completed\n",
      "[*********************100%***********************]  1 of 1 completed\n",
      "[*********************100%***********************]  1 of 1 completed"
     ]
    },
    {
     "name": "stderr",
     "output_type": "stream",
     "text": [
      "\n",
      "1 Failed download:\n",
      "['WLTW']: Exception('%ticker%: No timezone found, symbol may be delisted')\n"
     ]
    },
    {
     "name": "stdout",
     "output_type": "stream",
     "text": [
      "\n",
      "[*********************100%***********************]  1 of 1 completed\n",
      "[*********************100%***********************]  1 of 1 completed\n",
      "[*********************100%***********************]  1 of 1 completed\n",
      "[*********************100%***********************]  1 of 1 completed"
     ]
    },
    {
     "name": "stderr",
     "output_type": "stream",
     "text": [
      "\n",
      "1 Failed download:\n",
      "['CXO']: Exception('%ticker%: No timezone found, symbol may be delisted')\n"
     ]
    },
    {
     "name": "stdout",
     "output_type": "stream",
     "text": [
      "\n",
      "[*********************100%***********************]  1 of 1 completed\n",
      "[*********************100%***********************]  1 of 1 completed\n",
      "[*********************100%***********************]  1 of 1 completed\n",
      "[*********************100%***********************]  1 of 1 completed\n",
      "[*********************100%***********************]  1 of 1 completed\n",
      "[*********************100%***********************]  1 of 1 completed\n",
      "[*********************100%***********************]  1 of 1 completed\n",
      "[*********************100%***********************]  1 of 1 completed\n",
      "[*********************100%***********************]  1 of 1 completed\n",
      "[*********************100%***********************]  1 of 1 completed\n",
      "[*********************100%***********************]  1 of 1 completed\n",
      "[*********************100%***********************]  1 of 1 completed\n",
      "[*********************100%***********************]  1 of 1 completed\n",
      "[*********************100%***********************]  1 of 1 completed\n",
      "[*********************100%***********************]  1 of 1 completed"
     ]
    },
    {
     "name": "stderr",
     "output_type": "stream",
     "text": [
      "\n",
      "1 Failed download:\n",
      "['FBHS']: Exception('%ticker%: No timezone found, symbol may be delisted')\n"
     ]
    },
    {
     "name": "stdout",
     "output_type": "stream",
     "text": [
      "\n",
      "[*********************100%***********************]  1 of 1 completed\n",
      "[*********************100%***********************]  1 of 1 completed\n",
      "[*********************100%***********************]  1 of 1 completed\n",
      "[*********************100%***********************]  1 of 1 completed\n",
      "[*********************100%***********************]  1 of 1 completed\n",
      "[*********************100%***********************]  1 of 1 completed\n",
      "[*********************100%***********************]  1 of 1 completed\n",
      "[*********************100%***********************]  1 of 1 completed"
     ]
    },
    {
     "name": "stderr",
     "output_type": "stream",
     "text": [
      "\n",
      "1 Failed download:\n",
      "['ARNC']: Exception('%ticker%: No timezone found, symbol may be delisted')\n"
     ]
    },
    {
     "name": "stdout",
     "output_type": "stream",
     "text": [
      "\n",
      "[*********************100%***********************]  1 of 1 completed\n",
      "[*********************100%***********************]  1 of 1 completed\n",
      "[*********************100%***********************]  1 of 1 completed"
     ]
    },
    {
     "name": "stderr",
     "output_type": "stream",
     "text": [
      "\n",
      "1 Failed download:\n",
      "['AGN']: Exception('%ticker%: No timezone found, symbol may be delisted')\n"
     ]
    },
    {
     "name": "stdout",
     "output_type": "stream",
     "text": [
      "\n",
      "[*********************100%***********************]  1 of 1 completed\n",
      "[*********************100%***********************]  1 of 1 completed\n",
      "[*********************100%***********************]  1 of 1 completed\n",
      "[*********************100%***********************]  1 of 1 completed\n",
      "[*********************100%***********************]  1 of 1 completed"
     ]
    },
    {
     "name": "stderr",
     "output_type": "stream",
     "text": [
      "\n",
      "1 Failed download:\n",
      "['DISH']: Exception('%ticker%: No timezone found, symbol may be delisted')\n"
     ]
    },
    {
     "name": "stdout",
     "output_type": "stream",
     "text": [
      "\n",
      "[*********************100%***********************]  1 of 1 completed\n",
      "[*********************100%***********************]  1 of 1 completed\n",
      "[*********************100%***********************]  1 of 1 completed\n",
      "[*********************100%***********************]  1 of 1 completed\n",
      "[*********************100%***********************]  1 of 1 completed\n",
      "[*********************100%***********************]  1 of 1 completed\n",
      "[*********************100%***********************]  1 of 1 completed"
     ]
    },
    {
     "name": "stderr",
     "output_type": "stream",
     "text": [
      "\n",
      "1 Failed download:\n",
      "['INFO']: Exception('%ticker%: No timezone found, symbol may be delisted')\n"
     ]
    },
    {
     "name": "stdout",
     "output_type": "stream",
     "text": [
      "\n",
      "[*********************100%***********************]  1 of 1 completed\n",
      "[*********************100%***********************]  1 of 1 completed\n",
      "[*********************100%***********************]  1 of 1 completed\n",
      "[*********************100%***********************]  1 of 1 completed"
     ]
    },
    {
     "name": "stderr",
     "output_type": "stream",
     "text": [
      "\n",
      "1 Failed download:\n",
      "['RE']: Exception('%ticker%: No timezone found, symbol may be delisted')\n"
     ]
    },
    {
     "name": "stdout",
     "output_type": "stream",
     "text": [
      "\n",
      "[*********************100%***********************]  1 of 1 completed\n",
      "[*********************100%***********************]  1 of 1 completed"
     ]
    },
    {
     "name": "stderr",
     "output_type": "stream",
     "text": [
      "\n",
      "1 Failed download:\n",
      "['DRE']: Exception('%ticker%: No timezone found, symbol may be delisted')\n"
     ]
    },
    {
     "name": "stdout",
     "output_type": "stream",
     "text": [
      "\n",
      "[*********************100%***********************]  1 of 1 completed\n",
      "[*********************100%***********************]  1 of 1 completed\n",
      "[*********************100%***********************]  1 of 1 completed\n",
      "[*********************100%***********************]  1 of 1 completed\n",
      "[*********************100%***********************]  1 of 1 completed"
     ]
    },
    {
     "name": "stderr",
     "output_type": "stream",
     "text": [
      "\n",
      "1 Failed download:\n",
      "['Q']: Exception('%ticker%: No price data found, symbol may be delisted (1d 2008-01-01 -> 2024-08-25)')\n"
     ]
    },
    {
     "name": "stdout",
     "output_type": "stream",
     "text": [
      "\n",
      "[*********************100%***********************]  1 of 1 completed\n",
      "[*********************100%***********************]  1 of 1 completed"
     ]
    },
    {
     "name": "stderr",
     "output_type": "stream",
     "text": [
      "\n",
      "1 Failed download:\n",
      "['DWDP']: Exception('%ticker%: No timezone found, symbol may be delisted')\n"
     ]
    },
    {
     "name": "stdout",
     "output_type": "stream",
     "text": [
      "\n",
      "[*********************100%***********************]  1 of 1 completed\n",
      "[*********************100%***********************]  1 of 1 completed\n",
      "[*********************100%***********************]  1 of 1 completed\n",
      "[*********************100%***********************]  1 of 1 completed\n",
      "[*********************100%***********************]  1 of 1 completed\n",
      "[*********************100%***********************]  1 of 1 completed\n",
      "[*********************100%***********************]  1 of 1 completed"
     ]
    },
    {
     "name": "stderr",
     "output_type": "stream",
     "text": [
      "\n",
      "1 Failed download:\n",
      "['SIVB']: Exception(\"%ticker%: Period 'max' is invalid, must be one of ['1d', '5d']\")\n"
     ]
    },
    {
     "name": "stdout",
     "output_type": "stream",
     "text": [
      "\n",
      "[*********************100%***********************]  1 of 1 completed\n",
      "[*********************100%***********************]  1 of 1 completed"
     ]
    },
    {
     "name": "stderr",
     "output_type": "stream",
     "text": [
      "\n",
      "1 Failed download:\n",
      "['ABMD']: Exception('%ticker%: No timezone found, symbol may be delisted')\n"
     ]
    },
    {
     "name": "stdout",
     "output_type": "stream",
     "text": [
      "\n",
      "[*********************100%***********************]  1 of 1 completed\n",
      "[*********************100%***********************]  1 of 1 completed"
     ]
    },
    {
     "name": "stderr",
     "output_type": "stream",
     "text": [
      "\n",
      "1 Failed download:\n",
      "['TWTR']: Exception('%ticker%: No timezone found, symbol may be delisted')\n"
     ]
    },
    {
     "name": "stdout",
     "output_type": "stream",
     "text": [
      "\n",
      "[*********************100%***********************]  1 of 1 completed"
     ]
    },
    {
     "name": "stderr",
     "output_type": "stream",
     "text": [
      "\n",
      "1 Failed download:\n",
      "['HFC']: Exception('%ticker%: No timezone found, symbol may be delisted')\n"
     ]
    },
    {
     "name": "stdout",
     "output_type": "stream",
     "text": [
      "\n",
      "[*********************100%***********************]  1 of 1 completed\n",
      "[*********************100%***********************]  1 of 1 completed"
     ]
    },
    {
     "name": "stderr",
     "output_type": "stream",
     "text": [
      "\n",
      "1 Failed download:\n",
      "['FLT']: Exception('%ticker%: No timezone found, symbol may be delisted')\n"
     ]
    },
    {
     "name": "stdout",
     "output_type": "stream",
     "text": [
      "\n",
      "[*********************100%***********************]  1 of 1 completed\n",
      "[*********************100%***********************]  1 of 1 completed\n",
      "[*********************100%***********************]  1 of 1 completed"
     ]
    },
    {
     "name": "stderr",
     "output_type": "stream",
     "text": [
      "\n",
      "1 Failed download:\n",
      "['WCG']: Exception('%ticker%: No timezone found, symbol may be delisted')\n"
     ]
    },
    {
     "name": "stdout",
     "output_type": "stream",
     "text": [
      "\n",
      "[*********************100%***********************]  1 of 1 completed\n",
      "[*********************100%***********************]  1 of 1 completed\n",
      "[*********************100%***********************]  1 of 1 completed\n",
      "[*********************100%***********************]  1 of 1 completed\n",
      "[*********************100%***********************]  1 of 1 completed\n",
      "[*********************100%***********************]  1 of 1 completed"
     ]
    },
    {
     "name": "stderr",
     "output_type": "stream",
     "text": [
      "\n",
      "1 Failed download:\n",
      "['MXIM']: Exception('%ticker%: No timezone found, symbol may be delisted')\n"
     ]
    },
    {
     "name": "stdout",
     "output_type": "stream",
     "text": [
      "\n",
      "[*********************100%***********************]  1 of 1 completed\n",
      "[*********************100%***********************]  1 of 1 completed\n",
      "[*********************100%***********************]  1 of 1 completed"
     ]
    },
    {
     "name": "stderr",
     "output_type": "stream",
     "text": [
      "\n",
      "1 Failed download:\n",
      "['FRC']: Exception('%ticker%: No timezone found, symbol may be delisted')\n"
     ]
    },
    {
     "name": "stdout",
     "output_type": "stream",
     "text": [
      "\n",
      "[*********************100%***********************]  1 of 1 completed\n",
      "[*********************100%***********************]  1 of 1 completed\n",
      "[*********************100%***********************]  1 of 1 completed\n",
      "[*********************100%***********************]  1 of 1 completed\n",
      "[*********************100%***********************]  1 of 1 completed\n",
      "[*********************100%***********************]  1 of 1 completed\n",
      "[*********************100%***********************]  1 of 1 completed\n",
      "[*********************100%***********************]  1 of 1 completed\n",
      "[*********************100%***********************]  1 of 1 completed\n",
      "[*********************100%***********************]  1 of 1 completed\n",
      "[*********************100%***********************]  1 of 1 completed\n",
      "[*********************100%***********************]  1 of 1 completed\n",
      "[*********************100%***********************]  1 of 1 completed\n",
      "[*********************100%***********************]  1 of 1 completed\n",
      "[*********************100%***********************]  1 of 1 completed\n",
      "[*********************100%***********************]  1 of 1 completed\n",
      "[*********************100%***********************]  1 of 1 completed\n",
      "[*********************100%***********************]  1 of 1 completed\n",
      "[*********************100%***********************]  1 of 1 completed\n",
      "[*********************100%***********************]  1 of 1 completed\n",
      "[*********************100%***********************]  1 of 1 completed\n",
      "[*********************100%***********************]  1 of 1 completed\n",
      "[*********************100%***********************]  1 of 1 completed\n",
      "[*********************100%***********************]  1 of 1 completed\n",
      "[*********************100%***********************]  1 of 1 completed\n",
      "[*********************100%***********************]  1 of 1 completed\n",
      "[*********************100%***********************]  1 of 1 completed\n",
      "[*********************100%***********************]  1 of 1 completed\n",
      "[*********************100%***********************]  1 of 1 completed\n",
      "[*********************100%***********************]  1 of 1 completed\n",
      "[*********************100%***********************]  1 of 1 completed\n",
      "[*********************100%***********************]  1 of 1 completed\n",
      "[*********************100%***********************]  1 of 1 completed\n",
      "[*********************100%***********************]  1 of 1 completed\n",
      "[*********************100%***********************]  1 of 1 completed\n",
      "[*********************100%***********************]  1 of 1 completed\n",
      "[*********************100%***********************]  1 of 1 completed\n",
      "[*********************100%***********************]  1 of 1 completed\n",
      "[*********************100%***********************]  1 of 1 completed\n",
      "[*********************100%***********************]  1 of 1 completed\n",
      "[*********************100%***********************]  1 of 1 completed\n",
      "[*********************100%***********************]  1 of 1 completed\n",
      "[*********************100%***********************]  1 of 1 completed\n",
      "[*********************100%***********************]  1 of 1 completed\n",
      "[*********************100%***********************]  1 of 1 completed\n",
      "[*********************100%***********************]  1 of 1 completed\n",
      "[*********************100%***********************]  1 of 1 completed\n",
      "[*********************100%***********************]  1 of 1 completed\n",
      "[*********************100%***********************]  1 of 1 completed\n",
      "[*********************100%***********************]  1 of 1 completed\n",
      "[*********************100%***********************]  1 of 1 completed\n",
      "[*********************100%***********************]  1 of 1 completed"
     ]
    },
    {
     "name": "stderr",
     "output_type": "stream",
     "text": [
      "\n",
      "1 Failed download:\n",
      "['CDAY']: Exception('%ticker%: No timezone found, symbol may be delisted')\n"
     ]
    },
    {
     "name": "stdout",
     "output_type": "stream",
     "text": [
      "\n",
      "[*********************100%***********************]  1 of 1 completed\n",
      "[*********************100%***********************]  1 of 1 completed\n",
      "[*********************100%***********************]  1 of 1 completed\n",
      "[*********************100%***********************]  1 of 1 completed\n",
      "[*********************100%***********************]  1 of 1 completed\n",
      "[*********************100%***********************]  1 of 1 completed\n",
      "[*********************100%***********************]  1 of 1 completed\n",
      "[*********************100%***********************]  1 of 1 completed\n",
      "[*********************100%***********************]  1 of 1 completed\n",
      "[*********************100%***********************]  1 of 1 completed\n",
      "[*********************100%***********************]  1 of 1 completed\n",
      "[*********************100%***********************]  1 of 1 completed\n",
      "[*********************100%***********************]  1 of 1 completed\n",
      "[*********************100%***********************]  1 of 1 completed\n",
      "[*********************100%***********************]  1 of 1 completed\n",
      "[*********************100%***********************]  1 of 1 completed\n",
      "[*********************100%***********************]  1 of 1 completed\n",
      "[*********************100%***********************]  1 of 1 completed\n",
      "[*********************100%***********************]  1 of 1 completed\n",
      "[*********************100%***********************]  1 of 1 completed\n",
      "[*********************100%***********************]  1 of 1 completed\n",
      "[*********************100%***********************]  1 of 1 completed\n",
      "[*********************100%***********************]  1 of 1 completed\n",
      "[*********************100%***********************]  1 of 1 completed\n",
      "[*********************100%***********************]  1 of 1 completed\n",
      "[*********************100%***********************]  1 of 1 completed\n",
      "[*********************100%***********************]  1 of 1 completed\n",
      "[*********************100%***********************]  1 of 1 completed\n",
      "[*********************100%***********************]  1 of 1 completed\n",
      "[*********************100%***********************]  1 of 1 completed\n",
      "[*********************100%***********************]  1 of 1 completed\n",
      "[*********************100%***********************]  1 of 1 completed\n",
      "[*********************100%***********************]  1 of 1 completed\n",
      "[*********************100%***********************]  1 of 1 completed\n",
      "[*********************100%***********************]  1 of 1 completed\n",
      "[*********************100%***********************]  1 of 1 completed\n",
      "[*********************100%***********************]  1 of 1 completed\n",
      "[*********************100%***********************]  1 of 1 completed\n",
      "[*********************100%***********************]  1 of 1 completed\n",
      "[*********************100%***********************]  1 of 1 completed\n",
      "[*********************100%***********************]  1 of 1 completed\n",
      "[*********************100%***********************]  1 of 1 completed\n",
      "[*********************100%***********************]  1 of 1 completed\n",
      "[*********************100%***********************]  1 of 1 completed\n",
      "[*********************100%***********************]  1 of 1 completed\n",
      "[*********************100%***********************]  1 of 1 completed\n",
      "[*********************100%***********************]  1 of 1 completed\n"
     ]
    }
   ],
   "source": [
    "data1 = data.copy()\n",
    "ult_año = cambios.index.year\n",
    "for fecha,tickers in cambios.iterrows():\n",
    "    if fecha.year < ult_año:\n",
    "        data1.loc[str(fecha.year+1):][tickers.oTicker]=None\n",
    "    if pd.isna(tickers.iTicker)==False:\n",
    "        datiTicker = yf.download(tickers.iTicker,'2008-01-01','2024-08-25', auto_adjust=True)['Close']\n",
    "        data1[tickers.iTicker]=datiTicker\n",
    "        data1.loc[:fecha][tickers.iTicker]=None\n"
   ]
  },
  {
   "cell_type": "code",
   "execution_count": 136,
   "metadata": {},
   "outputs": [],
   "source": [
    "data1.index = pd.to_datetime(data1.index)"
   ]
  },
  {
   "cell_type": "code",
   "execution_count": 160,
   "metadata": {},
   "outputs": [],
   "source": [
    "data2 = data1.copy()\n",
    "data2.fillna(method='ffill', axis=0, inplace=True)\n",
    "data2.fillna(method='bfill', axis=0, inplace=True)\n",
    "data2.dropna(axis=1, how=\"all\", inplace=True)\n",
    "activos = data2.columns"
   ]
  },
  {
   "cell_type": "code",
   "execution_count": 161,
   "metadata": {},
   "outputs": [],
   "source": [
    "#data = data.dropna(axis=1, how=\"all\")\n",
    "\n",
    "df_vixsi = pd.read_csv(\"../datos/VIXSIyf.csv\", index_col=0)\n",
    "df_vixsi.index =  pd.to_datetime(df_vixsi.index)\n",
    "df_vixsi.columns=[\"vixsi\"]\n",
    "datos_vixsi = pd.concat([data2[activos], df_vixsi.vixsi], axis=1).dropna()\n"
   ]
  },
  {
   "cell_type": "markdown",
   "metadata": {},
   "source": [
    "### alpha_vixsi_spy\n",
    "\n",
    "Una forma de validar la señal es ver cuanto alpha genera la estrategia que utiliza la señal para invertir en largo (vixsi=1) o en corto (vixsi=-1) utilizando como benchmar el propio activo SPY.\n",
    "\n",
    "la fórmula del alpha se basará en el alpha de Jensen (asignando 0 a la rentabilidad libre de riesgo):\n",
    "\n",
    "rentabilidad estrategia - Beta_estrategia_benchmark * rentabilidad benchmark\n",
    "\n",
    "El alpha se calculará por año, y se evaluará la media y el ratio de sharpe del alpha anual.\n",
    "\n",
    "Los datos del SPY se recogerán de yfinance y se ajustarán a los dividendos.\n"
   ]
  },
  {
   "cell_type": "code",
   "execution_count": 164,
   "metadata": {},
   "outputs": [
    {
     "name": "stdout",
     "output_type": "stream",
     "text": [
      "2011 252 activo: PSA par_dwd -1 par_dwd2 50\n",
      "2011 252 activo2: PSA par2_dwd -1 par2_dwd2 50\n",
      "2011 252 activo3: PSA par3_dwd -1 par3_dwd2 50\n",
      "2011 252 activo4: PSA par4_dwd -1 par4_dwd2 50\n",
      "2012 250 activo: PSA par_dwd -1 par_dwd2 50\n",
      "2012 250 activo2: MKTX par2_dwd -1 par2_dwd2 50\n",
      "2012 250 activo3: SCHW par3_dwd -1 par3_dwd2 50\n",
      "2012 250 activo4: SCHW par4_dwd -1 par4_dwd2 50\n",
      "2013 252 activo: MKTX par_dwd -1 par_dwd2 50\n",
      "2013 252 activo2: DPZ par2_dwd -1 par2_dwd2 50\n",
      "2013 252 activo3: SCHW par3_dwd -1 par3_dwd2 50\n",
      "2013 252 activo4: FTNT par4_dwd -1 par4_dwd2 50\n",
      "2014 252 activo: MKTX par_dwd -1 par_dwd2 50\n",
      "2014 252 activo2: MOH par2_dwd -1 par2_dwd2 50\n",
      "2014 252 activo3: SCHW par3_dwd -1 par3_dwd2 50\n",
      "2014 252 activo4: MEE par4_dwd -1 par4_dwd2 50\n",
      "2015 252 activo: MKTX par_dwd -1 par_dwd2 50\n",
      "2015 252 activo2: CBE par2_dwd -1 par2_dwd2 50\n",
      "2015 252 activo3: CBE par3_dwd -1 par3_dwd2 50\n",
      "2015 252 activo4: CBE par4_dwd -1 par4_dwd2 50\n",
      "2016 252 activo: CBE par_dwd -1 par_dwd2 10\n",
      "2016 252 activo2: CBE par2_dwd -1 par2_dwd2 10\n",
      "2016 252 activo3: CBE par3_dwd -1 par3_dwd2 10\n",
      "2016 252 activo4: CBE par4_dwd -1 par4_dwd2 10\n",
      "2017 251 activo: CBE par_dwd -1 par_dwd2 10\n",
      "2017 251 activo2: CBE par2_dwd -1 par2_dwd2 10\n",
      "2017 251 activo3: CBE par3_dwd -1 par3_dwd2 10\n",
      "2017 251 activo4: CBE par4_dwd -1 par4_dwd2 10\n",
      "2018 251 activo: CBE par_dwd -1 par_dwd2 10\n",
      "2018 251 activo2: CBE par2_dwd -1 par2_dwd2 10\n",
      "2018 251 activo3: CBE par3_dwd -1 par3_dwd2 10\n",
      "2018 251 activo4: CBE par4_dwd -1 par4_dwd2 10\n",
      "2019 252 activo: CBE par_dwd -1 par_dwd2 10\n",
      "2019 252 activo2: CBE par2_dwd -1 par2_dwd2 10\n",
      "2019 252 activo3: CBE par3_dwd -1 par3_dwd2 10\n",
      "2019 252 activo4: CBE par4_dwd -1 par4_dwd2 10\n",
      "2020 253 activo: SWKS par_dwd 6 par_dwd2 50\n",
      "2020 253 activo2: KLAC par2_dwd 6 par2_dwd2 50\n",
      "2020 253 activo3: CBE par3_dwd 6 par3_dwd2 50\n",
      "2020 253 activo4: NKTR par4_dwd 6 par4_dwd2 50\n",
      "2021 252 activo: KLAC par_dwd -1 par_dwd2 50\n",
      "2021 252 activo2: KLAC par2_dwd -1 par2_dwd2 50\n",
      "2021 252 activo3: CBE par3_dwd -1 par3_dwd2 50\n",
      "2021 252 activo4: FTI par4_dwd -1 par4_dwd2 50\n",
      "2022 251 activo: KLAC par_dwd -1 par_dwd2 50\n",
      "2022 251 activo2: KLAC par2_dwd -1 par2_dwd2 50\n",
      "2022 251 activo3: CBE par3_dwd -1 par3_dwd2 50\n",
      "2022 251 activo4: FTI par4_dwd -1 par4_dwd2 50\n",
      "2023 250 activo: KLAC par_dwd -1 par_dwd2 50\n",
      "2023 250 activo2: KLAC par2_dwd -1 par2_dwd2 50\n",
      "2023 250 activo3: CBE par3_dwd -1 par3_dwd2 50\n",
      "2023 250 activo4: ON par4_dwd -1 par4_dwd2 50\n",
      "2024 163 activo: KLAC par_dwd -1 par_dwd2 50\n",
      "2024 163 activo2: KLAC par2_dwd -1 par2_dwd2 50\n",
      "2024 163 activo3: CBE par3_dwd -1 par3_dwd2 50\n",
      "2024 163 activo4: DG par4_dwd -1 par4_dwd2 50\n"
     ]
    }
   ],
   "source": [
    "def f_alpha(datos, estrategia=\"estrategia\", benchmark=\"SPY\"):\n",
    "    '''\n",
    "\n",
    "    '''\n",
    "    srets = np.log(datos[estrategia]).diff().fillna(0)\n",
    "    brets = np.log(datos[benchmark]).diff().fillna(0)\n",
    "\n",
    "    rent_srets = srets.sum()\n",
    "    rent_brets = brets.sum()\n",
    "    alpha = rent_srets - rent_brets    \n",
    "    return (alpha, rent_srets, rent_brets)\n",
    "\n",
    "\n",
    "def f_alpha_activo (datos, activo, fobj):\n",
    "\n",
    "    estrategia = \"estr\"+activo\n",
    "    datos[estrategia] = (1 + datos.vixsi.shift(1) * datos[activo].pct_change()).cumprod()\n",
    "    años = sorted(datos.index.year.unique())\n",
    "    alpha = np.zeros(len(años))\n",
    "    benchmark = np.zeros(len(años))\n",
    "    estrvixsi =  np.zeros(len(años))\n",
    "    for i in range(len(años)):\n",
    "        alpha[i], estrvixsi[i], benchmark[i] = f_alpha(datos.loc[str(años[i])],estrategia=estrategia, benchmark=activo)\n",
    "\n",
    "    alpha = pd.DataFrame(alpha, index=años)\n",
    "    benchmark = pd.DataFrame(benchmark, index=años)\n",
    "    estrvixsi = pd.DataFrame(estrvixsi, index=años)\n",
    "    #return (alpha, estrvixsi, benchmark, alpha.rolling(3).sum().dropna().min(), estrvixsi.rolling(3).sum().dropna().min())\n",
    "    #return (alpha, estrvixsi, benchmark, alpha.rolling(3).sum().dropna().min(), alpha.rolling(3).sum().dropna().iloc[-1])\n",
    "    if fobj==1:\n",
    "        rend =  estrvixsi.rolling(3).sum().dropna().mean()\n",
    "    elif fobj==2:\n",
    "        rend =  estrvixsi.rolling(3).sum().dropna().iloc[-1]\n",
    "    elif fobj==3:\n",
    "        rend =  alpha.rolling(3).sum().dropna().mean()\n",
    "    else:\n",
    "        rend =  alpha.rolling(3).sum().dropna().iloc[-1]\n",
    "    \n",
    "    return (alpha, estrvixsi, benchmark, alpha.rolling(3).sum().dropna().min(), rend)\n",
    "\n",
    "def f_estrategia_par (datos, activo, p_dwd1, p_dwd2, holding=False, residual=False):\n",
    "\n",
    "    if holding:\n",
    "        return datos[activo].pct_change()\n",
    "\n",
    "    max252 = datos[\"max\"+activo]\n",
    "    datos[\"dwd\"] = (max252 - datos[activo])/max252*100\n",
    "    datos[\"sigdwd1\"] = (datos[\"dwd\"] < p_dwd1) * 1\n",
    "    datos[\"sigdwd2\"] = (datos[\"dwd\"] > p_dwd2) * 1\n",
    "    if residual:\n",
    "        rets_estrategia = ((1 - datos.sigdwd1.shift(1))*datos.sigdwd2.shift(1)*\n",
    "                           ((datos.vixsi.shift(1) - 1)/2) * datos[activo].pct_change())\n",
    "    else:\n",
    "        rets_estrategia = (datos[activo].pct_change() * datos.sigdwd1.shift(1) + \n",
    "         (1 - datos.sigdwd1.shift(1))*(1 - datos.sigdwd2.shift(1))*datos.vixsi.shift(1) * datos[activo].pct_change() +\n",
    "         (1 - datos.sigdwd1.shift(1))*datos.sigdwd2.shift(1)*((datos.vixsi.shift(1) - 1)/2) * datos[activo].pct_change())\n",
    "\n",
    "    return rets_estrategia\n",
    "\n",
    "\n",
    "def f_opt_params (datos, activo, l_dwd1, l_dwd2):\n",
    "\n",
    "    max_sharpe = -1000\n",
    "    pm_dwd1 = 100\n",
    "    pm_dwd2 = 0\n",
    "    for p_dwd1 in l_dwd1:\n",
    "        for p_dwd2 in l_dwd2:\n",
    "            rets_estrategia = f_estrategia_par (datos, activo, p_dwd1, p_dwd2)\n",
    "            estrategia = (1 + rets_estrategia).cumprod()\n",
    "            _rets = np.log(estrategia).diff()\n",
    "            _std = _rets.std()\n",
    "            rsharpe = _rets.mean()/_std\n",
    "            if rsharpe > max_sharpe:\n",
    "                pm_dwd1 = p_dwd1\n",
    "                pm_dwd2 = p_dwd2\n",
    "                max_sharpe = rsharpe\n",
    "\n",
    "    return pm_dwd1, pm_dwd2\n",
    "\n",
    "def f_optimizar (datos, activos, activo_def = None, fobj=1):\n",
    "\n",
    "    if activo_def == None:\n",
    "        alpha_rend = np.zeros(len(activos))\n",
    "        alpha_filtro = np.zeros(len(activos))\n",
    "        for i,activo in enumerate(activos):\n",
    "            alpha, estrvixsi, benchmark, filtro, rend = f_alpha_activo (datos, activo, fobj=fobj)\n",
    "            alpha_filtro[i] = filtro\n",
    "            alpha_rend[i] = rend\n",
    "\n",
    "        alphas_df = pd.DataFrame(alpha_rend, index=activos)\n",
    "        if fobj <= 2:\n",
    "            activos = alphas_df[alpha_filtro > 0].sort_values(0, ascending=False).index.to_list()\n",
    "            activo = alphas_df[alpha_filtro > 0].sort_values(0, ascending=False).index[0]\n",
    "        else:\n",
    "            activos = alphas_df[alpha_filtro > 0].sort_values(0, ascending=False).index.to_list()\n",
    "            activo = alphas_df.sort_values(0, ascending=False).index[0]\n",
    "    else:\n",
    "        activo = activo_def\n",
    "        activos = None\n",
    "\n",
    "    lpar_dws1 = [-1,2,4,6]\n",
    "    lpar_dws2 = [10,20,30,40,50]\n",
    "    par_dwd1, par_dwd2 = f_opt_params (datos, activo, lpar_dws1, lpar_dws2)\n",
    "    return activo, par_dwd1, par_dwd2, activos\n",
    "\n",
    "#seleccionar el primer día de cada año para hacer la optimización:\n",
    "#se necesitan tres años como mínimo para la optimización\n",
    "\n",
    "años = datos_vixsi.index.year.unique()\n",
    "min_años = 3\n",
    "#estrategia = pd.DataFrame(index=datos_vixsi.index)\n",
    "df_estrategia = pd.DataFrame()\n",
    "df_estrategia2 = pd.DataFrame()\n",
    "df_estrategia3 = pd.DataFrame()\n",
    "df_estrategia4 = pd.DataFrame()\n",
    "df_residual = pd.DataFrame()\n",
    "df_residual2 = pd.DataFrame()\n",
    "df_residual3 = pd.DataFrame()\n",
    "df_residual4 = pd.DataFrame()\n",
    "lactivo = []\n",
    "lactivos = []\n",
    "ldwd1 = []\n",
    "ldwd2 = []\n",
    "\n",
    "\n",
    "for activo in activos:\n",
    "    datos_vixsi[\"max\"+activo] = datos_vixsi[activo].rolling(252).max()\n",
    "\n",
    "for i in range(min_años,len(años)):\n",
    "    datos_opt = datos_vixsi.loc[:str(años[i-1])]\n",
    "    datos_test = datos_vixsi.loc[str(años[i])]\n",
    "    #activo, par_dwd1, par_dwd2 = f_optimizar (datos_opt, activos, activo_def=\"KLAC\")\n",
    "    activo, par_dwd1, par_dwd2, activos1 = f_optimizar (datos_opt, activos, activo_def=None, fobj=1)\n",
    "    print(años[i],len(datos_test),\"activo:\",activo,\"par_dwd\",par_dwd1,\"par_dwd2\",par_dwd2)\n",
    "    activo2, par2_dwd1, par2_dwd2, activos2 = f_optimizar (datos_opt, activos, activo_def=None, fobj=2)\n",
    "    print(años[i],len(datos_test),\"activo2:\",activo2,\"par2_dwd\",par_dwd1,\"par2_dwd2\",par_dwd2)\n",
    "    activo3, par3_dwd1, par3_dwd2, activos3 = f_optimizar (datos_opt, activos, activo_def=None, fobj=3)\n",
    "    print(años[i],len(datos_test),\"activo3:\",activo3,\"par3_dwd\",par_dwd1,\"par3_dwd2\",par_dwd2)\n",
    "    activo4, par4_dwd1, par4_dwd2, activos4 = f_optimizar (datos_opt, activos, activo_def=None, fobj=4)\n",
    "    print(años[i],len(datos_test),\"activo4:\",activo4,\"par4_dwd\",par_dwd1,\"par4_dwd2\",par_dwd2)\n",
    "\n",
    "    lactivo.append(activo)\n",
    "    lactivos.append(activos1)\n",
    "    ldwd1.append(par_dwd1)\n",
    "    ldwd2.append(par_dwd2)\n",
    "    \n",
    "    rets_estrategia = f_estrategia_par (datos_test, activo, par_dwd1, par_dwd2)\n",
    "    rets_estrategia2 = f_estrategia_par (datos_test, activo2, par2_dwd1, par2_dwd2)\n",
    "    rets_estrategia3 = f_estrategia_par (datos_test, activo3, par3_dwd1, par3_dwd2)\n",
    "    rets_estrategia4 = f_estrategia_par (datos_test, activo4, par4_dwd1, par4_dwd2)\n",
    "    rets_residual = f_estrategia_par (datos_test, activo, par_dwd1, -1, residual=True)\n",
    "    rets_residual2 = f_estrategia_par (datos_test, activo2, par2_dwd1, -1, residual=True)\n",
    "    rets_residual3 = f_estrategia_par (datos_test, activo3, par3_dwd1, -1, residual=True)\n",
    "    rets_residual4 = f_estrategia_par (datos_test, activo4, par4_dwd1, -1, residual=True)\n",
    "        \n",
    "    df_estrategia = pd.concat([df_estrategia, pd.DataFrame(rets_estrategia, index=datos_test.index)], axis=0)\n",
    "    df_estrategia2 = pd.concat([df_estrategia2, pd.DataFrame(rets_estrategia2, index=datos_test.index)], axis=0)\n",
    "    df_estrategia3 = pd.concat([df_estrategia3, pd.DataFrame(rets_estrategia3, index=datos_test.index)], axis=0)\n",
    "    df_residual = pd.concat([df_residual, pd.DataFrame(rets_residual, index=datos_test.index)], axis=0)\n",
    "    df_residual2 = pd.concat([df_residual2, pd.DataFrame(rets_residual2, index=datos_test.index)], axis=0)\n",
    "    df_residual3 = pd.concat([df_residual3, pd.DataFrame(rets_residual3, index=datos_test.index)], axis=0)\n",
    "    df_residual4 = pd.concat([df_residual4, pd.DataFrame(rets_residual4, index=datos_test.index)], axis=0)\n",
    "    df_estrategia4 = pd.concat([df_estrategia4, pd.DataFrame(rets_estrategia4, index=datos_test.index)], axis=0)\n"
   ]
  },
  {
   "cell_type": "code",
   "execution_count": null,
   "metadata": {},
   "outputs": [],
   "source": [
    "pd.DataFrame(lactivos)"
   ]
  },
  {
   "cell_type": "markdown",
   "metadata": {},
   "source": [
    "df_res = df_residual\n",
    "(1 + df_res).cumprod().plot()\n",
    "eq_residual_anual = (1 + df_res).groupby(df_res.index.year).prod()\n",
    "print(eq_residual_anual)\n",
    "print(eq_residual_anual.rolling(3).apply(lambda x: x.prod()).dropna())"
   ]
  },
  {
   "cell_type": "markdown",
   "metadata": {},
   "source": [
    "df_residual0 = f_estrategia_par (datos_vixsi,\"KLAC\", -1, -1, residual=True)\n",
    "(1 + df_residual0).cumprod().plot()\n",
    "eq_residual0_anual = (1 + df_residual0).groupby(df_residual0.index.year).prod()\n",
    "eq_residual0_anual\n",
    "print(eq_residual0_anual.rolling(3).apply(lambda x: x.prod()).dropna())"
   ]
  },
  {
   "cell_type": "code",
   "execution_count": null,
   "metadata": {},
   "outputs": [],
   "source": [
    "(1 + df_estrategia).cumprod().plot()\n",
    "eq_estrategia_anual0 = (1 + df_estrategia).groupby(df_estrategia.index.year).prod()\n",
    "eq_estrategia_anual0"
   ]
  },
  {
   "cell_type": "code",
   "execution_count": null,
   "metadata": {},
   "outputs": [],
   "source": [
    "(1 + (df_estrategia + df_estrategia2)/2).cumprod().plot()\n",
    "eq_estrategia_anual = (1 + (df_estrategia + df_estrategia2)/2).groupby(df_estrategia.index.year).prod()\n",
    "eq_estrategia_anual"
   ]
  },
  {
   "cell_type": "code",
   "execution_count": null,
   "metadata": {},
   "outputs": [],
   "source": [
    "(1 + (df_estrategia3 + df_estrategia4)/2).cumprod().plot()\n",
    "eq2_estrategia_anual = (1 + (df_estrategia3 + df_estrategia4)/2).groupby(df_estrategia.index.year).prod()\n",
    "eq2_estrategia_anual"
   ]
  },
  {
   "cell_type": "code",
   "execution_count": null,
   "metadata": {},
   "outputs": [],
   "source": [
    "df_spy = pd.DataFrame(datos_vixsi.SPY.pct_change().loc[df_estrategia.index], index=df_estrategia.index)\n",
    "df_spy.columns=[0]\n",
    "\n",
    "columnas = [\"estrvixsi\",\"residual\",\"spy\"]\n",
    "\n",
    "_plt = pd.concat([(1 + (df_estrategia + df_estrategia2)/2).cumprod(),\n",
    "                  (1 + ((df_estrategia + df_estrategia2)/2 - df_spy)/2).cumprod(),(1 + df_spy).cumprod()], axis=1)\n",
    "_plt.columns = columnas\n",
    "\n",
    "_plt.plot()\n",
    "df_diff_anual = pd.concat([(1 + (df_estrategia + df_estrategia2)/2).groupby(df_estrategia.index.year).prod(),\n",
    "                           (1 + ((df_estrategia + df_estrategia2)/2 - df_spy)/2).groupby(df_estrategia.index.year).prod(),\n",
    "                     (1 + df_spy).groupby(df_estrategia.index.year).prod()], axis=1)\n",
    "df_diff_anual.columns = columnas\n",
    "print(df_diff_anual)\n",
    "print(\"promedios anuales:\", df_diff_anual.mean().values)\n",
    "print(df_diff_anual.rolling(3).apply(lambda x: x.prod()).dropna())\n",
    "print(\"promedios trianuales:\", df_diff_anual.rolling(3).apply(lambda x: x.prod()).dropna().mean())\n"
   ]
  },
  {
   "cell_type": "code",
   "execution_count": null,
   "metadata": {},
   "outputs": [],
   "source": [
    "df_spy = pd.DataFrame(datos_vixsi.SPY.pct_change().loc[df_estrategia.index], index=df_estrategia.index)\n",
    "df_spy.columns=[0]\n",
    "\n",
    "columnas = [\"estrvixsi\",\"residual\",\"spy\"]\n",
    "\n",
    "_plt = pd.concat([(1 + (df_estrategia3 + df_estrategia4)/2).cumprod(),\n",
    "                  (1 + ((df_estrategia3 + df_estrategia4)/2 - df_spy)/2).cumprod(),(1 + df_spy).cumprod()], axis=1)\n",
    "_plt.columns = columnas\n",
    "\n",
    "_plt.plot()\n",
    "df_diff_anual = pd.concat([(1 + (df_estrategia3 + df_estrategia4)/2).groupby(df_estrategia.index.year).prod(),\n",
    "                           (1 + ((df_estrategia3 + df_estrategia4)/2 - df_spy)/2).groupby(df_estrategia.index.year).prod(),\n",
    "                     (1 + df_spy).groupby(df_estrategia.index.year).prod()], axis=1)\n",
    "df_diff_anual.columns = columnas\n",
    "print(df_diff_anual)\n",
    "print(\"promedios anuales:\", df_diff_anual.mean().values)\n",
    "print(df_diff_anual.rolling(3).apply(lambda x: x.prod()).dropna())\n",
    "print(\"promedios trianuales:\", df_diff_anual.rolling(3).apply(lambda x: x.prod()).dropna().mean())"
   ]
  },
  {
   "cell_type": "code",
   "execution_count": null,
   "metadata": {},
   "outputs": [],
   "source": [
    "a = [i for i in range(2011,2025)]"
   ]
  },
  {
   "cell_type": "code",
   "execution_count": null,
   "metadata": {},
   "outputs": [],
   "source": [
    "lactivo"
   ]
  },
  {
   "cell_type": "code",
   "execution_count": null,
   "metadata": {},
   "outputs": [],
   "source": [
    "ldwd1"
   ]
  },
  {
   "cell_type": "code",
   "execution_count": null,
   "metadata": {},
   "outputs": [],
   "source": [
    "ldwd2"
   ]
  },
  {
   "cell_type": "code",
   "execution_count": null,
   "metadata": {},
   "outputs": [],
   "source": [
    "pd.DataFrame({\"activo\":lactivo,\"dwd1\":ldwd1,\"dwd2\":ldwd2}, index=a).activo.unique()"
   ]
  },
  {
   "cell_type": "code",
   "execution_count": null,
   "metadata": {},
   "outputs": [],
   "source": [
    "rets_klk = f_estrategia_par (datos_vixsi,\"KLAC\", -1, 50)\n",
    "df_estrategia5 = pd.DataFrame(rets_klk.loc[df_estrategia.index],index=df_estrategia.index)\n",
    "df_estrategia5.columns=[0]\n",
    "\n",
    "df_spy = pd.DataFrame(datos_vixsi.SPY.pct_change().loc[df_estrategia.index], index=df_estrategia.index)\n",
    "df_spy.columns=[0]\n",
    "\n",
    "columnas = [\"estrvixsi\",\"residual\",\"spy\"]\n",
    "\n",
    "_plt = pd.concat([(1 + (df_estrategia5 + df_estrategia5)/2).cumprod(),\n",
    "                  (1 + ((df_estrategia5 + df_estrategia5)/2 - df_spy)/2).cumprod(),(1 + df_spy).cumprod()], axis=1)\n",
    "_plt.columns = columnas\n",
    "\n",
    "_plt.plot()\n",
    "df_diff_anual = pd.concat([(1 + (df_estrategia5 + df_estrategia5)/2).groupby(df_estrategia.index.year).prod(),\n",
    "                           (1 + ((df_estrategia5 + df_estrategia5)/2 - df_spy)/2).groupby(df_estrategia.index.year).prod(),\n",
    "                     (1 + df_spy).groupby(df_estrategia.index.year).prod()], axis=1)\n",
    "df_diff_anual.columns = columnas\n",
    "print(df_diff_anual)\n",
    "print(\"promedios anuales:\", df_diff_anual.mean().values)\n",
    "print(df_diff_anual.rolling(3).apply(lambda x: x.prod()).dropna())\n",
    "print(\"promedios trianuales:\", df_diff_anual.rolling(3).apply(lambda x: x.prod()).dropna().mean())\n"
   ]
  }
 ],
 "metadata": {
  "kernelspec": {
   "display_name": "python39",
   "language": "python",
   "name": "python39"
  },
  "language_info": {
   "codemirror_mode": {
    "name": "ipython",
    "version": 3
   },
   "file_extension": ".py",
   "mimetype": "text/x-python",
   "name": "python",
   "nbconvert_exporter": "python",
   "pygments_lexer": "ipython3",
   "version": "3.9.13"
  }
 },
 "nbformat": 4,
 "nbformat_minor": 5
}
