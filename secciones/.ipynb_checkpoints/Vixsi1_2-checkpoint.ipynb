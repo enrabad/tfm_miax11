{
 "cells": [
  {
   "cell_type": "markdown",
   "metadata": {
    "id": "pid7thaAix3z"
   },
   "source": [
    "### ALPHA GENERADO POR VIXSI\n",
    " \n",
    "El ALPHA de la estrategia es el exceso de retorno generado por la estrategia respecto al activo en un periodo determinado, se puede calcular de varias maneras, la que se utilizará aquí servirá para calcular el alpha únicamente con la estrategia de estar en corto.\n",
    "\n",
    "alpha = (suma_retornos_logaritmicos_estrategia - suma_retornos_logaritmicos_SPY)\n",
    "\n",
    "que es equivalente a:\n",
    "\n",
    "alpha = 2 * suma_retornos_logaritmicos_estrategia_solocorto (tercera estrategia del notebook anterior)\n",
    "\n",
    "La equivalencia es debida a que cuando la señal de la estrategia es 1, el alpha es 0, y cuando es -1, es -2*ret_SPY, que es\n",
    "lo mismo que doblar la estrategia de solo estar en corto\n"
   ]
  },
  {
   "cell_type": "code",
   "execution_count": 1,
   "metadata": {
    "id": "hmCJ-ZQ6jH0Z"
   },
   "outputs": [],
   "source": [
    "#Importamos las librerias necesarias\n",
    "\n",
    "import pandas as pd\n",
    "import numpy as np\n",
    "import matplotlib.pyplot as plt\n",
    "import yfinance as yf\n",
    "from datetime import timedelta\n",
    "\n",
    "%matplotlib inline\n",
    "%load_ext autoreload\n",
    "%autoreload 2\n",
    "\n",
    "from modulos.tfm_util import metrica_cartera\n",
    "from modulos.tfm_util import drwdown"
   ]
  },
  {
   "cell_type": "markdown",
   "metadata": {},
   "source": [
    "### Cargar señal y SPY "
   ]
  },
  {
   "cell_type": "code",
   "execution_count": 2,
   "metadata": {},
   "outputs": [
    {
     "name": "stdout",
     "output_type": "stream",
     "text": [
      "[*********************100%***********************]  1 of 1 completed\n"
     ]
    }
   ],
   "source": [
    "\n",
    "def cargar_datos ():\n",
    "    '''\n",
    "    Carga el indicador VIXSI desde ../datos/VIXSI.csv, \n",
    "    SPY desde yfinance \n",
    "    \n",
    "    '''\n",
    "\n",
    "    vixsi_datos = pd.read_csv(\"../datos/vixsi.csv\", index_col=0)\n",
    "    vixsi_datos.index = pd.to_datetime(vixsi_datos.index)\n",
    "    desde = vixsi_datos.index[0].strftime(\"%Y-%m-%d\")\n",
    "    hasta = (vixsi_datos.index[-1] + timedelta(days=1)).strftime(\"%Y-%m-%d\")\n",
    "    spy_datos = yf.download(\"SPY\", start=desde, end=hasta)\n",
    "\n",
    "    datos = pd.concat([vixsi_datos.VIXSI, spy_datos.Close], axis=1).dropna()\n",
    "    datos.columns = [\"vixsignal\",\"SPY\"]\n",
    "\n",
    "    datos.dropna(inplace=True)\n",
    "\n",
    "    return datos\n",
    "\n",
    "datos = cargar_datos()"
   ]
  },
  {
   "cell_type": "markdown",
   "metadata": {},
   "source": [
    "### Como el porcentaje de ocurrencias es bajo, el alpha de la estrategia se anualizará"
   ]
  },
  {
   "cell_type": "code",
   "execution_count": 3,
   "metadata": {},
   "outputs": [
    {
     "name": "stdout",
     "output_type": "stream",
     "text": [
      "%ocurrencias señal cobetura: 0.12\n"
     ]
    }
   ],
   "source": [
    "print(f\"%ocurrencias señal cobetura: {(datos.vixsignal == -1).sum()/len(datos):.2f}\")"
   ]
  },
  {
   "cell_type": "markdown",
   "metadata": {},
   "source": [
    "### CALCULO ALPHA\n",
    "\n",
    "Se calcula el alpha anualizado de la estrategia rolando una ventana de un año para observar estadísticas del alpha anualizado para cada día del dataset.\n",
    "\n",
    "El cálculo del alpha se puede hacer de dos maneras:\n",
    "1. Con la diferendia de retornos logarítmicos\n",
    "2. Multiplicando por 2 el retorno logarítimico de la estrategia operando solo en corto"
   ]
  },
  {
   "cell_type": "code",
   "execution_count": 4,
   "metadata": {},
   "outputs": [],
   "source": [
    "def f_alpharol_1 (spy, vixsi):\n",
    "    '''\n",
    "    Alpha anual = suma(retlog_estrategia - retlog_SPY)\n",
    "    \n",
    "    '''\n",
    "    \n",
    "    w_vixsi = vixsi.loc[spy.index]\n",
    "    retornos = np.log(spy).diff()\n",
    "    alpha = (retornos * w_vixsi.shift(1) - retornos).sum()\n",
    "    return alpha\n",
    "\n",
    "def f_alpharol_2(spy, vixsi):\n",
    "    '''\n",
    "    Alpha anual = 2*retlog_estrategia_corto\n",
    "    '''\n",
    "    \n",
    "    w_vixsi = vixsi.loc[spy.index]\n",
    "    señal_corto = (w_vixsi.shift(1)-1)/2\n",
    "    retornos = np.log(spy).diff()\n",
    "    alpha = 2 * (retornos * señal_corto).sum()\n",
    "    return alpha\n",
    "\n",
    "periodo = 252\n",
    "alphas_1 = datos.SPY.rolling(252).apply(lambda x: f_alpharol_1(x, datos.vixsignal))\n",
    "alphas_2 = datos.SPY.rolling(252).apply(lambda x: f_alpharol_2(x, datos.vixsignal))\n",
    "# Ambas forma de calcularlo dan el mismo valor\n",
    "(alphas_1 - alphas_2).sum()\n",
    "alphas = alphas_2"
   ]
  },
  {
   "cell_type": "markdown",
   "metadata": {},
   "source": [
    "Como se puede observar en los datos estadísticos, en promedio,  la estrategia VIXSI genera un exceso de rentabilidad cerca de un 10%, con un mínimo de -14% y un máximo de 73%"
   ]
  },
  {
   "cell_type": "code",
   "execution_count": 5,
   "metadata": {},
   "outputs": [
    {
     "data": {
      "text/plain": [
       "count    4018.000000\n",
       "mean        0.098786\n",
       "std         0.183177\n",
       "min        -0.142263\n",
       "25%        -0.011343\n",
       "50%         0.053426\n",
       "75%         0.145250\n",
       "max         0.727739\n",
       "Name: SPY, dtype: float64"
      ]
     },
     "execution_count": 5,
     "metadata": {},
     "output_type": "execute_result"
    }
   ],
   "source": [
    "alphas.describe()"
   ]
  },
  {
   "cell_type": "markdown",
   "metadata": {},
   "source": [
    "### Estadística en porcentajes diarios del alpha"
   ]
  },
  {
   "cell_type": "code",
   "execution_count": 6,
   "metadata": {},
   "outputs": [
    {
     "name": "stdout",
     "output_type": "stream",
     "text": [
      "%Dias con alpha anual positivo 66.62%\n",
      "%Dias con alpha anual negativo y rent. SPY anual negativo 1.15%\n"
     ]
    }
   ],
   "source": [
    "print (f\"%Dias con alpha anual positivo {(alphas > 0).sum()/len(datos)*100:.2f}%\")\n",
    "\n",
    "retSPY = np.log(datos.SPY).diff()\n",
    "rretSPY = retSPY.rolling(252).sum()\n",
    "nalpha = ((alphas < 0) & (rretSPY < 0)).sum()/len(datos)\n",
    "\n",
    "#(datos.rretSPY < 0).sum()/len(alphas), (datos.rretestr < 0).sum()/len(alphas)\n",
    "print(f\"%Dias con alpha anual negativo y rent. SPY anual negativo {nalpha*100:.2f}%\")"
   ]
  },
  {
   "cell_type": "markdown",
   "metadata": {},
   "source": [
    "### Conclusiones\n",
    "\n",
    "El alpha generado por la estrategia supera un 9% de media anual, cerca del 70% de los días el alpha anual es positivo, y sólo el 1% de veces es negativo cuando la rentabilidad anual del SPY es negativa, con lo que se puede decir que amortigua las caídas del SPY.\n",
    "\n",
    "En el siguiente notebook se verá el alpha de la estrategia en las acciones del SP500.\n"
   ]
  }
 ],
 "metadata": {
  "accelerator": "GPU",
  "colab": {
   "provenance": [
    {
     "file_id": "1Msh4cLcjnhzoqDvJyqVELcqHZKZYl2fk",
     "timestamp": 1551434518723
    }
   ]
  },
  "kernelspec": {
   "display_name": "python39",
   "language": "python",
   "name": "python39"
  },
  "language_info": {
   "codemirror_mode": {
    "name": "ipython",
    "version": 3
   },
   "file_extension": ".py",
   "mimetype": "text/x-python",
   "name": "python",
   "nbconvert_exporter": "python",
   "pygments_lexer": "ipython3",
   "version": "3.9.13"
  }
 },
 "nbformat": 4,
 "nbformat_minor": 2
}
