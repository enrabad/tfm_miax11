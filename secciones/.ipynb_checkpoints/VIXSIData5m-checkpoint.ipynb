{
 "cells": [
  {
   "cell_type": "markdown",
   "metadata": {
    "id": "yMVa2IbQAN3w"
   },
   "source": [
    "#### Generar los datos de base para la generación de los datasets a partir de los datos de origen de firstratedata.com"
   ]
  },
  {
   "cell_type": "code",
   "execution_count": 1,
   "metadata": {
    "colab": {
     "base_uri": "https://localhost:8080/"
    },
    "id": "9_CWssxzUhT_",
    "outputId": "34929271-3834-4e47-dc99-ee5d8ed3ca96"
   },
   "outputs": [],
   "source": [
    "# importar las librerías necesarias\n",
    "\n",
    "import yfinance as yf\n",
    "import numpy as np\n",
    "import pandas as pd\n",
    "import sys\n",
    "import os\n",
    "import time\n",
    "import datetime\n",
    "from datetime import datetime, timedelta\n",
    "import warnings\n",
    "warnings.filterwarnings('ignore')\n"
   ]
  },
  {
   "cell_type": "code",
   "execution_count": 5,
   "metadata": {},
   "outputs": [
    {
     "name": "stdout",
     "output_type": "stream",
     "text": [
      "[*********************100%***********************]  1 of 1 completed\n",
      "[*********************100%***********************]  1 of 1 completed\n"
     ]
    }
   ],
   "source": [
    "desde = \"2008-01-01\"\n",
    "SPY = yf.download(tickers=\"SPY\", start=desde, interval=\"1d\")\n",
    "VIX = yf.download(tickers=\"^VIX\", start=desde, interval=\"1d\")\n",
    "\n",
    "VIXm = pd.read_csv(\"../datos/VIX_full_5min.txt\", index_col=0)\n",
    "VIXm.index = pd.to_datetime(VIXm.index)\n",
    "VIXm= VIXm.groupby(VIXm.index.date).tail(7).groupby(pd.Grouper(freq='D')).head(1)\n",
    "\n",
    "# Ajustar el índice para que sea por día\n",
    "VIXm.index = VIXm.index.date\n",
    "VIXm = VIXm[[\"Close\"]]"
   ]
  },
  {
   "cell_type": "code",
   "execution_count": 6,
   "metadata": {},
   "outputs": [],
   "source": [
    "def vixsi (rserie, serieVIX):\n",
    "    dVIX = serieVIX/(np.sqrt(265)*100)\n",
    "    \n",
    "    #VIXPY = np.abs(rserie) - dVIX\n",
    "    VIXPY = rserie - dVIX\n",
    "    #VIXPY[(rserie < 0) & (abs(rserie) < dVIX)] = 0\n",
    "    VIXPY = np.where(VIXPY > 0,-1,1)\n",
    "    return VIXPY\n"
   ]
  },
  {
   "cell_type": "code",
   "execution_count": 7,
   "metadata": {},
   "outputs": [],
   "source": [
    "cartera = pd.concat([SPY[[\"Close\"]], VIX[[\"Close\"]]], axis=1).dropna(axis=0)\n",
    "cartera.columns = [\"SPY\", \"VIX\"]\n",
    "\n",
    "cartera[\"retSPY\"] = cartera.SPY.pct_change()\n",
    "cartera[\"VIXSI\"] = vixsi(cartera.retSPY, cartera.VIX)\n",
    "cartera = cartera[[\"VIXSI\"]]\n",
    "cartera.to_csv(\"VIXSI_yfhist.csv\")\n",
    "\n",
    "cartera = pd.concat([SPY[[\"Close\"]], VIXm[[\"Close\"]]], axis=1).dropna(axis=0)\n",
    "cartera.columns = [\"SPY\", \"VIX\"]\n",
    "\n",
    "cartera[\"retSPY\"] = cartera.SPY.pct_change()\n",
    "cartera[\"VIXSI\"] = vixsi(cartera.retSPY, cartera.VIX)\n",
    "cartera = cartera[[\"VIXSI\"]]\n",
    "cartera.to_csv(\"VIXSI_hist.csv\")"
   ]
  },
  {
   "cell_type": "code",
   "execution_count": 2,
   "metadata": {},
   "outputs": [
    {
     "name": "stdout",
     "output_type": "stream",
     "text": [
      "% diferencia entre real y rhistórica 30min antes: VIXSI    0.0\n",
      "dtype: float64\n"
     ]
    }
   ],
   "source": [
    "vixsi_rhist = pd.read_csv(\"vixsi_hist_real.csv\", index_col=0)\n",
    "vixsi_real = pd.read_csv(\"vixsi_real.csv\", index_col=0)\n",
    "vixsi_diff = np.abs((vixsi_rhist - vixsi_real).dropna()/2)\n",
    "print(\"% diferencia entre real y rhistórica 30min antes:\", vixsi_diff.sum()/len(vixsi_diff))"
   ]
  },
  {
   "cell_type": "code",
   "execution_count": 11,
   "metadata": {},
   "outputs": [
    {
     "name": "stdout",
     "output_type": "stream",
     "text": [
      "% diferencia entre histórica 30min antes y histórica final dia: VIXSI    0.001911\n",
      "dtype: float64\n",
      "% diferencia entre real y histórica 30min antes: VIXSI    0.066667\n",
      "dtype: float64\n",
      "% diferencia entre real y histórica final dia: VIXSI    0.066667\n",
      "dtype: float64\n"
     ]
    }
   ],
   "source": [
    "# % de diferencia entre señal real y señal histórica\n",
    "vixsi_hist = pd.read_csv(\"vixsi_hist.csv\", index_col=0)\n",
    "vixsi_yfhist = pd.read_csv(\"vixsi_yfhist.csv\", index_col=0)\n",
    "vixsi_real = pd.read_csv(\"vixsi_real.csv\", index_col=0)\n",
    "\n",
    "vixsi_diff = np.abs((vixsi_hist - vixsi_yfhist).dropna()/2)\n",
    "print(\"% diferencia entre histórica 30min antes y histórica final dia:\", vixsi_diff.sum()/len(vixsi_diff))\n",
    "\n",
    "vixsi_diff = np.abs((vixsi_hist - vixsi_real).dropna()/2)\n",
    "print(\"% diferencia entre real y histórica 30min antes:\", vixsi_diff.sum()/len(vixsi_diff))\n",
    "\n",
    "vixsi_diff = np.abs((vixsi_yfhist - vixsi_real).dropna()/2)\n",
    "print(\"% diferencia entre real y histórica final dia:\", vixsi_diff.sum()/len(vixsi_diff))"
   ]
  }
 ],
 "metadata": {
  "colab": {
   "provenance": []
  },
  "kernelspec": {
   "display_name": "python39",
   "language": "python",
   "name": "python39"
  },
  "language_info": {
   "codemirror_mode": {
    "name": "ipython",
    "version": 3
   },
   "file_extension": ".py",
   "mimetype": "text/x-python",
   "name": "python",
   "nbconvert_exporter": "python",
   "pygments_lexer": "ipython3",
   "version": "3.9.13"
  }
 },
 "nbformat": 4,
 "nbformat_minor": 2
}
