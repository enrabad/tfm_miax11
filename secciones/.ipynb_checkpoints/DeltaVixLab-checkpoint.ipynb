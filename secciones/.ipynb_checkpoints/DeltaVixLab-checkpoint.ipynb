{
 "cells": [
  {
   "cell_type": "code",
   "execution_count": 1,
   "metadata": {},
   "outputs": [
    {
     "name": "stdout",
     "output_type": "stream",
     "text": [
      "[*********************100%***********************]  1 of 1 completed\n",
      "[*********************100%***********************]  1 of 1 completed\n",
      "[*********************100%***********************]  1 of 1 completed\n"
     ]
    }
   ],
   "source": [
    "import pandas as pd\n",
    "import numpy as np\n",
    "\n",
    "import warnings\n",
    "warnings.filterwarnings('ignore')\n",
    "\n",
    "import matplotlib.pyplot as plt\n",
    "%matplotlib inline\n",
    "plt.style.use('seaborn-darkgrid')\n",
    "\n",
    "import yfinance as yf\n",
    "from bs4 import BeautifulSoup\n",
    "import requests\n",
    "from datetime import datetime\n",
    "from datetime import timedelta\n",
    "from dateutil.relativedelta import relativedelta\n",
    "import time\n",
    "import pandas as pd\n",
    "import numpy as np\n",
    "import random\n",
    "import time\n",
    "\n",
    "#df_vixsi = pd.read_csv(\"/content/drive/MyDrive/vixsi/VIXSIyf.csv\", index_col=0)\n",
    "#df_vixsi.index =  pd.to_datetime(df_vixsi.index)\n",
    "#desde = df_vixsi.index[0].strftime(\"%Y-%m-%d\")\n",
    "#hasta = df_vixsi.index[-1].strftime(\"%Y-%m-%d\")\n",
    "\n",
    "desde = \"2008-01-01\"\n",
    "hasta = (datetime.now() + timedelta(1)).strftime(\"%Y-%m-%d\")\n",
    "\n",
    "spy_datos = yf.download(\"SPY\", start=desde, end=hasta)\n",
    "vix_datos = yf.download(\"^VIX\", start=desde, end=hasta)\n",
    "spx_datos = yf.download(\"^SPX\", start=desde, end=hasta)\n",
    "\n",
    "datos = pd.concat([spy_datos.Close, vix_datos.Close, spx_datos.Close], axis=1).dropna()\n",
    "datos.columns = [\"SPY\",\"VIX\",\"SPX\"]\n",
    "datos[\"rets\"] = datos.SPY.pct_change()\n",
    "datos[\"xrets\"] = datos.SPX.pct_change()\n",
    "#datos[\"FVIXSI\"] = np.where (datos.rets > 0, datos.rets - datos.VIX/(np.sqrt(256)*100), - datos.VIX/(np.sqrt(256)*100))\n",
    "datos[\"FVIXSI\"] = datos.rets - datos.VIX/(np.sqrt(256)*100)\n",
    "#20241005\n",
    "datos[\"PVIXSI\"] = datos.rets - datos.VIX/(np.sqrt(256)*100)\n",
    "datos[\"NVIXSI\"] = datos.rets + datos.VIX/(np.sqrt(256)*100)\n",
    "datos[\"VIXSI\"] = np.where ((datos.FVIXSI > 0), -1, 1)\n",
    "datos[\"QVIXSI\"] = datos.FVIXSI.rank(pct=True)\n",
    "datos.dropna(inplace=True)\n",
    "datos[\"qvixsi\"] = -999\n",
    "\n",
    "def get_delta(datos, ret_activo, fvixsi):\n",
    "    '''\n",
    "\n",
    "    '''\n",
    "\n",
    "    datos1 = datos.copy()\n",
    "    datos1[\"xretsig\"] = datos1.xrets.shift(-1)\n",
    "    datos1.dropna(inplace=True)\n",
    "\n",
    "    if ret_activo < 0:\n",
    "        #if ret_activo > 0:\n",
    "        #    datos1.NVIXSI = datos1.PVIXSI\n",
    "\n",
    "        qnvixsi = datos1[datos1.xrets < 0].NVIXSI.rank(pct=True)\n",
    "        NVIXSI = pd.concat(\n",
    "                    [qnvixsi, datos1.loc[qnvixsi.index].NVIXSI,\n",
    "                     datos1.loc[qnvixsi.index].xrets,\n",
    "                     datos1.loc[qnvixsi.index].xretsig],\n",
    "                     axis=1)\n",
    "        NVIXSI.columns = [\"QVIXSI\",\"FVIXSI\",\"xrets\",\"xretsig\"]\n",
    "\n",
    "        qvixsi = NVIXSI[NVIXSI.FVIXSI<fvixsi].QVIXSI.max()\n",
    "    else:\n",
    "        qpvixsi = datos1[datos1.xrets > 0].PVIXSI.rank(pct=True)\n",
    "        PVIXSI = pd.concat(\n",
    "                    [qpvixsi, datos1.loc[qpvixsi.index].PVIXSI,\n",
    "                     datos1.loc[qpvixsi.index].xrets,\n",
    "                     datos1.loc[qpvixsi.index].xretsig],\n",
    "                     axis=1)\n",
    "        PVIXSI.columns = [\"QVIXSI\",\"FVIXSI\",\"xrets\",\"xretsig\"]\n",
    "\n",
    "        qvixsi = PVIXSI[PVIXSI.FVIXSI<fvixsi].QVIXSI.max()\n",
    "\n",
    "    return qvixsi\n"
   ]
  },
  {
   "cell_type": "code",
   "execution_count": 5,
   "metadata": {},
   "outputs": [
    {
     "name": "stdout",
     "output_type": "stream",
     "text": [
      "tiempo proceso:  23.409013986587524\n"
     ]
    }
   ],
   "source": [
    "    ini = time.time()\n",
    "    for i in range(len(datos)):\n",
    "        ret_activo = datos.iloc[i][\"xrets\"]\n",
    "        if ret_activo > 0:\n",
    "            fvixsi = datos.iloc[i][\"PVIXSI\"]\n",
    "        else:\n",
    "            fvixsi = datos.iloc[i][\"NVIXSI\"]\n",
    "\n",
    "        qvixsi = get_delta(datos, ret_activo, fvixsi)\n",
    "\n",
    "        if ret_activo < 0:\n",
    "            if qvixsi >= 0.5:\n",
    "                # alcista\n",
    "                qvixsi = (qvixsi - 0.5)*2\n",
    "            else:\n",
    "                # bajista\n",
    "                qvixsi = (0.5 - qvixsi)*2 * -1\n",
    "        else:\n",
    "            if qvixsi >= 0.5:\n",
    "                # bajista\n",
    "                qvixsi = (qvixsi - 0.5)*2 * -1\n",
    "            else:\n",
    "                # alcista\n",
    "                qvixsi = (0.5 - qvixsi)*2\n",
    "\n",
    "        datos.iloc[i,datos.columns.get_loc(\"qvixsi\")] = qvixsi\n",
    "\n",
    "datos.to_csv(\"rqvixsi.csv\")\n",
    "print (\"tiempo proceso: \", time.time() - ini)"
   ]
  },
  {
   "cell_type": "code",
   "execution_count": 2,
   "metadata": {},
   "outputs": [],
   "source": [
    "datos = pd.read_csv(\"rqvixsi.csv\", index_col=0, parse_dates=True)"
   ]
  },
  {
   "cell_type": "code",
   "execution_count": 3,
   "metadata": {},
   "outputs": [
    {
     "data": {
      "text/plain": [
       "count    37.000000\n",
       "mean      0.000158\n",
       "std       0.007171\n",
       "min      -0.013934\n",
       "25%      -0.003298\n",
       "50%       0.000385\n",
       "75%       0.005376\n",
       "max       0.018837\n",
       "Name: rets, dtype: float64"
      ]
     },
     "execution_count": 3,
     "metadata": {},
     "output_type": "execute_result"
    }
   ],
   "source": [
    "len(datos[(datos.qvixsi.shift(1)>0.9)&(datos.qvixsi>0.9)])/len(datos)\n",
    "datos[(datos.qvixsi.shift(1)>0.9)&(datos.qvixsi>0.9)].rets.describe()"
   ]
  },
  {
   "cell_type": "code",
   "execution_count": 68,
   "metadata": {},
   "outputs": [
    {
     "name": "stdout",
     "output_type": "stream",
     "text": [
      "0 1 -0.0011500296768531\n"
     ]
    },
    {
     "data": {
      "text/html": [
       "<div>\n",
       "<style scoped>\n",
       "    .dataframe tbody tr th:only-of-type {\n",
       "        vertical-align: middle;\n",
       "    }\n",
       "\n",
       "    .dataframe tbody tr th {\n",
       "        vertical-align: top;\n",
       "    }\n",
       "\n",
       "    .dataframe thead th {\n",
       "        text-align: right;\n",
       "    }\n",
       "</style>\n",
       "<table border=\"1\" class=\"dataframe\">\n",
       "  <thead>\n",
       "    <tr style=\"text-align: right;\">\n",
       "      <th></th>\n",
       "      <th>precio</th>\n",
       "      <th>delta</th>\n",
       "    </tr>\n",
       "  </thead>\n",
       "  <tbody>\n",
       "    <tr>\n",
       "      <th>0</th>\n",
       "      <td>-10.141802</td>\n",
       "      <td>0.400000</td>\n",
       "    </tr>\n",
       "    <tr>\n",
       "      <th>5</th>\n",
       "      <td>-8.626747</td>\n",
       "      <td>0.347619</td>\n",
       "    </tr>\n",
       "    <tr>\n",
       "      <th>10</th>\n",
       "      <td>-7.313082</td>\n",
       "      <td>0.304762</td>\n",
       "    </tr>\n",
       "    <tr>\n",
       "      <th>15</th>\n",
       "      <td>-6.255401</td>\n",
       "      <td>0.247619</td>\n",
       "    </tr>\n",
       "    <tr>\n",
       "      <th>20</th>\n",
       "      <td>-5.534208</td>\n",
       "      <td>0.200000</td>\n",
       "    </tr>\n",
       "  </tbody>\n",
       "</table>\n",
       "</div>"
      ],
      "text/plain": [
       "       precio     delta\n",
       "0  -10.141802  0.400000\n",
       "5   -8.626747  0.347619\n",
       "10  -7.313082  0.304762\n",
       "15  -6.255401  0.247619\n",
       "20  -5.534208  0.200000"
      ]
     },
     "execution_count": 68,
     "metadata": {},
     "output_type": "execute_result"
    }
   ],
   "source": [
    "fvixsi = 0.01\n",
    "sl = -0.01\n",
    "for i in range (10):\n",
    "    j = i + 1\n",
    "    if fvixsi > i/10 and fvixsi <= j/10:\n",
    "    #print(len(datos[(datos.qvixsi.shift(1)>0)&(datos.qvixsi.shift(1)<=0.1)&(datos.qvixsi>datos.qvixsi.shift(1))])/len(datos))\n",
    "        PQrets1 = datos[(datos.qvixsi.shift(1)>i/10)&(datos.qvixsi.shift(1)<=j/10)][[\"SPX\",\"xrets\"]]\n",
    "        print(i,j,\n",
    "        #datos[(datos.qvixsi.shift(1)>i/10)&(datos.qvixsi.shift(1)<=j/10)&(datos.qvixsi>datos.qvixsi.shift(1))].xrets.describe()[4]*5500)\n",
    "        datos[(datos.qvixsi.shift(1)>i/10)&(datos.qvixsi.shift(1)<=j/10)&(datos.qvixsi>datos.qvixsi.shift(1))].xrets.describe()[4])\n",
    "        deltavix = pd.DataFrame(index = [k for k in range(0,25,5)])\n",
    "        deltavix[\"precio\"]=0\n",
    "        deltavix[\"delta\"]=0\n",
    "        for k in range(0,25,5):\n",
    "            max = -k/PQrets1.SPX.iloc[-1]\n",
    "            PQrets1[\"rets\"] = 0\n",
    "            PQrets1.loc[PQrets1.xrets<max,\"rets\"] = PQrets1[PQrets1.xrets<max].xrets - max\n",
    "            PQrets1.loc[PQrets1.xrets<sl,\"rets\"] = sl\n",
    "            precio = PQrets1.mean().rets * PQrets1.SPX.iloc[-1]\n",
    "            delta = len(PQrets1.loc[PQrets1.xrets<max])/len(PQrets1)\n",
    "            deltavix.loc[k,\"precio\"] = precio\n",
    "            deltavix.loc[k,\"delta\"] = delta\n",
    "\n",
    "deltavix"
   ]
  },
  {
   "cell_type": "code",
   "execution_count": null,
   "metadata": {},
   "outputs": [],
   "source": [
    "        deltavix = pd.DataFrame(index = [k for k in range(0,25,5)])\n",
    "        deltavix[\"precio\"]=0\n",
    "        deltavix[\"deta\"]=0\n",
    "        for k in range(0,25,5):\n",
    "            max = -k/PQrets1.SPX.iloc[-1]\n",
    "            PQrets1[\"rets\"] = 0\n",
    "            PQrets1.loc[PQrets1.xrets<max,\"rets\"] = PQrets1[PQrets1.xrets<max].xrets - max\n",
    "            PQrets1.loc[PQrets1.xrets<sl,\"rets\"] = sl\n",
    "            precio = PQrets1.mean().rets * PQrets1.SPX.iloc[-1]\n",
    "            delta = len(PQrets1.loc[PQrets1.xrets<max])/len(PQrets1)\n",
    "            print(k,precio,delta)\n",
    "            deltavix.loc[j,\"precio\"] = precio\n",
    "            deltavix.loc[j,\"delta\"] = delta"
   ]
  },
  {
   "cell_type": "code",
   "execution_count": 47,
   "metadata": {},
   "outputs": [
    {
     "data": {
      "text/plain": [
       "(-0.0017752246595347941, -7.313082345659511, 0.3047619047619048)"
      ]
     },
     "execution_count": 47,
     "metadata": {},
     "output_type": "execute_result"
    }
   ],
   "source": [
    "max = -10/PQrets1.SPX.iloc[-1]\n",
    "sl = -0.01\n",
    "PQrets1.rets = 0\n",
    "PQrets1.loc[PQrets1.xrets<max,\"rets\"] = PQrets1[PQrets1.xrets<max].xrets - max\n",
    "PQrets1.loc[PQrets1.xrets<sl,\"rets\"] = sl\n",
    "max, PQrets1.mean().rets * PQrets1.SPX.iloc[-1], len(PQrets1.loc[PQrets1.xrets<max])/len(PQrets1)"
   ]
  },
  {
   "cell_type": "code",
   "execution_count": 22,
   "metadata": {},
   "outputs": [
    {
     "data": {
      "text/plain": [
       "-4.860817501424837"
      ]
     },
     "execution_count": 22,
     "metadata": {},
     "output_type": "execute_result"
    }
   ],
   "source": []
  },
  {
   "cell_type": "code",
   "execution_count": 5,
   "metadata": {},
   "outputs": [
    {
     "name": "stdout",
     "output_type": "stream",
     "text": [
      "0 1 42.4538471895582\n",
      "1 2 52.613090720847254\n",
      "2 3 49.24442434469126\n",
      "3 4 62.0287129483769\n",
      "4 5 55.40638420142018\n",
      "5 6 80.1661401230338\n",
      "6 7 57.9406679234933\n",
      "7 8 123.48521913068605\n",
      "8 9 122.33096122580051\n",
      "9 10 181.51053950883949\n"
     ]
    }
   ],
   "source": [
    "for i in range (10):\n",
    "    j = i + 1\n",
    "    #print(len(datos[(datos.qvixsi.shift(1)<-i/10)&(datos.qvixsi.shift(1)>=-j/10)&(datos.qvixsi<datos.qvixsi.shift(1))])/len(datos))\n",
    "    print(i,j,\n",
    "    datos[(datos.qvixsi.shift(1)<-i/10)&(datos.qvixsi.shift(1)>=-j/10)&(datos.qvixsi<datos.qvixsi.shift(1))].xrets.describe()[6]*5500)\n"
   ]
  },
  {
   "cell_type": "code",
   "execution_count": 11,
   "metadata": {},
   "outputs": [
    {
     "data": {
      "text/html": [
       "<div>\n",
       "<style scoped>\n",
       "    .dataframe tbody tr th:only-of-type {\n",
       "        vertical-align: middle;\n",
       "    }\n",
       "\n",
       "    .dataframe tbody tr th {\n",
       "        vertical-align: top;\n",
       "    }\n",
       "\n",
       "    .dataframe thead th {\n",
       "        text-align: right;\n",
       "    }\n",
       "</style>\n",
       "<table border=\"1\" class=\"dataframe\">\n",
       "  <thead>\n",
       "    <tr style=\"text-align: right;\">\n",
       "      <th></th>\n",
       "      <th>0</th>\n",
       "    </tr>\n",
       "  </thead>\n",
       "  <tbody>\n",
       "    <tr>\n",
       "      <th>a1</th>\n",
       "      <td>1</td>\n",
       "    </tr>\n",
       "    <tr>\n",
       "      <th>a2</th>\n",
       "      <td>2</td>\n",
       "    </tr>\n",
       "    <tr>\n",
       "      <th>a3</th>\n",
       "      <td>3</td>\n",
       "    </tr>\n",
       "  </tbody>\n",
       "</table>\n",
       "</div>"
      ],
      "text/plain": [
       "    0\n",
       "a1  1\n",
       "a2  2\n",
       "a3  3"
      ]
     },
     "execution_count": 11,
     "metadata": {},
     "output_type": "execute_result"
    }
   ],
   "source": [
    "pd_1 = pd.DataFrame([1,2,3],index=[\"a1\",\"a2\",\"a3\"])\n",
    "pd_1"
   ]
  },
  {
   "cell_type": "code",
   "execution_count": 28,
   "metadata": {},
   "outputs": [
    {
     "name": "stdout",
     "output_type": "stream",
     "text": [
      "0.026931254429482635\n"
     ]
    },
    {
     "data": {
      "text/plain": [
       "count    114.000000\n",
       "mean       0.000346\n",
       "std        0.010893\n",
       "min       -0.036910\n",
       "25%       -0.006040\n",
       "50%       -0.001343\n",
       "75%        0.008593\n",
       "max        0.026962\n",
       "Name: rets, dtype: float64"
      ]
     },
     "execution_count": 28,
     "metadata": {},
     "output_type": "execute_result"
    }
   ],
   "source": [
    "print(len(datos[(datos.qvixsi.shift(1)<0)&(datos.qvixsi.shift(1)>=-0.1)&(datos.qvixsi<datos.qvixsi.shift(1))])/len(datos))\n",
    "datos[(datos.qvixsi.shift(1)<0)&(datos.qvixsi.shift(1)>=-0.1)&(datos.qvixsi<datos.qvixsi.shift(1))].rets.describe()"
   ]
  }
 ],
 "metadata": {
  "kernelspec": {
   "display_name": "python39",
   "language": "python",
   "name": "python39"
  },
  "language_info": {
   "codemirror_mode": {
    "name": "ipython",
    "version": 3
   },
   "file_extension": ".py",
   "mimetype": "text/x-python",
   "name": "python",
   "nbconvert_exporter": "python",
   "pygments_lexer": "ipython3",
   "version": "3.9.13"
  }
 },
 "nbformat": 4,
 "nbformat_minor": 5
}
