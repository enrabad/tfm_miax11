{
 "cells": [
  {
   "cell_type": "code",
   "execution_count": 11,
   "metadata": {},
   "outputs": [
    {
     "name": "stdout",
     "output_type": "stream",
     "text": [
      "[*********************100%***********************]  1 of 1 completed\n",
      "[*********************100%***********************]  1 of 1 completed\n",
      "[*********************100%***********************]  1 of 1 completed\n"
     ]
    }
   ],
   "source": [
    "import pandas as pd\n",
    "import numpy as np\n",
    "\n",
    "import warnings\n",
    "warnings.filterwarnings('ignore')\n",
    "\n",
    "import matplotlib.pyplot as plt\n",
    "%matplotlib inline\n",
    "plt.style.use('seaborn-darkgrid')\n",
    "\n",
    "import yfinance as yf\n",
    "from bs4 import BeautifulSoup\n",
    "import requests\n",
    "from datetime import datetime\n",
    "from datetime import timedelta\n",
    "from dateutil.relativedelta import relativedelta\n",
    "import time\n",
    "import pandas as pd\n",
    "import numpy as np\n",
    "import random\n",
    "import time\n",
    "\n",
    "#df_vixsi = pd.read_csv(\"/content/drive/MyDrive/vixsi/VIXSIyf.csv\", index_col=0)\n",
    "#df_vixsi.index =  pd.to_datetime(df_vixsi.index)\n",
    "#desde = df_vixsi.index[0].strftime(\"%Y-%m-%d\")\n",
    "#hasta = df_vixsi.index[-1].strftime(\"%Y-%m-%d\")\n",
    "#DeltaIndicator puede ser una clase\n",
    "\n",
    "def indicadores (desde, hasta):\n",
    "    '''\n",
    "    Devuelve dos indicadores, uno para los retornos positivos (primer parámetro)\n",
    "    y otro para los retornor negativos (segundo parámetro)\n",
    "    \n",
    "    '''\n",
    "    \n",
    "    vix_datos = yf.download(\"^VIX\", start=desde, end=hasta)\n",
    "    spy_datos = yf.download(\"SPY\", start=desde, end=hasta)\n",
    "    datos = pd.concat([spy_datos.Close, vix_datos.Close], axis=1)\n",
    "    datos.columns = [\"SPY\",\"VIX\"]\n",
    "    datos[\"rets\"] = datos.SPY.pct_change()\n",
    "    \n",
    "    return datos.rets - datos.VIX/(np.sqrt(256)*100), datos.rets + datos.VIX/(np.sqrt(256)*100)\n",
    "\n",
    "desde = \"2008-01-01\"\n",
    "hasta = (datetime.now() + timedelta(1)).strftime(\"%Y-%m-%d\")\n",
    "datos = yf.download(\"^SPX\", start=desde, end=hasta)\n",
    "datos = datos[[\"Close\"]]\n",
    "datos.columns = [\"SPX\"]\n",
    "datos[\"xrets\"] = datos.SPX.pct_change()\n",
    "\n",
    "datos[\"PIND\"], datos[\"NIND\"] = indicadores (desde, hasta)\n",
    "datos.dropna(inplace=True)\n",
    "\n"
   ]
  },
  {
   "cell_type": "code",
   "execution_count": null,
   "metadata": {},
   "outputs": [],
   "source": [
    "datos[\"qvixsi\"] = -999\n",
    "def get_delta(datos, ret_activo, fvixsi):\n",
    "    '''\n",
    "\n",
    "    '''\n",
    "\n",
    "    datos1 = datos.copy()\n",
    "    datos1[\"xretsig\"] = datos1.xrets.shift(-1)\n",
    "    datos1.dropna(inplace=True)\n",
    "\n",
    "    if ret_activo < 0:\n",
    "        #if ret_activo > 0:\n",
    "        #    datos1.NVIXSI = datos1.PVIXSI\n",
    "\n",
    "        qnvixsi = datos1[datos1.xrets < 0].NVIXSI.rank(pct=True)\n",
    "        NVIXSI = pd.concat(\n",
    "                    [qnvixsi, datos1.loc[qnvixsi.index].NVIXSI,\n",
    "                     datos1.loc[qnvixsi.index].xrets,\n",
    "                     datos1.loc[qnvixsi.index].xretsig],\n",
    "                     axis=1)\n",
    "        NVIXSI.columns = [\"QVIXSI\",\"FVIXSI\",\"xrets\",\"xretsig\"]\n",
    "\n",
    "        qvixsi = NVIXSI[NVIXSI.FVIXSI<fvixsi].QVIXSI.max()\n",
    "    else:\n",
    "        qpvixsi = datos1[datos1.xrets > 0].PVIXSI.rank(pct=True)\n",
    "        PVIXSI = pd.concat(\n",
    "                    [qpvixsi, datos1.loc[qpvixsi.index].PVIXSI,\n",
    "                     datos1.loc[qpvixsi.index].xrets,\n",
    "                     datos1.loc[qpvixsi.index].xretsig],\n",
    "                     axis=1)\n",
    "        PVIXSI.columns = [\"QVIXSI\",\"FVIXSI\",\"xrets\",\"xretsig\"]\n",
    "\n",
    "        qvixsi = PVIXSI[PVIXSI.FVIXSI<fvixsi].QVIXSI.max()\n",
    "\n",
    "    return qvixsi\n",
    "\n",
    "def DeltaIndicator (v_rets, v_pind, v_nind, porce_exito):\n",
    "    '''\n",
    "\n",
    "    Utilizando los parámetros v_rets: retorno del activio subyacente de las opciones diarias,\n",
    "    v_pind: el indicador para los retornos positivos y v_nind: el indicador para los retornos negativos.\n",
    "    genera el delta indicador que varía entre 0 y 1, y un dataframe que contiene como índice los deciles y como\n",
    "    atributos el delta mínimo sobre el ATM y el precio mínimo a operar para venta de PUTS (delta negativo) y\n",
    "    venta de CALLS (delta positivo) que haga la esperanza matemática positiva utilizando los datos históricos\n",
    "    de los retornos del subyacente para el porcentaje de éxito definido por porce_exito (entre 0 y 100)\n",
    "    \n",
    "    '''\n",
    "\n",
    "    \n",
    "    "
   ]
  },
  {
   "cell_type": "code",
   "execution_count": 5,
   "metadata": {},
   "outputs": [
    {
     "name": "stdout",
     "output_type": "stream",
     "text": [
      "tiempo proceso:  23.409013986587524\n"
     ]
    }
   ],
   "source": [
    "    ini = time.time()\n",
    "    for i in range(len(datos)):\n",
    "        ret_activo = datos.iloc[i][\"xrets\"]\n",
    "        if ret_activo > 0:\n",
    "            fvixsi = datos.iloc[i][\"PVIXSI\"]\n",
    "        else:\n",
    "            fvixsi = datos.iloc[i][\"NVIXSI\"]\n",
    "\n",
    "        qvixsi = get_delta(datos, ret_activo, fvixsi)\n",
    "\n",
    "        if ret_activo < 0:\n",
    "            if qvixsi >= 0.5:\n",
    "                # alcista\n",
    "                qvixsi = (qvixsi - 0.5)*2\n",
    "            else:\n",
    "                # bajista\n",
    "                qvixsi = (0.5 - qvixsi)*2 * -1\n",
    "        else:\n",
    "            if qvixsi >= 0.5:\n",
    "                # bajista\n",
    "                qvixsi = (qvixsi - 0.5)*2 * -1\n",
    "            else:\n",
    "                # alcista\n",
    "                qvixsi = (0.5 - qvixsi)*2\n",
    "\n",
    "        datos.iloc[i,datos.columns.get_loc(\"qvixsi\")] = qvixsi\n",
    "\n",
    "datos.to_csv(\"rqvixsi.csv\")\n",
    "print (\"tiempo proceso: \", time.time() - ini)"
   ]
  },
  {
   "cell_type": "code",
   "execution_count": 4,
   "metadata": {},
   "outputs": [],
   "source": [
    "datos = pd.read_csv(\"rqvixsi.csv\", index_col=0, parse_dates=True)"
   ]
  },
  {
   "cell_type": "code",
   "execution_count": 13,
   "metadata": {},
   "outputs": [
    {
     "data": {
      "text/plain": [
       "count    34.000000\n",
       "mean     -0.000550\n",
       "std       0.007512\n",
       "min      -0.013934\n",
       "25%      -0.005346\n",
       "50%      -0.000165\n",
       "75%       0.005142\n",
       "max       0.018837\n",
       "Name: rets, dtype: float64"
      ]
     },
     "execution_count": 13,
     "metadata": {},
     "output_type": "execute_result"
    }
   ],
   "source": [
    "len(datos[(datos.qvixsi.shift(1)>0.9)&(datos.qvixsi>0.9)])/len(datos)\n",
    "datos[(datos.qvixsi.shift(1)>0.9)&(datos.qvixsi>0.9)].rets.describe()"
   ]
  },
  {
   "cell_type": "code",
   "execution_count": 7,
   "metadata": {},
   "outputs": [
    {
     "name": "stdout",
     "output_type": "stream",
     "text": [
      "0 1 -6.325163222692498\n",
      "1 2 -6.175601807458325\n",
      "2 3 -4.953202860518314\n",
      "3 4 -7.045693179648288\n",
      "4 5 -4.2406985880656665\n",
      "5 6 -4.299423522595311\n",
      "6 7 -1.900547316740192\n",
      "7 8 -14.782269844036882\n",
      "8 9 -10.178188731308325\n",
      "9 10 -19.82801577547137\n"
     ]
    }
   ],
   "source": [
    "fvixsi = 0.07\n",
    "for i in range (10):\n",
    "    j = i + 1\n",
    "    if fvixsi >= i/10 and fvixsi <= j/10:\n",
    "    #print(len(datos[(datos.qvixsi.shift(1)>0)&(datos.qvixsi.shift(1)<=0.1)&(datos.qvixsi>datos.qvixsi.shift(1))])/len(datos))\n",
    "        print(i,j,\n",
    "        datos[(datos.qvixsi.shift(1)>i/10)&(datos.qvixsi.shift(1)<=j/10)&(datos.qvixsi>datos.qvixsi.shift(1))].xrets.describe()[4]*5500)\n"
   ]
  },
  {
   "cell_type": "code",
   "execution_count": 8,
   "metadata": {},
   "outputs": [
    {
     "name": "stdout",
     "output_type": "stream",
     "text": [
      "0 1 42.453847189558466\n",
      "1 2 52.61309072084763\n",
      "2 3 49.244424344691645\n",
      "3 4 62.028712948377304\n",
      "4 5 55.406384201420465\n",
      "5 6 80.16614012303405\n",
      "6 7 57.94066792349373\n",
      "7 8 123.48521913068633\n",
      "8 9 122.33096122580089\n",
      "9 10 181.51053950883954\n"
     ]
    }
   ],
   "source": [
    "for i in range (10):\n",
    "    j = i + 1\n",
    "    #print(len(datos[(datos.qvixsi.shift(1)<-i/10)&(datos.qvixsi.shift(1)>=-j/10)&(datos.qvixsi<datos.qvixsi.shift(1))])/len(datos))\n",
    "    print(i,j,\n",
    "    datos[(datos.qvixsi.shift(1)<-i/10)&(datos.qvixsi.shift(1)>=-j/10)&(datos.qvixsi<datos.qvixsi.shift(1))].xrets.describe()[6]*5500)\n"
   ]
  },
  {
   "cell_type": "code",
   "execution_count": 11,
   "metadata": {},
   "outputs": [
    {
     "data": {
      "text/html": [
       "<div>\n",
       "<style scoped>\n",
       "    .dataframe tbody tr th:only-of-type {\n",
       "        vertical-align: middle;\n",
       "    }\n",
       "\n",
       "    .dataframe tbody tr th {\n",
       "        vertical-align: top;\n",
       "    }\n",
       "\n",
       "    .dataframe thead th {\n",
       "        text-align: right;\n",
       "    }\n",
       "</style>\n",
       "<table border=\"1\" class=\"dataframe\">\n",
       "  <thead>\n",
       "    <tr style=\"text-align: right;\">\n",
       "      <th></th>\n",
       "      <th>0</th>\n",
       "    </tr>\n",
       "  </thead>\n",
       "  <tbody>\n",
       "    <tr>\n",
       "      <th>a1</th>\n",
       "      <td>1</td>\n",
       "    </tr>\n",
       "    <tr>\n",
       "      <th>a2</th>\n",
       "      <td>2</td>\n",
       "    </tr>\n",
       "    <tr>\n",
       "      <th>a3</th>\n",
       "      <td>3</td>\n",
       "    </tr>\n",
       "  </tbody>\n",
       "</table>\n",
       "</div>"
      ],
      "text/plain": [
       "    0\n",
       "a1  1\n",
       "a2  2\n",
       "a3  3"
      ]
     },
     "execution_count": 11,
     "metadata": {},
     "output_type": "execute_result"
    }
   ],
   "source": [
    "pd_1 = pd.DataFrame([1,2,3],index=[\"a1\",\"a2\",\"a3\"])\n",
    "pd_1"
   ]
  },
  {
   "cell_type": "code",
   "execution_count": 28,
   "metadata": {},
   "outputs": [
    {
     "name": "stdout",
     "output_type": "stream",
     "text": [
      "0.026931254429482635\n"
     ]
    },
    {
     "data": {
      "text/plain": [
       "count    114.000000\n",
       "mean       0.000346\n",
       "std        0.010893\n",
       "min       -0.036910\n",
       "25%       -0.006040\n",
       "50%       -0.001343\n",
       "75%        0.008593\n",
       "max        0.026962\n",
       "Name: rets, dtype: float64"
      ]
     },
     "execution_count": 28,
     "metadata": {},
     "output_type": "execute_result"
    }
   ],
   "source": [
    "print(len(datos[(datos.qvixsi.shift(1)<0)&(datos.qvixsi.shift(1)>=-0.1)&(datos.qvixsi<datos.qvixsi.shift(1))])/len(datos))\n",
    "datos[(datos.qvixsi.shift(1)<0)&(datos.qvixsi.shift(1)>=-0.1)&(datos.qvixsi<datos.qvixsi.shift(1))].rets.describe()"
   ]
  }
 ],
 "metadata": {
  "kernelspec": {
   "display_name": "python39",
   "language": "python",
   "name": "python39"
  },
  "language_info": {
   "codemirror_mode": {
    "name": "ipython",
    "version": 3
   },
   "file_extension": ".py",
   "mimetype": "text/x-python",
   "name": "python",
   "nbconvert_exporter": "python",
   "pygments_lexer": "ipython3",
   "version": "3.9.13"
  }
 },
 "nbformat": 4,
 "nbformat_minor": 5
}
