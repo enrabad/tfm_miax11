{
 "cells": [
  {
   "cell_type": "code",
   "execution_count": 17,
   "metadata": {},
   "outputs": [
    {
     "name": "stdout",
     "output_type": "stream",
     "text": [
      "[*********************100%***********************]  1 of 1 completed\n",
      "[*********************100%***********************]  1 of 1 completed\n",
      "[*********************100%***********************]  1 of 1 completed\n",
      "[*********************100%***********************]  1 of 1 completed\n",
      "QVIXSI: 0.800 fvixsi: -0.00295 RET: 0.00905\n"
     ]
    },
    {
     "data": {
      "text/html": [
       "<div>\n",
       "<style scoped>\n",
       "    .dataframe tbody tr th:only-of-type {\n",
       "        vertical-align: middle;\n",
       "    }\n",
       "\n",
       "    .dataframe tbody tr th {\n",
       "        vertical-align: top;\n",
       "    }\n",
       "\n",
       "    .dataframe thead th {\n",
       "        text-align: right;\n",
       "    }\n",
       "</style>\n",
       "<table border=\"1\" class=\"dataframe\">\n",
       "  <thead>\n",
       "    <tr style=\"text-align: right;\">\n",
       "      <th></th>\n",
       "      <th>CALL_DELTAVIX</th>\n",
       "      <th>PUT_DELTAVIX</th>\n",
       "    </tr>\n",
       "    <tr>\n",
       "      <th>OFFATM</th>\n",
       "      <th></th>\n",
       "      <th></th>\n",
       "    </tr>\n",
       "  </thead>\n",
       "  <tbody>\n",
       "    <tr>\n",
       "      <th>-50</th>\n",
       "      <td>0.853081</td>\n",
       "      <td>0.150015</td>\n",
       "    </tr>\n",
       "    <tr>\n",
       "      <th>-45</th>\n",
       "      <td>0.837678</td>\n",
       "      <td>0.169878</td>\n",
       "    </tr>\n",
       "    <tr>\n",
       "      <th>-40</th>\n",
       "      <td>0.824645</td>\n",
       "      <td>0.189149</td>\n",
       "    </tr>\n",
       "    <tr>\n",
       "      <th>-35</th>\n",
       "      <td>0.804502</td>\n",
       "      <td>0.210199</td>\n",
       "    </tr>\n",
       "    <tr>\n",
       "      <th>-30</th>\n",
       "      <td>0.787915</td>\n",
       "      <td>0.231545</td>\n",
       "    </tr>\n",
       "    <tr>\n",
       "      <th>-25</th>\n",
       "      <td>0.764218</td>\n",
       "      <td>0.252594</td>\n",
       "    </tr>\n",
       "    <tr>\n",
       "      <th>-20</th>\n",
       "      <td>0.741706</td>\n",
       "      <td>0.284910</td>\n",
       "    </tr>\n",
       "    <tr>\n",
       "      <th>-15</th>\n",
       "      <td>0.706161</td>\n",
       "      <td>0.325526</td>\n",
       "    </tr>\n",
       "    <tr>\n",
       "      <th>-10</th>\n",
       "      <td>0.667062</td>\n",
       "      <td>0.366736</td>\n",
       "    </tr>\n",
       "    <tr>\n",
       "      <th>-5</th>\n",
       "      <td>0.606635</td>\n",
       "      <td>0.410614</td>\n",
       "    </tr>\n",
       "    <tr>\n",
       "      <th>0</th>\n",
       "      <td>0.522512</td>\n",
       "      <td>0.460717</td>\n",
       "    </tr>\n",
       "    <tr>\n",
       "      <th>5</th>\n",
       "      <td>0.462085</td>\n",
       "      <td>0.513193</td>\n",
       "    </tr>\n",
       "    <tr>\n",
       "      <th>10</th>\n",
       "      <td>0.402844</td>\n",
       "      <td>0.564186</td>\n",
       "    </tr>\n",
       "    <tr>\n",
       "      <th>15</th>\n",
       "      <td>0.344787</td>\n",
       "      <td>0.602135</td>\n",
       "    </tr>\n",
       "    <tr>\n",
       "      <th>20</th>\n",
       "      <td>0.295024</td>\n",
       "      <td>0.638601</td>\n",
       "    </tr>\n",
       "    <tr>\n",
       "      <th>25</th>\n",
       "      <td>0.240521</td>\n",
       "      <td>0.676253</td>\n",
       "    </tr>\n",
       "    <tr>\n",
       "      <th>30</th>\n",
       "      <td>0.210900</td>\n",
       "      <td>0.711236</td>\n",
       "    </tr>\n",
       "    <tr>\n",
       "      <th>35</th>\n",
       "      <td>0.182464</td>\n",
       "      <td>0.742069</td>\n",
       "    </tr>\n",
       "    <tr>\n",
       "      <th>40</th>\n",
       "      <td>0.156398</td>\n",
       "      <td>0.767566</td>\n",
       "    </tr>\n",
       "    <tr>\n",
       "      <th>45</th>\n",
       "      <td>0.136256</td>\n",
       "      <td>0.794545</td>\n",
       "    </tr>\n",
       "    <tr>\n",
       "      <th>50</th>\n",
       "      <td>0.120853</td>\n",
       "      <td>0.818856</td>\n",
       "    </tr>\n",
       "  </tbody>\n",
       "</table>\n",
       "</div>"
      ],
      "text/plain": [
       "        CALL_DELTAVIX  PUT_DELTAVIX\n",
       "OFFATM                             \n",
       "-50          0.853081      0.150015\n",
       "-45          0.837678      0.169878\n",
       "-40          0.824645      0.189149\n",
       "-35          0.804502      0.210199\n",
       "-30          0.787915      0.231545\n",
       "-25          0.764218      0.252594\n",
       "-20          0.741706      0.284910\n",
       "-15          0.706161      0.325526\n",
       "-10          0.667062      0.366736\n",
       "-5           0.606635      0.410614\n",
       " 0           0.522512      0.460717\n",
       " 5           0.462085      0.513193\n",
       " 10          0.402844      0.564186\n",
       " 15          0.344787      0.602135\n",
       " 20          0.295024      0.638601\n",
       " 25          0.240521      0.676253\n",
       " 30          0.210900      0.711236\n",
       " 35          0.182464      0.742069\n",
       " 40          0.156398      0.767566\n",
       " 45          0.136256      0.794545\n",
       " 50          0.120853      0.818856"
      ]
     },
     "execution_count": 17,
     "metadata": {},
     "output_type": "execute_result"
    }
   ],
   "source": [
    "import pandas as pd\n",
    "import numpy as np\n",
    "\n",
    "import warnings\n",
    "warnings.filterwarnings('ignore')\n",
    "\n",
    "import matplotlib.pyplot as plt\n",
    "%matplotlib inline\n",
    "plt.style.use('seaborn-darkgrid')\n",
    "\n",
    "import yfinance as yf\n",
    "from bs4 import BeautifulSoup\n",
    "import requests\n",
    "from datetime import datetime\n",
    "from datetime import timedelta\n",
    "from dateutil.relativedelta import relativedelta\n",
    "import time\n",
    "import pandas as pd\n",
    "import numpy as np\n",
    "import random\n",
    "import time\n",
    "\n",
    "#df_vixsi = pd.read_csv(\"/content/drive/MyDrive/vixsi/VIXSIyf.csv\", index_col=0)\n",
    "#df_vixsi.index =  pd.to_datetime(df_vixsi.index)\n",
    "#desde = df_vixsi.index[0].strftime(\"%Y-%m-%d\")\n",
    "#hasta = df_vixsi.index[-1].strftime(\"%Y-%m-%d\")\n",
    "\n",
    "def generar_vixsi_1m ():\n",
    "    '''\n",
    "    \n",
    "    '''\n",
    "\n",
    "    spy_yf = yf.download(tickers=\"SPY\", interval=\"1m\")\n",
    "    ultima_fecha = spy_yf.index[-1]\n",
    "    \n",
    "    pd_vixsi = pd.DataFrame()\n",
    "\n",
    "    hora_exacta = ultima_fecha.time()\n",
    "    \n",
    "    df_vacio = True\n",
    "    num_dias = 0\n",
    "    while df_vacio:\n",
    "      num_dias += 1\n",
    "      if num_dias >= 15:\n",
    "        print(\"no hay datos pasados de menos 15 días a hoy\")\n",
    "        return\n",
    "\n",
    "      penultimo_dia_misma_hora = ultima_fecha - pd.Timedelta(days=num_dias)\n",
    "      spy_ant = spy_yf.loc[\n",
    "          (spy_yf.index.date == penultimo_dia_misma_hora.date()) & (spy_yf.index.time == hora_exacta)\n",
    "      ]\n",
    "      df_vacio = spy_ant.empty\n",
    "\n",
    "    retspy = (spy_yf.iloc[-1].Close - spy_ant.iloc[-1].Close)/spy_ant.iloc[-1].Close\n",
    "\n",
    "    url = \"https://es.investing.com/indices/volatility-s-p-500-chart\"\n",
    "    response = requests.get(url)\n",
    "    if response.status_code == 200:\n",
    "        html = response.text\n",
    "    else:\n",
    "        print(\"no se ha podido cargar\")\n",
    "    soup = BeautifulSoup(html, \"html.parser\")\n",
    "    vix_inv = soup.find('div', {'data-test': 'instrument-price-last'}).text\n",
    "    fecha_inv = soup.find('time', {'data-test': 'trading-time-label'}).text\n",
    "    vix_inv = float(vix_inv.replace(',', '.'))\n",
    "    \n",
    "    #fvixsi = np.abs(retspy) - vix_inv/(np.sqrt(256)*100)\n",
    "    fvixsi = retspy - vix_inv/(np.sqrt(256)*100)\n",
    "    vixsi = np.float(np.where ((fvixsi > 0), -1, 1))\n",
    "    pd_vixsi1 = pd.DataFrame([vixsi], index=[ultima_fecha])\n",
    "    pd_vixsi1.columns = [\"VIXSI\"]\n",
    "    pd_vixsi = pd.concat([pd_vixsi, pd_vixsi1], axis=0)\n",
    "    return (retspy, fvixsi)\n",
    "\n",
    "desde = \"2008-01-01\"\n",
    "hasta = (datetime.now() + timedelta(1)).strftime(\"%Y-%m-%d\")\n",
    "\n",
    "#df_vixsi = pd.read_csv(\"/content/drive/MyDrive/vixsi/VIXSIyf.csv\", index_col=0)\n",
    "#df_vixsi.index =  pd.to_datetime(df_vixsi.index)\n",
    "#desde = df_vixsi.index[0].strftime(\"%Y-%m-%d\")\n",
    "#hasta = df_vixsi.index[-1].strftime(\"%Y-%m-%d\")\n",
    "\n",
    "\n",
    "spy_datos = yf.download(\"SPY\", start=desde, end=hasta)\n",
    "vix_datos = yf.download(\"^VIX\", start=desde, end=hasta)\n",
    "spx_datos = yf.download(\"^SPX\", start=desde, end=hasta)\n",
    "\n",
    "datos = pd.concat([spy_datos.Close, vix_datos.Close, spx_datos.Close], axis=1).dropna()\n",
    "datos.columns = [\"SPY\",\"VIX\",\"SPX\"]\n",
    "datos[\"rets\"] = datos.SPY.pct_change()\n",
    "datos[\"xrets\"] = datos.SPX.pct_change()\n",
    "#datos[\"FVIXSI\"] = np.where (datos.rets > 0, datos.rets - datos.VIX/(np.sqrt(256)*100), - datos.VIX/(np.sqrt(256)*100))\n",
    "datos[\"FVIXSI\"] = datos.rets - datos.VIX/(np.sqrt(256)*100)\n",
    "datos[\"PVIXSI\"] = datos.rets - datos.VIX/(np.sqrt(256)*100)\n",
    "datos[\"NVIXSI\"] = datos.rets + datos.VIX/(np.sqrt(256)*100)\n",
    "datos[\"VIXSI\"] = np.where ((datos.FVIXSI > 0), -1, 1)\n",
    "datos[\"QVIXSI\"] = datos.FVIXSI.rank(pct=True)\n",
    "datos.dropna(inplace=True)\n",
    "activo = datos.iloc[-1].SPX\n",
    "\n",
    "def get_delta(datos, fvixsi, op, porce_atm):\n",
    "    '''\n",
    "    \n",
    "    '''\n",
    "    \n",
    "    datos1 = datos.copy()\n",
    "    datos1[\"xretsig\"] = datos1.xrets.shift(-1)\n",
    "    datos1.dropna(inplace=True)\n",
    "\n",
    "    #qvixsi = (datos1.FVIXSI <= fvixsi).mean()\n",
    "    qvixsi = datos[datos.FVIXSI>=fvixsi].min().QVIXSI\n",
    "\n",
    "    if op == \"P\":\n",
    "        #datos2 = datos1[(datos1.QVIXSI<qvixsi)]\n",
    "        datos2 = datos1[(datos1.FVIXSI<fvixsi)]\n",
    "        return len(datos2[datos2.xretsig < porce_atm])/len(datos2), qvixsi\n",
    "    else:\n",
    "        #datos2 = datos1[(datos1.QVIXSI>qvixsi)]\n",
    "        datos2 = datos1[(datos1.FVIXSI>fvixsi)]\n",
    "        return len(datos2[datos2.xretsig > porce_atm])/len(datos2), qvixsi\n",
    "    \n",
    "ret_activo, fvixsi = generar_vixsi_1m ()\n",
    "#fvixsi = 0.03\n",
    "#fvixsi = 0.05\n",
    "p_deltavix = pd.DataFrame()\n",
    "c_deltavix = pd.DataFrame()\n",
    "op=\"P\"\n",
    "for i in range(-50,55,5):\n",
    "    strike = (activo + activo % 5) + i\n",
    "    porce_atm = (strike - activo)/activo\n",
    "    _deltavix, qvixsi = get_delta(datos, fvixsi, op, porce_atm)\n",
    "    #print(f\"posicion:{i} strike:{strike} %atm:{porce_atm:.3f} deltavix:{deltavix:.3f}\")\n",
    "    ind = i\n",
    "    deltavix = pd.DataFrame([_deltavix], index=[ind])\n",
    "    deltavix.columns = [\"PUT_DELTAVIX\"]\n",
    "    p_deltavix = pd.concat([p_deltavix, deltavix], axis=0)\n",
    "\n",
    "op=\"C\"\n",
    "for i in range(-50,55,5):\n",
    "    strike = (activo - activo % 5) + i\n",
    "    porce_atm = (strike - activo)/activo\n",
    "    _deltavix, qvixsi = get_delta(datos, fvixsi, op, porce_atm)\n",
    "    ind = i\n",
    "    deltavix = pd.DataFrame([_deltavix], index=[ind])\n",
    "    deltavix.columns = [\"CALL_DELTAVIX\"]\n",
    "    c_deltavix = pd.concat([c_deltavix, deltavix], axis=0)\n",
    "\n",
    "print (f\"QVIXSI: {qvixsi:.3f} fvixsi: {fvixsi:.5f} RET: {ret_activo:.5f}\")\n",
    "pd_deltavix = pd.concat([c_deltavix, p_deltavix], axis=1)\n",
    "pd_deltavix.index.name = \"OFFATM\"\n",
    "pd_deltavix"
   ]
  },
  {
   "cell_type": "code",
   "execution_count": 34,
   "metadata": {},
   "outputs": [
    {
     "name": "stdout",
     "output_type": "stream",
     "text": [
      "0.834916864608076 0.8525017785155323\n"
     ]
    }
   ],
   "source": [
    "datos1 = datos.copy()\n",
    "datos1[\"xretsig\"] = datos1.xrets.shift(-1)\n",
    "datos1[\"retsig\"] = datos1.rets.shift(-1)\n",
    "datos1.dropna(inplace=True)\n",
    "fvixsi=-0.01500\n",
    "fvixsi=0.005247\n",
    "xret = datos[datos.xrets<0].xrets.mean()\n",
    "xret = 0.01\n",
    "datos2 = datos1[(datos1.xrets < xret) & (datos1.NVIXSI<fvixsi)]\n",
    "print(len(datos2[datos2.xretsig < xret])/len(datos2), len(datos1[datos1.xretsig < xret])/len(datos1))"
   ]
  },
  {
   "cell_type": "code",
   "execution_count": 30,
   "metadata": {},
   "outputs": [
    {
     "data": {
      "text/plain": [
       "-0.008477209761319634"
      ]
     },
     "execution_count": 30,
     "metadata": {},
     "output_type": "execute_result"
    }
   ],
   "source": [
    "xret"
   ]
  },
  {
   "cell_type": "code",
   "execution_count": 28,
   "metadata": {},
   "outputs": [
    {
     "name": "stdout",
     "output_type": "stream",
     "text": [
      "0.1488469601677149 0.19350248992174532\n"
     ]
    }
   ],
   "source": [
    "datos1 = datos.copy()\n",
    "datos1[\"xretsig\"] = datos1.xrets.shift(-1)\n",
    "datos1.dropna(inplace=True)\n",
    "fvixsi=-0.00210\n",
    "fvixsi=0\n",
    "xret = datos[datos.xrets>0].xrets.mean()\n",
    "datos2 = datos1[(datos1.xrets > xret) & (datos1.PVIXSI>fvixsi)]\n",
    "print(len(datos2[datos2.xretsig > xret])/len(datos2), len(datos1[datos1.xretsig > xret])/len(datos1))"
   ]
  },
  {
   "cell_type": "code",
   "execution_count": 63,
   "metadata": {},
   "outputs": [
    {
     "data": {
      "text/plain": [
       "0.5171717171717172"
      ]
     },
     "execution_count": 63,
     "metadata": {},
     "output_type": "execute_result"
    }
   ],
   "source": [
    "datos2 = datos1[datos1.VIXSI<0]\n",
    "len(datos2[datos2.xretsig < 0])/len(datos2)"
   ]
  },
  {
   "cell_type": "code",
   "execution_count": 62,
   "metadata": {},
   "outputs": [
    {
     "data": {
      "text/plain": [
       "0.45695992411667063"
      ]
     },
     "execution_count": 62,
     "metadata": {},
     "output_type": "execute_result"
    }
   ],
   "source": [
    "len(datos1[datos1.xretsig < 0])/len(datos1)"
   ]
  },
  {
   "cell_type": "code",
   "execution_count": 71,
   "metadata": {},
   "outputs": [
    {
     "data": {
      "text/plain": [
       "SPY        250.165532\n",
       "VIX         19.068579\n",
       "SPX       2504.278327\n",
       "rets         0.007812\n",
       "xrets        0.007797\n",
       "FVIXSI      -0.004106\n",
       "VIXSI        0.569752\n",
       "QVIXSI       0.675640\n",
       "dtype: float64"
      ]
     },
     "execution_count": 71,
     "metadata": {},
     "output_type": "execute_result"
    }
   ],
   "source": [
    "datos[datos.rets > 0].mean()"
   ]
  },
  {
   "cell_type": "code",
   "execution_count": 69,
   "metadata": {},
   "outputs": [
    {
     "data": {
      "text/plain": [
       "SPY        71.730003\n",
       "VIX         9.140000\n",
       "SPX       712.869995\n",
       "rets       -0.033165\n",
       "xrets      -0.033514\n",
       "FVIXSI     -0.015712\n",
       "VIXSI      -1.000000\n",
       "QVIXSI      0.120171\n",
       "dtype: float64"
      ]
     },
     "execution_count": 69,
     "metadata": {},
     "output_type": "execute_result"
    }
   ],
   "source": [
    "datos[datos.QVIXSI>=0.12].min()\n",
    "#datos[datos.QVIXSI==1]"
   ]
  },
  {
   "cell_type": "code",
   "execution_count": 59,
   "metadata": {},
   "outputs": [
    {
     "data": {
      "text/plain": [
       "-0.008535815665921147"
      ]
     },
     "execution_count": 59,
     "metadata": {},
     "output_type": "execute_result"
    }
   ],
   "source": [
    "datos.rets[datos.rets<0].mean()"
   ]
  }
 ],
 "metadata": {
  "kernelspec": {
   "display_name": "python39",
   "language": "python",
   "name": "python39"
  },
  "language_info": {
   "codemirror_mode": {
    "name": "ipython",
    "version": 3
   },
   "file_extension": ".py",
   "mimetype": "text/x-python",
   "name": "python",
   "nbconvert_exporter": "python",
   "pygments_lexer": "ipython3",
   "version": "3.9.13"
  }
 },
 "nbformat": 4,
 "nbformat_minor": 5
}
