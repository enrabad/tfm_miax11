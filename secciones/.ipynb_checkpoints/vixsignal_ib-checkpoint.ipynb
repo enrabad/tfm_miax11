{
 "cells": [
  {
   "cell_type": "code",
   "execution_count": 1,
   "metadata": {},
   "outputs": [
    {
     "name": "stderr",
     "output_type": "stream",
     "text": [
      "C:\\Users\\abad\\Anaconda3\\lib\\site-packages\\pandas\\compat\\_optional.py:138: UserWarning: Pandas requires version '2.7.0' or newer of 'numexpr' (version '2.6.9' currently installed).\n",
      "  warnings.warn(msg, UserWarning)\n"
     ]
    }
   ],
   "source": [
    "import pandas as pd\n",
    "import requests\n",
    "import time\n",
    "import json\n",
    "import numpy as np\n",
    "from datetime import datetime\n",
    "\n"
   ]
  },
  {
   "cell_type": "code",
   "execution_count": 8,
   "metadata": {},
   "outputs": [
    {
     "name": "stdout",
     "output_type": "stream",
     "text": [
      "a: 12.12\n"
     ]
    }
   ],
   "source": [
    "a=12.12345\n",
    "print(f\"a: {a:.2f}\")"
   ]
  },
  {
   "cell_type": "code",
   "execution_count": 1,
   "metadata": {},
   "outputs": [],
   "source": [
    "#%pip install requests\n"
   ]
  },
  {
   "cell_type": "markdown",
   "metadata": {},
   "source": [
    "import requests\n",
    "#212.227.169.43\n",
    "#base_url = 'http://localhost:5000/api/datos'\n",
    "base_url = 'http://212.227.169.43:5000/api/datos'\n",
    "\n",
    "# Obtener todos los datos\n",
    "response = requests.get(base_url)\n",
    "print(response.json())\n",
    "\n",
    "# Obtener un dato por su ID (reemplaza <ID> con un número válido)\n",
    "response = requests.get(base_url + '/<ID>')\n",
    "print(response.json())\n",
    "\n",
    "# Crear un nuevo dato\n",
    "nuevo_dato = {\"nombre\": \"Nuevo Ejemplo\", \"descripcion\": \"Este es un nuevo ejemplo\"}\n",
    "response = requests.post(base_url, json=nuevo_dato)\n",
    "print(response.json())\n",
    "\n",
    "# Actualizar un dato existente por su ID (reemplaza <ID> con un número válido)\n",
    "dato_actualizado = {\"nombre\": \"Ejemplo Actualizado\", \"descripcion\": \"Esta es una descripción actualizada\"}\n",
    "response = requests.put(base_url + '/<ID>', json=dato_actualizado)\n",
    "print(response.json())\n",
    "\n",
    "# Eliminar un dato por su ID (reemplaza <ID> con un número válido)\n",
    "response = requests.delete(base_url + '/<ID>')\n",
    "print(response.json())\n"
   ]
  },
  {
   "cell_type": "code",
   "execution_count": 4,
   "metadata": {},
   "outputs": [
    {
     "name": "stdout",
     "output_type": "stream",
     "text": [
      "2024-05-28 1\n"
     ]
    }
   ],
   "source": [
    "import requests\n",
    "\n",
    "#base_url = 'http://212.227.169.43:5000/api/datos'\n",
    "base_url = 'http://5.250.185.6:5000/api/datos'\n",
    "headers = {'Authorization': \"123456\"}\n",
    "\n",
    "# Obtener todos los datos\n",
    "response = requests.get(base_url, headers=headers)\n",
    "if response.status_code == 200:\n",
    "        data = response.json()\n",
    "        print(data[\"Date\"], data[\"vixsi\"])\n",
    "else:\n",
    "        print('Error al hacer la solicitud:', response.status_code)\n"
   ]
  },
  {
   "cell_type": "code",
   "execution_count": 7,
   "metadata": {},
   "outputs": [
    {
     "name": "stdout",
     "output_type": "stream",
     "text": [
      "2024-06-03 1\n"
     ]
    }
   ],
   "source": [
    "import requests\n",
    "\n",
    "#base_url = 'http://212.227.169.43:5000/api/datos'\n",
    "base_url = 'http://5.250.185.6:5000/api/datos'\n",
    "headers = {'Authorization': \"genVIXSI\"}\n",
    "\n",
    "# Obtener todos los datos\n",
    "response = requests.get(base_url, headers=headers)\n",
    "if response.status_code == 200:\n",
    "        data = response.json()\n",
    "        print(data[\"Date\"], data[\"vixsi\"])\n",
    "else:\n",
    "        print('Error al hacer la solicitud:', response.status_code)\n"
   ]
  },
  {
   "cell_type": "code",
   "execution_count": 13,
   "metadata": {},
   "outputs": [
    {
     "name": "stdout",
     "output_type": "stream",
     "text": [
      "2024-09-23 1\n"
     ]
    }
   ],
   "source": [
    "import requests\n",
    "\n",
    "#base_url = 'http://212.227.169.43:5000/api/datos'\n",
    "base_url = 'http://5.250.185.6:5001/api/datos'\n",
    "#base_url = 'api.outsorcia.es/api/datos'\n",
    "\n",
    "headers = {'Authorization': \"genVIXSI\"}\n",
    "\n",
    "# Obtener todos los datos\n",
    "response = requests.get(base_url, headers=headers)\n",
    "if response.status_code == 200:\n",
    "        data = response.json()\n",
    "        print(data[\"Date\"], data[\"vixsi\"])\n",
    "else:\n",
    "        print('Error al hacer la solicitud:', response.status_code)\n"
   ]
  },
  {
   "cell_type": "markdown",
   "metadata": {},
   "source": [
    "##### API CREACION VIX"
   ]
  },
  {
   "cell_type": "code",
   "execution_count": 5,
   "metadata": {},
   "outputs": [
    {
     "name": "stdout",
     "output_type": "stream",
     "text": [
      "[*********************100%***********************]  1 of 1 completed\n",
      "[*********************100%***********************]  1 of 1 completed\n"
     ]
    }
   ],
   "source": [
    "import pandas as pd\n",
    "import numpy as np\n",
    "import time\n",
    "import datetime\n",
    "from datetime import datetime, timedelta\n",
    "import yfinance as yf\n",
    "\n",
    "def vixsignal (datos, vix=\"VIX\", benchmark=\"SPY\"):\n",
    "    rets = datos[benchmark].pct_change()\n",
    "    vixsi = rets - datos[vix]/(np.sqrt(256)*100)\n",
    "    vixsi = np.where ((vixsi > 0), -1, 1)\n",
    "    return vixsi\n",
    "\n",
    "\n",
    "desde = (datetime.now() - timedelta(2)).strftime(\"%Y-%m-%d\")            \n",
    "hasta = (datetime.now() + timedelta(1)).strftime(\"%Y-%m-%d\")\n",
    "vix = yf.download(\"^VIX\", start=desde, end=hasta)\n",
    "spy = yf.download(\"SPY\", start=desde, end=hasta, auto_adjust=True)\n",
    "datos = pd.concat([spy[\"Close\"], vix[\"Close\"]], axis=1).dropna()\n",
    "datos.columns=[\"SPY\",\"VIX\"]\n",
    "\n",
    "vixsi_df = pd.DataFrame(index=datos.index)\n",
    "vixsi_df[\"vixsi\"] = vixsignal(datos)\n",
    "vixsi_df.to_csv(\"vixsi.csv\")\n"
   ]
  },
  {
   "cell_type": "code",
   "execution_count": 6,
   "metadata": {},
   "outputs": [
    {
     "data": {
      "text/plain": [
       "'{\"Date\": \"2024-06-04\", \"vixsi\": 1}'"
      ]
     },
     "execution_count": 6,
     "metadata": {},
     "output_type": "execute_result"
    }
   ],
   "source": [
    "vixsi_df = pd.read_csv(\"vixsi.csv\")\n",
    "datos = vixsi_df.to_dict(orient='records')[-1]\n",
    "json.dumps(datos)"
   ]
  },
  {
   "cell_type": "code",
   "execution_count": null,
   "metadata": {},
   "outputs": [],
   "source": []
  }
 ],
 "metadata": {
  "kernelspec": {
   "display_name": "Python 3",
   "language": "python",
   "name": "python3"
  },
  "language_info": {
   "codemirror_mode": {
    "name": "ipython",
    "version": 3
   },
   "file_extension": ".py",
   "mimetype": "text/x-python",
   "name": "python",
   "nbconvert_exporter": "python",
   "pygments_lexer": "ipython3",
   "version": "3.7.3"
  }
 },
 "nbformat": 4,
 "nbformat_minor": 5
}
