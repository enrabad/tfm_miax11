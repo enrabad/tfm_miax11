{
 "cells": [
  {
   "cell_type": "markdown",
   "metadata": {},
   "source": [
    "### Creación cartera hedge dinámica \n",
    "\n",
    "En este notebook se utilizan los alphas anualizados de los activos para encontrar los mejores activos para formar la cartera hedge. Como lo que interesa es mejorar al alpha de la estrategia VIXSI con \"SPY\", se utilizarán los alphas relativos, que son la diferencia entre el alpha de la estrategia de los activos con el alpha de la estrategia SPY.\n",
    "\n",
    "\n",
    "Para crear las carteras óptimas, se adopta la técnica WFO para obtención de los mejores activos en cada periodo, incluyendo optimización de metaparámetros en un subperiodo de train-evaluación variable dentro del periodo de optimización, a esta técnica se le denominará WFOMO (walk formard optimization with metaparameters optimization).\n",
    "\n",
    "El periodo de out-sampe o test será siempre de un año (la ventana se rolará anualmente), el periodo de in-sample o optimización será de 10 años.\n",
    "\n",
    "y existirán un conjunto de metaparámetros: \n",
    "\n",
    "número de activos, funciones de selección.\n",
    "\n",
    "para optimizar dichos metaparámetros, se dividirá el periodo de optimización en periodo de train (que busca los mejores activos a partir de unos valores de metaparámetros dado) y periodo de evaluación, donde se hace un grid selection para seleccionar los mejores metaparámetros. Los periodos de train-test se modificarán por una fecha de corte que recorrerá todos los años del periodo de optimización para darle más robustez a los metaparámetros seleccionados.\n",
    "\n",
    "Una vez seleccionados los metaparámetros óptimos, se utiliza todo el periodo de optimización (train+evaluación), para seleccionar los activos con los mejores metaparámetros seleccionados en el periodo de evaluación y probarlos en el periodo de test.\n",
    "\n",
    "Antes de crear la cartera para el siguiente periodo de test, se creará un filtro seleccionando la mitad de los activos con mayor beta, esto se hace porque las estrategias están correlacionadas por la señal, con lo que se supone que cuanto mayor beta, mayores serán los movimientos de cobertura, obteniendo mejores resultados.\n",
    "\n",
    "\n",
    "Combinando los periodos de test, se obtendrá los rendimientos de la estrategia vixsi hedge con las carteras seleccionadas en cada periodo, para luego ser comparados con la estrategia VIXSI.\n"
   ]
  },
  {
   "cell_type": "code",
   "execution_count": 9,
   "metadata": {},
   "outputs": [
    {
     "name": "stdout",
     "output_type": "stream",
     "text": [
      "The autoreload extension is already loaded. To reload it, use:\n",
      "  %reload_ext autoreload\n"
     ]
    }
   ],
   "source": [
    "import pandas as pd\n",
    "import numpy as np\n",
    "import matplotlib.pyplot as plt\n",
    "\n",
    "import yfinance as yf\n",
    "import requests\n",
    "\n",
    "%matplotlib inline\n",
    "%load_ext autoreload\n",
    "%autoreload 2\n",
    "import warnings\n",
    "warnings.filterwarnings('ignore')\n",
    "\n",
    "from modulos.tfm_util import metrica_cartera\n",
    "from modulos.tfm_util import drwdown"
   ]
  },
  {
   "cell_type": "markdown",
   "metadata": {},
   "source": [
    "### Cargar señal, datos y alphas relativos a SPY\n",
    "\n",
    "Se cargan los alphas restandole el alpha de SPY para obtener sus valores relativos, ya que lo que interesa son activos que mejoren el alpha de SPY."
   ]
  },
  {
   "cell_type": "code",
   "execution_count": 10,
   "metadata": {},
   "outputs": [],
   "source": [
    "datos_vixsi = pd.read_csv (\"../datos/vixsi.csv\", index_col = 0)\n",
    "datos_vixsi.index = pd.to_datetime(datos_vixsi.index)\n",
    "\n",
    "data = pd.read_csv(\"../datos/sp500.csv\", index_col=0)\n",
    "data.index = pd.to_datetime(data.index)\n",
    "\n",
    "indices = list(set(data.index) & set(datos_vixsi.index))\n",
    "data = data.loc[indices]\n",
    "data.sort_index(inplace=True)\n",
    "\n",
    "#solo interesan los retornos\n",
    "data = data.pct_change().dropna()\n",
    "\n",
    "df_alpha = pd.read_csv(\"../datos/alphas_ann.csv\", index_col=0)\n",
    "#valor relativo del alpha\n",
    "df_alpha = df_alpha.sub(df_alpha.SPY, axis=0)\n",
    "\n",
    "df_alpha = df_alpha[list(set(data.columns) - {\"SPY\"})]\n",
    "df_alpha = pd.read_csv(\"../datos/alphas_ann.csv\", index_col=0)\n",
    "\n",
    "df_alpha = df_alpha.sub(df_alpha.SPY, axis=0)\n",
    "df_alpha = df_alpha[list(set(data.columns) - {\"SPY\"})]\n",
    "\n",
    "# Se incluye la señal desplazada, cargada al inicio del notebook\n",
    "data[\"vixsignal\"] = datos_vixsi.VIXSI.shift(1)\n"
   ]
  },
  {
   "cell_type": "code",
   "execution_count": 11,
   "metadata": {},
   "outputs": [
    {
     "data": {
      "text/plain": [
       "(4267, 422)"
      ]
     },
     "execution_count": 11,
     "metadata": {},
     "output_type": "execute_result"
    }
   ],
   "source": [
    "data.shape"
   ]
  },
  {
   "cell_type": "markdown",
   "metadata": {},
   "source": [
    "### Se crean los diferentes metaparámetros: número de activos, funciones de selección de activos y tamaño periodos train/evaluación"
   ]
  },
  {
   "cell_type": "code",
   "execution_count": 23,
   "metadata": {},
   "outputs": [],
   "source": [
    "\n",
    "\n",
    "def mejor_dalpha_med (dalphas, k):\n",
    "    '''\n",
    "    Selecciona los k activos con la media de la diferencia de alphas entre los activos y SPY más altas\n",
    "    \n",
    "    '''\n",
    "\n",
    "    return list(dalphas.mean().sort_values(ascending=False).index[:k])\n",
    "    #return list(dalphas.min().sort_values(ascending=False).index[:k])\n",
    "\n",
    "def mejor_dalpha_rsh (dalphas, k):\n",
    "    '''\n",
    "    Selecciona los k activos con el ratio media/var más altos\n",
    "    \n",
    "    '''\n",
    "    \n",
    "    return list((dalphas.mean()/dalphas.std()).sort_values(ascending=False).index[:k])\n",
    "\n",
    "selfuncs = [mejor_dalpha_rsh, mejor_dalpha_med]\n",
    "kactivos = [2,5,10]\n"
   ]
  },
  {
   "cell_type": "code",
   "execution_count": 29,
   "metadata": {},
   "outputs": [
    {
     "data": {
      "text/plain": [
       "0"
      ]
     },
     "execution_count": 29,
     "metadata": {},
     "output_type": "execute_result"
    }
   ],
   "source": [
    "arr = [0,3,2,1,0]\n",
    "arr[0] +=200\n",
    "arr.index(max(arr))"
   ]
  },
  {
   "cell_type": "markdown",
   "metadata": {},
   "source": [
    "### Generación de la cartera\n",
    "\n",
    "Se inicializa la estrategia y los periodos. Rolando cada año desde el 2019 al 2004:\n",
    "\n",
    "Empleando un grid selection de todos los metaparámetros:\n",
    "    1. Se seleccionarán los mejores activos para cada metaparámetro en el periodo de train\n",
    "\n",
    "    2. Se guardan los parámetros con el mayor ratio alpha medio/desviación media generado por los activos del punto 1 en el periodo de evaluación.\n",
    "\n",
    "Se \n",
    "\n",
    "3. Se genera la estrategia VIXSIhedge en el periodo de test \n"
   ]
  },
  {
   "cell_type": "code",
   "execution_count": 35,
   "metadata": {},
   "outputs": [],
   "source": [
    "\n",
    "# Se inicializan valores de la estrategia\n",
    "data[\"VIXSIhedge\"] = 0\n",
    "data[\"VIXSI\"] = 0\n",
    "data[\"HOLD\"] = 0\n",
    "\n",
    "#data[\"vixsignal\"] = datos.vixsignal.shift(1)\n",
    "ret_estrategias = [\"VIXSIhedge\",\"VIXSI\",\"SPY\"]\n",
    "\n",
    "# Las fechas de corte entre train y eval (valores 0) las asignará el metaparámetro fechacorte_tr_ev\n",
    "periodos_desde = [2008,0,2018]\n",
    "periodos_hasta = [0,2017,2018]\n",
    "#periodos_desde = [2008,2013,2019]\n",
    "#periodos_hasta = [2012,2018,2019]\n",
    "\n",
    "df_periodos = pd.DataFrame([periodos_desde, periodos_hasta]).T\n",
    "df_periodos.index = [\"train\",\"eval\",\"test\"]\n",
    "df_periodos.columns = [\"desde\",\"hasta\"]\n",
    "dic_activos_opt = dict()\n",
    "\n",
    "for i in range(2024-df_periodos.loc[\"test\",\"desde\"] + 1):\n",
    "    \n",
    "    max_rdv = -999\n",
    "    max_ik = -1\n",
    "    max_ifsel = None\n",
    "    max_activos = []\n",
    "    \n",
    "    # contadores de ocurrencias de metaparámetros óptimos en cada subperiodo train-eval\n",
    "    cont_ik = list(np.zeros(len(kactivos)))\n",
    "    cont_ifsel = list(np.zeros(len(selfuncs)))\n",
    "\n",
    "    for fechacorte_tr_ev in range (df_periodos.loc[\"eval\", \"hasta\"] - df_periodos.loc[\"train\", \"desde\"]):\n",
    "        desde_train = str(df_periodos.loc[\"train\", \"desde\"])\n",
    "        hasta_train = str(df_periodos.loc[\"train\", \"desde\"]+fechacorte_tr_ev)\n",
    "        desde_eval = str(df_periodos.loc[\"eval\", \"desde\"]+fechacorte_tr_ev + 1)\n",
    "        hasta_eval = str(df_periodos.loc[\"eval\", \"hasta\"])\n",
    "        desde_test = str(df_periodos.loc[\"test\", \"desde\"])\n",
    "        hasta_test = str(df_periodos.loc[\"test\", \"hasta\"])\n",
    "        tr_alpha = df_alpha.loc[desde_train:hasta_train]\n",
    "        ev_alpha = df_alpha.loc[desde_eval:hasta_eval]\n",
    "\n",
    "        for ik in range(len(kactivos)):\n",
    "            for ifsel in range(len(selfuncs)):\n",
    "                fsel = selfuncs[ifsel]\n",
    "                k = kactivos[ik]\n",
    "                activos = fsel(tr_alpha, k)\n",
    "                rdv = (ev_alpha[activos].mean()/ev_alpha[activos].std()).sum()/len(activos)\n",
    "                if rdv > max_rdv:\n",
    "                    max_rdv = rdv\n",
    "                    max_ik = ik\n",
    "                    max_ifsel = ifsel\n",
    "                    max_activos = activos\n",
    "                    \n",
    "        cont_ik[max_ik]+=1\n",
    "        cont_ifsel[max_ifsel]+=1\n",
    "    \n",
    "    \n",
    "    # Se selecciona todo el periodo de optimización train+eval para encontrar los activos con los mejores metaparámetros\n",
    "    #max_fsel = selfuncs[cont_ifsel.index(max(cont_ifsel))]\n",
    "    #max_k = kactivos[cont_ik.index(max(cont_ik))]\n",
    "    trev_alpha = df_alpha.loc[desde_train:hasta_eval]\n",
    "    max_activos = max_fsel(tr_alpha, max_k)\n",
    "    \n",
    "    spy = data.loc[desde_train:hasta_eval].dropna().SPY.values\n",
    "    cartera = data.loc[desde_train:hasta_eval, max_activos].dropna().values\n",
    "    covs = np.cov(cartera.T, spy)[-1, :-1]\n",
    "    varspy = np.var(spy)\n",
    "    betas = list(covs / varspy)\n",
    "    pos = int(len(max_activos)/2)\n",
    "    max_activos_beta = pd.DataFrame(betas, index=max_activos).sort_values(0, ascending=False)[:pos].index.to_list()\n",
    "    max_activos = max_activos_beta\n",
    "\n",
    "    # Se guarda la cartera seleccionada por periodo test en un diccionario\n",
    "    for fecha in range(df_periodos.loc[\"test\", \"desde\"], df_periodos.loc[\"test\", \"hasta\"]+1):\n",
    "        dic_activos_opt[str(fecha)] = max_activos\n",
    "\n",
    "    retornos = np.array (data.loc[desde_test:hasta_test,max_activos])\n",
    "    señal_corto = np.array ((data.loc[desde_test:hasta_test].vixsignal-1)/2).reshape(-1,1)\n",
    "    vixsimixto_corto = (retornos * señal_corto * 1/len(max_activos)).sum(axis=1)\n",
    "    vixsimixto_largo = np.array((data.loc[desde_test:hasta_test].vixsignal+1)/2 * data.loc[desde_test:hasta_test].SPY)\n",
    "\n",
    "    vixsimixto = vixsimixto_corto + vixsimixto_largo\n",
    "\n",
    "    data.loc[desde_test:hasta_test,ret_estrategias[0]] = pd.DataFrame(pd.Series(vixsimixto)).set_index(\n",
    "                                                    data.loc[desde_test:hasta_test].index)[0]\n",
    "    data.loc[desde_test:hasta_test,ret_estrategias[1]] = (data.loc[desde_test:hasta_test].vixsignal *\n",
    "                                                    data.loc[desde_test:hasta_test].SPY)\n",
    "    data.loc[desde_test:hasta_test,ret_estrategias[2]] = data.loc[desde_test:hasta_test].SPY\n",
    "    \n",
    "    df_periodos = df_periodos + 1\n"
   ]
  },
  {
   "cell_type": "code",
   "execution_count": 14,
   "metadata": {},
   "outputs": [],
   "source": [
    "# Activos generados en los periodos de test"
   ]
  },
  {
   "cell_type": "code",
   "execution_count": 36,
   "metadata": {},
   "outputs": [
    {
     "data": {
      "text/plain": [
       "{'2018': ['WU'],\n",
       " '2019': ['AES'],\n",
       " '2020': ['TXN'],\n",
       " '2021': ['TER'],\n",
       " '2022': ['TER'],\n",
       " '2023': ['KLAC'],\n",
       " '2024': ['KLAC']}"
      ]
     },
     "execution_count": 36,
     "metadata": {},
     "output_type": "execute_result"
    }
   ],
   "source": [
    "dic_activos_opt"
   ]
  },
  {
   "cell_type": "markdown",
   "metadata": {},
   "source": [
    "### Test de la cartera\n",
    "\n",
    "Comparación del alpha de la cartera combinada con el alpha del SPY periodo 2019 en adelante"
   ]
  },
  {
   "cell_type": "code",
   "execution_count": 37,
   "metadata": {},
   "outputs": [
    {
     "data": {
      "text/html": [
       "<div>\n",
       "<style scoped>\n",
       "    .dataframe tbody tr th:only-of-type {\n",
       "        vertical-align: middle;\n",
       "    }\n",
       "\n",
       "    .dataframe tbody tr th {\n",
       "        vertical-align: top;\n",
       "    }\n",
       "\n",
       "    .dataframe thead th {\n",
       "        text-align: right;\n",
       "    }\n",
       "</style>\n",
       "<table border=\"1\" class=\"dataframe\">\n",
       "  <thead>\n",
       "    <tr style=\"text-align: right;\">\n",
       "      <th></th>\n",
       "      <th>RetAnual</th>\n",
       "      <th>RSharpe</th>\n",
       "      <th>MaxDwd</th>\n",
       "    </tr>\n",
       "  </thead>\n",
       "  <tbody>\n",
       "    <tr>\n",
       "      <th>ESTR_VIXSIhedge</th>\n",
       "      <td>0.40</td>\n",
       "      <td>1.50</td>\n",
       "      <td>0.20</td>\n",
       "    </tr>\n",
       "    <tr>\n",
       "      <th>ESTR_VIXSI</th>\n",
       "      <td>0.28</td>\n",
       "      <td>1.27</td>\n",
       "      <td>0.19</td>\n",
       "    </tr>\n",
       "  </tbody>\n",
       "</table>\n",
       "</div>"
      ],
      "text/plain": [
       "                 RetAnual  RSharpe  MaxDwd\n",
       "ESTR_VIXSIhedge      0.40     1.50    0.20\n",
       "ESTR_VIXSI           0.28     1.27    0.19"
      ]
     },
     "execution_count": 37,
     "metadata": {},
     "output_type": "execute_result"
    },
    {
     "data": {
      "image/png": "[encoded data removed]",
      "text/plain": [
       "<Figure size 1000x600 with 1 Axes>"
      ]
     },
     "metadata": {},
     "output_type": "display_data"
    }
   ],
   "source": [
    "estrategias = [\"ESTR_\"+ret_estrategia for ret_estrategia in ret_estrategias]\n",
    "data[estrategias] = (1 + data[ret_estrategias]).cumprod()\n",
    "\n",
    "tdatos = data.loc[\"2018\":,estrategias]\n",
    "tdatos[estrategias] = tdatos[estrategias]/tdatos[estrategias].iloc[0]\n",
    "#tdatos[\"VIXSIMIXCART\"] = tdatos.VIXSIMIXCART/tdatos.VIXSIMIXCART.iloc[0]\n",
    "#tdatos[\"VIXSISPY\"] = tdatos.VIXSISPY/tdatos.VIXSISPY.iloc[0]\n",
    "\n",
    "ret_ann, ret_ann_b, r_sharpe, r_sharpe_b = metrica_cartera(tdatos[estrategias[0]], tdatos[estrategias[1]])\n",
    "maxdwn, *_ = drwdown (tdatos[estrategias[0]])\n",
    "maxdwn_b, *_ = drwdown (tdatos[estrategias[1]])\n",
    "\n",
    "valores = [[ret_ann, r_sharpe, maxdwn], [ret_ann_b, r_sharpe_b, maxdwn_b]]\n",
    "df_result = pd.DataFrame(valores, index= estrategias[:2])\n",
    "df_result.columns = [\"RetAnual\",\"RSharpe\",\"MaxDwd\"]\n",
    "\n",
    "plt.figure(figsize=(10,6))\n",
    "plt.plot(tdatos[estrategias[0]], label=estrategias[0])\n",
    "plt.plot(tdatos[estrategias[1]], label=estrategias[1])\n",
    "plt.plot(tdatos[estrategias[2]], label=estrategias[2])\n",
    "\n",
    "plt.legend()\n",
    "plt.plot()\n",
    "plt.savefig('vixsihedge.png')\n",
    "\n",
    "df_result = df_result.round(2)\n",
    "df_result.to_clipboard()\n",
    "df_result\n"
   ]
  },
  {
   "cell_type": "markdown",
   "metadata": {},
   "source": [
    "### Conclusiones\n",
    "\n",
    "Se ha encontrado una cartera dinámica con optimización de metaparámetros y filtraje por Beta de los activos seleccionados, obteniendo esta vez una equity sensiblemente mejor que la VIXSISPY, con lo que la optimización dinámica con optimización de metaparámetros y filtraje de activos por su Beta son la mejor opción para encontrar las carteras hedge al SPY. \n",
    "\n",
    "\n",
    "En el siguiente sección se analizará si los modelos RNN pueden aportar iguales o mejores resultados.\n",
    "\n"
   ]
  }
 ],
 "metadata": {
  "kernelspec": {
   "display_name": "python39",
   "language": "python",
   "name": "python39"
  },
  "language_info": {
   "codemirror_mode": {
    "name": "ipython",
    "version": 3
   },
   "file_extension": ".py",
   "mimetype": "text/x-python",
   "name": "python",
   "nbconvert_exporter": "python",
   "pygments_lexer": "ipython3",
   "version": "3.9.13"
  }
 },
 "nbformat": 4,
 "nbformat_minor": 5
}
