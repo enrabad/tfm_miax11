{
 "cells": [
  {
   "cell_type": "markdown",
   "metadata": {},
   "source": [
    "### Creación del dataset de acciones del SP500\n",
    "\n",
    "Como el histórico de datos va a ser el periodo del cálculo de VIXSI [2008-2024], se cargarán las acciones del SP500 que se añadieron al índice antes del 2008.\n",
    "\n",
    "Para la gestión de entradas/salidas/bajas de acciones del SP500 desde el 2008, se aplicarán las siguientes reglas que aseguran que haya el máxmimo número de acciones con el máximo histórico de datos con precio que se puedan obtener desde el 2008 en el SP500.\n",
    "\n",
    "1. Se va a trabajar con todos los activos que se unieron al índice antes del 2008, sin importar que a día de hoy sigan existiendo o no:\n",
    "\n",
    "    1.1 primero se seleccionan los activos del SP500 que entraron al índice antes del 2008 y siguen estando a día de hoy.\n",
    "    \n",
    "    1.2 luego se seleccionan los activos que salieron desde el 2008 en adelante, sin resetear precios desde el día de la fecha de salida hasta el fin de periodo.\n",
    "\n",
    "2. Se descartan las acciones que no tengan precios en ninguna fecha o estén descatalogadas por yfinance.\n",
    "\n",
    "3. Las acciones que no tengan precios en alguna fecha, se rellenan con el último valor anterior con datos.\n"
   ]
  },
  {
   "cell_type": "code",
   "execution_count": 5,
   "metadata": {},
   "outputs": [
    {
     "name": "stdout",
     "output_type": "stream",
     "text": [
      "The autoreload extension is already loaded. To reload it, use:\n",
      "  %reload_ext autoreload\n"
     ]
    }
   ],
   "source": [
    "import pandas as pd\n",
    "import numpy as np\n",
    "import matplotlib.pyplot as plt\n",
    "\n",
    "import yfinance as yf\n",
    "import requests\n",
    "\n",
    "%matplotlib inline\n",
    "%load_ext autoreload\n",
    "%autoreload 2\n",
    "import warnings\n",
    "warnings.filterwarnings('ignore')\n",
    "\n"
   ]
  },
  {
   "cell_type": "markdown",
   "metadata": {},
   "source": [
    "### Se carga el histórico de VIXSI para determinar el periodo histórico de los activos"
   ]
  },
  {
   "cell_type": "code",
   "execution_count": 6,
   "metadata": {},
   "outputs": [],
   "source": [
    "vixsi_datos = pd.read_csv(\"../datos/vixsi.csv\", index_col=0)\n",
    "desde = vixsi_datos.index[0]\n",
    "hasta = vixsi_datos.index[-1]"
   ]
  },
  {
   "cell_type": "markdown",
   "metadata": {},
   "source": [
    "### Se seleccionan los activos que existían en el índice SP500 antes del 2008 y existen actualmente\n"
   ]
  },
  {
   "cell_type": "code",
   "execution_count": 7,
   "metadata": {},
   "outputs": [],
   "source": [
    "tickers = pd.read_html('https://en.wikipedia.org/wiki/List_of_S%26P_500_companies')[0]\n",
    "tickers = tickers[tickers[\"Date added\"]<=\"2008-01-01\"]\n",
    "tickers = tickers.Symbol.to_list()\n"
   ]
  },
  {
   "cell_type": "markdown",
   "metadata": {},
   "source": [
    "### Se seleccionan los activos que salieron  del índice SP500 a partir del 2008"
   ]
  },
  {
   "cell_type": "code",
   "execution_count": 8,
   "metadata": {},
   "outputs": [],
   "source": [
    "cambios = pd.read_html('https://en.wikipedia.org/wiki/List_of_S%26P_500_companies')[1]\n",
    "df_cambios = cambios[[(\"Date\",\"Date\"),(\"Added\",\"Ticker\"),(\"Removed\",\"Ticker\")]]\n",
    "df_cambios.columns = [\"fecha\",\"entrada\",\"salida\"]\n",
    "df_cambios.fecha = pd.to_datetime (df_cambios.fecha)\n",
    "df_cambios.set_index(df_cambios.fecha, inplace=True)\n",
    "df_cambios.sort_index(inplace=True)\n",
    "tickers_mov = (list(df_cambios[df_cambios.fecha >\"2008-01-01\"].dropna().salida.values))"
   ]
  },
  {
   "cell_type": "markdown",
   "metadata": {},
   "source": [
    "### Se cargan los dos conjuntos de activos seleccionados anteriormente\n",
    "\n",
    "Se unen los activos tickers y tickers_mov con el operador de conjuntos \"|\" para evitar duplicados, si los hubiera."
   ]
  },
  {
   "cell_type": "code",
   "execution_count": 9,
   "metadata": {},
   "outputs": [
    {
     "name": "stdout",
     "output_type": "stream",
     "text": [
      "[*********************100%***********************]  538 of 538 completed"
     ]
    },
    {
     "name": "stderr",
     "output_type": "stream",
     "text": [
      "\n",
      "117 Failed downloads:\n",
      "['FTR', 'VIAB', 'VAR', 'TWTR', 'RDC', 'MXIM', 'FII', 'MON', 'ATVI', 'APC', 'PBCT', 'SWN', 'RHT', 'ADS', 'TSS', 'ESV', 'CERN', 'BIG', 'YHOO', 'CELG', 'WCG', 'FLIR', 'RRD', 'DF', 'ALXN', 'MNK', 'DISH', 'ARNC', 'ETFC', 'WPX', 'DO', 'KSU', 'LSI', 'DNR', 'XEC', 'DRE', 'LM', 'AVP', 'JCP', 'TIF', 'LIFE', 'AGN', 'XL', 'NLSN', 'PXD', 'XLNX', 'DWDP', 'FBHS', 'QEP', 'FRX', 'AKS', 'WIN', 'DTV', 'CXO', 'FRC', 'CTXS', 'BBBY', 'LLL', 'CHK', 'ABMD']: Exception('%ticker%: No timezone found, symbol may be delisted')\n",
      "['ARG', 'MIL', 'SIAL', 'LO', 'TE', 'BJS', 'DPS', 'KRFT', 'TYC', 'FNM', 'FDO', 'CAM', 'GMCR', 'PGN', 'FRE', 'SNDK', 'ACAS', 'JOY', 'APOL', 'AMGN', 'RAI', 'JNS', 'CVC', 'CPGX', 'JDSU', 'EK', 'WYN', 'NVLS', 'STJ', 'TWC', 'LEH', 'MWW', 'LVLT', 'LXK', 'SPLS', 'GGP', 'BCR', 'PCS', 'SWY', 'CFN', 'BRCM', 'XTO', 'MJN', 'BXLT', 'Q', 'HSP', 'WFM', 'NOVL', 'BF.B', 'LLTC', 'HCBK', 'CEPH', 'GENZ']: Exception('%ticker%: No price data found, symbol may be delisted (1d 2008-01-02 -> 2024-12-16)')\n",
      "['SAI', 'ENDP', 'SIVB']: Exception('%ticker%: No data found, symbol may be delisted')\n",
      "['NYX']: Exception(\"%ticker%: Period 'max' is invalid, must be one of ['1d', '5d']\")\n"
     ]
    },
    {
     "name": "stdout",
     "output_type": "stream",
     "text": [
      "\n"
     ]
    },
    {
     "data": {
      "text/html": [
       "<div>\n",
       "<style scoped>\n",
       "    .dataframe tbody tr th:only-of-type {\n",
       "        vertical-align: middle;\n",
       "    }\n",
       "\n",
       "    .dataframe tbody tr th {\n",
       "        vertical-align: top;\n",
       "    }\n",
       "\n",
       "    .dataframe thead th {\n",
       "        text-align: right;\n",
       "    }\n",
       "</style>\n",
       "<table border=\"1\" class=\"dataframe\">\n",
       "  <thead>\n",
       "    <tr style=\"text-align: right;\">\n",
       "      <th></th>\n",
       "      <th>A</th>\n",
       "      <th>AA</th>\n",
       "      <th>AAL</th>\n",
       "      <th>AAP</th>\n",
       "      <th>AAPL</th>\n",
       "      <th>ABK</th>\n",
       "      <th>ABMD</th>\n",
       "      <th>ABT</th>\n",
       "      <th>ACAS</th>\n",
       "      <th>ACE</th>\n",
       "      <th>...</th>\n",
       "      <th>XEL</th>\n",
       "      <th>XL</th>\n",
       "      <th>XLNX</th>\n",
       "      <th>XOM</th>\n",
       "      <th>XRX</th>\n",
       "      <th>XTO</th>\n",
       "      <th>YHOO</th>\n",
       "      <th>YUM</th>\n",
       "      <th>ZBH</th>\n",
       "      <th>ZION</th>\n",
       "    </tr>\n",
       "    <tr>\n",
       "      <th>Date</th>\n",
       "      <th></th>\n",
       "      <th></th>\n",
       "      <th></th>\n",
       "      <th></th>\n",
       "      <th></th>\n",
       "      <th></th>\n",
       "      <th></th>\n",
       "      <th></th>\n",
       "      <th></th>\n",
       "      <th></th>\n",
       "      <th></th>\n",
       "      <th></th>\n",
       "      <th></th>\n",
       "      <th></th>\n",
       "      <th></th>\n",
       "      <th></th>\n",
       "      <th></th>\n",
       "      <th></th>\n",
       "      <th></th>\n",
       "      <th></th>\n",
       "      <th></th>\n",
       "    </tr>\n",
       "  </thead>\n",
       "  <tbody>\n",
       "    <tr>\n",
       "      <th>2008-01-02 00:00:00</th>\n",
       "      <td>25.965666</td>\n",
       "      <td>86.820389</td>\n",
       "      <td>13.32</td>\n",
       "      <td>37.590000</td>\n",
       "      <td>6.958571</td>\n",
       "      <td>1.08878</td>\n",
       "      <td>NaN</td>\n",
       "      <td>26.777637</td>\n",
       "      <td>NaN</td>\n",
       "      <td>NaN</td>\n",
       "      <td>...</td>\n",
       "      <td>22.170000</td>\n",
       "      <td>NaN</td>\n",
       "      <td>NaN</td>\n",
       "      <td>93.510002</td>\n",
       "      <td>41.686432</td>\n",
       "      <td>NaN</td>\n",
       "      <td>NaN</td>\n",
       "      <td>27.232206</td>\n",
       "      <td>64.359222</td>\n",
       "      <td>45.290001</td>\n",
       "    </tr>\n",
       "    <tr>\n",
       "      <th>2008-01-03 00:00:00</th>\n",
       "      <td>25.708155</td>\n",
       "      <td>86.964569</td>\n",
       "      <td>12.72</td>\n",
       "      <td>37.950001</td>\n",
       "      <td>6.961786</td>\n",
       "      <td>1.02656</td>\n",
       "      <td>NaN</td>\n",
       "      <td>26.614506</td>\n",
       "      <td>NaN</td>\n",
       "      <td>NaN</td>\n",
       "      <td>...</td>\n",
       "      <td>22.299999</td>\n",
       "      <td>NaN</td>\n",
       "      <td>NaN</td>\n",
       "      <td>93.830002</td>\n",
       "      <td>41.370224</td>\n",
       "      <td>NaN</td>\n",
       "      <td>NaN</td>\n",
       "      <td>26.851187</td>\n",
       "      <td>64.427185</td>\n",
       "      <td>44.380001</td>\n",
       "    </tr>\n",
       "    <tr>\n",
       "      <th>2008-01-04 00:00:00</th>\n",
       "      <td>24.871244</td>\n",
       "      <td>83.792610</td>\n",
       "      <td>12.41</td>\n",
       "      <td>35.669998</td>\n",
       "      <td>6.430357</td>\n",
       "      <td>1.02656</td>\n",
       "      <td>NaN</td>\n",
       "      <td>26.768042</td>\n",
       "      <td>NaN</td>\n",
       "      <td>NaN</td>\n",
       "      <td>...</td>\n",
       "      <td>22.049999</td>\n",
       "      <td>NaN</td>\n",
       "      <td>NaN</td>\n",
       "      <td>92.080002</td>\n",
       "      <td>39.815548</td>\n",
       "      <td>NaN</td>\n",
       "      <td>NaN</td>\n",
       "      <td>26.470165</td>\n",
       "      <td>64.563110</td>\n",
       "      <td>42.400002</td>\n",
       "    </tr>\n",
       "    <tr>\n",
       "      <th>2008-01-07 00:00:00</th>\n",
       "      <td>25.278971</td>\n",
       "      <td>79.563332</td>\n",
       "      <td>12.23</td>\n",
       "      <td>37.279999</td>\n",
       "      <td>6.344286</td>\n",
       "      <td>0.99545</td>\n",
       "      <td>NaN</td>\n",
       "      <td>27.588499</td>\n",
       "      <td>NaN</td>\n",
       "      <td>NaN</td>\n",
       "      <td>...</td>\n",
       "      <td>22.389999</td>\n",
       "      <td>NaN</td>\n",
       "      <td>NaN</td>\n",
       "      <td>91.220001</td>\n",
       "      <td>39.789196</td>\n",
       "      <td>NaN</td>\n",
       "      <td>NaN</td>\n",
       "      <td>27.088427</td>\n",
       "      <td>66.660194</td>\n",
       "      <td>43.279999</td>\n",
       "    </tr>\n",
       "    <tr>\n",
       "      <th>2008-01-08 00:00:00</th>\n",
       "      <td>25.243204</td>\n",
       "      <td>74.492996</td>\n",
       "      <td>11.01</td>\n",
       "      <td>35.360001</td>\n",
       "      <td>6.116071</td>\n",
       "      <td>0.99545</td>\n",
       "      <td>NaN</td>\n",
       "      <td>28.312998</td>\n",
       "      <td>NaN</td>\n",
       "      <td>NaN</td>\n",
       "      <td>...</td>\n",
       "      <td>22.160000</td>\n",
       "      <td>NaN</td>\n",
       "      <td>NaN</td>\n",
       "      <td>90.050003</td>\n",
       "      <td>39.051384</td>\n",
       "      <td>NaN</td>\n",
       "      <td>NaN</td>\n",
       "      <td>26.398275</td>\n",
       "      <td>65.291260</td>\n",
       "      <td>41.759998</td>\n",
       "    </tr>\n",
       "  </tbody>\n",
       "</table>\n",
       "<p>5 rows × 538 columns</p>\n",
       "</div>"
      ],
      "text/plain": [
       "                             A         AA    AAL        AAP      AAPL  \\\n",
       "Date                                                                    \n",
       "2008-01-02 00:00:00  25.965666  86.820389  13.32  37.590000  6.958571   \n",
       "2008-01-03 00:00:00  25.708155  86.964569  12.72  37.950001  6.961786   \n",
       "2008-01-04 00:00:00  24.871244  83.792610  12.41  35.669998  6.430357   \n",
       "2008-01-07 00:00:00  25.278971  79.563332  12.23  37.279999  6.344286   \n",
       "2008-01-08 00:00:00  25.243204  74.492996  11.01  35.360001  6.116071   \n",
       "\n",
       "                         ABK  ABMD        ABT  ACAS  ACE  ...        XEL  XL  \\\n",
       "Date                                                      ...                  \n",
       "2008-01-02 00:00:00  1.08878   NaN  26.777637   NaN  NaN  ...  22.170000 NaN   \n",
       "2008-01-03 00:00:00  1.02656   NaN  26.614506   NaN  NaN  ...  22.299999 NaN   \n",
       "2008-01-04 00:00:00  1.02656   NaN  26.768042   NaN  NaN  ...  22.049999 NaN   \n",
       "2008-01-07 00:00:00  0.99545   NaN  27.588499   NaN  NaN  ...  22.389999 NaN   \n",
       "2008-01-08 00:00:00  0.99545   NaN  28.312998   NaN  NaN  ...  22.160000 NaN   \n",
       "\n",
       "                     XLNX        XOM        XRX  XTO  YHOO        YUM  \\\n",
       "Date                                                                    \n",
       "2008-01-02 00:00:00   NaN  93.510002  41.686432  NaN   NaN  27.232206   \n",
       "2008-01-03 00:00:00   NaN  93.830002  41.370224  NaN   NaN  26.851187   \n",
       "2008-01-04 00:00:00   NaN  92.080002  39.815548  NaN   NaN  26.470165   \n",
       "2008-01-07 00:00:00   NaN  91.220001  39.789196  NaN   NaN  27.088427   \n",
       "2008-01-08 00:00:00   NaN  90.050003  39.051384  NaN   NaN  26.398275   \n",
       "\n",
       "                           ZBH       ZION  \n",
       "Date                                       \n",
       "2008-01-02 00:00:00  64.359222  45.290001  \n",
       "2008-01-03 00:00:00  64.427185  44.380001  \n",
       "2008-01-04 00:00:00  64.563110  42.400002  \n",
       "2008-01-07 00:00:00  66.660194  43.279999  \n",
       "2008-01-08 00:00:00  65.291260  41.759998  \n",
       "\n",
       "[5 rows x 538 columns]"
      ]
     },
     "execution_count": 9,
     "metadata": {},
     "output_type": "execute_result"
    }
   ],
   "source": [
    "tickers_all = list(set(tickers) | set(tickers_mov))\n",
    "tickers_all.insert(0, 'SPY')\n",
    "data = yf.download(tickers_all, desde, hasta)['Close']\n",
    "\n",
    "data.head()"
   ]
  },
  {
   "cell_type": "markdown",
   "metadata": {},
   "source": [
    "### Se eliminan las acciones que todos sus precios sean nulos, y las que en algún precio no tiene datos, se le asigna el valor anterior con datos."
   ]
  },
  {
   "cell_type": "code",
   "execution_count": 10,
   "metadata": {},
   "outputs": [],
   "source": [
    "data = data.dropna(axis=1, how=\"all\")\n",
    "data.fillna(method=\"ffill\", inplace=True)\n",
    "data.fillna(method=\"bfill\", inplace=True)"
   ]
  },
  {
   "cell_type": "markdown",
   "metadata": {},
   "source": [
    "### Se guarda el dataset"
   ]
  },
  {
   "cell_type": "code",
   "execution_count": 11,
   "metadata": {},
   "outputs": [],
   "source": [
    "data.to_csv (\"../datos/sp500.csv\")"
   ]
  },
  {
   "cell_type": "markdown",
   "metadata": {},
   "source": [
    "### Conclusiones\n",
    "\n",
    "Se ha creado el conjunto de datos del SP500, siguiendo las reglas mencionadas al principio del notebook, para guardarlo en un fichero que el resto de notebooks utilizará.\n"
   ]
  }
 ],
 "metadata": {
  "kernelspec": {
   "display_name": "python39",
   "language": "python",
   "name": "python39"
  },
  "language_info": {
   "codemirror_mode": {
    "name": "ipython",
    "version": 3
   },
   "file_extension": ".py",
   "mimetype": "text/x-python",
   "name": "python",
   "nbconvert_exporter": "python",
   "pygments_lexer": "ipython3",
   "version": "3.9.13"
  }
 },
 "nbformat": 4,
 "nbformat_minor": 5
}
