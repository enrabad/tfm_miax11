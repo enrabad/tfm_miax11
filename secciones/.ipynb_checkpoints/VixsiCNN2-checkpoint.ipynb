{
 "cells": [
  {
   "cell_type": "code",
   "execution_count": 4,
   "metadata": {},
   "outputs": [],
   "source": [
    "# El dataset de entrada son los deciles de FVIXSI y el dataset de salida son los deciles de retsig\n",
    "# Se optimiza el modelo CNN\n",
    "\n",
    "import pandas as pd\n",
    "import numpy as np\n",
    "\n",
    "import warnings\n",
    "warnings.filterwarnings('ignore')\n",
    "\n",
    "import matplotlib.pyplot as plt\n",
    "%matplotlib inline\n",
    "plt.style.use('seaborn-darkgrid')\n",
    "\n",
    "import yfinance as yf\n",
    "from bs4 import BeautifulSoup\n",
    "import requests\n",
    "from datetime import datetime\n",
    "from datetime import timedelta\n",
    "from dateutil.relativedelta import relativedelta\n",
    "import time\n",
    "import pandas as pd\n",
    "import numpy as np\n",
    "import random\n",
    "import time\n",
    "from pathlib import Path\n",
    "import pickle\n",
    "\n",
    "def cargar_datos (desde, hasta):\n",
    "    '''\n",
    "    \n",
    "    '''\n",
    "\n",
    "    spy_datos = yf.download(\"SPY\", start=desde, end=hasta)\n",
    "    vix_datos = yf.download(\"^VIX\", start=desde, end=hasta)\n",
    "\n",
    "    datos_all = pd.concat([spy_datos.Close, vix_datos.Close], axis=1).dropna()\n",
    "    datos_all.columns = [\"SPY\",\"VIX\"]\n",
    "    datos_all[\"rets\"] = datos_all.SPY.pct_change()\n",
    "\n",
    "    # Indicadores para deltavix\n",
    "    datos_all[\"FVIX\"] = datos_all.VIX\n",
    "    datos_all[\"FRETVIX\"] = datos_all.VIX.pct_change()\n",
    "    datos_all[\"FRET\"] = datos_all.rets\n",
    "    datos_all[\"FRVIX\"] = np.abs(datos_all.rets) - datos_all.VIX/(np.sqrt(256)*100)\n",
    "    datos_all[\"FVIXSI\"] = datos_all.rets - datos_all.VIX/(np.sqrt(256)*100)\n",
    "    #datos_all[\"vixsi\"] = np.where(datos_all.rets - datos_all.VIX/(np.sqrt(256)*100) > 0, -1, 1)\n",
    "    datos_all[\"vixsi\"] = np.where(datos_all.rets - datos_all.VIX/(np.sqrt(256)*100) > 0, 0, 1)\n",
    "    datos_all[\"qretvix\"] = datos_all.FRETVIX\n",
    "    datos_all[\"qret\"] = datos_all.FRET\n",
    "    datos_all[\"qrvix\"] = datos_all.FRVIX\n",
    "    datos_all[\"qvix\"] = datos_all.FVIX\n",
    "    datos_all[\"retsig\"] = datos_all.rets.shift(-1)\n",
    "\n",
    "    datos_all.dropna(inplace=True)\n",
    "\n",
    "    return datos_all\n",
    "\n"
   ]
  },
  {
   "cell_type": "code",
   "execution_count": 17,
   "metadata": {},
   "outputs": [
    {
     "name": "stdout",
     "output_type": "stream",
     "text": [
      "[*********************100%***********************]  1 of 1 completed\n",
      "[*********************100%***********************]  1 of 1 completed\n"
     ]
    }
   ],
   "source": [
    "desde = \"2000-01-01\"\n",
    "hasta = (datetime.now() + timedelta(1)).strftime(\"%Y-%m-%d\")\n",
    "hasta = \"2024-11-20\"\n",
    "datos = cargar_datos (desde, hasta)"
   ]
  },
  {
   "cell_type": "code",
   "execution_count": null,
   "metadata": {},
   "outputs": [],
   "source": [
    "\n",
    "def designia_qt (datos_qt, datos, señales, periodos, result, numqt=10):\n",
    "    \n",
    "    if datos.index[-1] < datos_qt.index[-1]:\n",
    "        return\n",
    "    \n",
    "    qdatos = []\n",
    "    for j in range(len(señales)):\n",
    "        qdatos.append(np.array(datos_qt[señales[j]].quantile([i / numqt for i in range(1, numqt+1)])))\n",
    "        \n",
    "    df_qdatos = pd.DataFrame(np.array(qdatos).T)\n",
    "    df_qdatos.columns = señales\n",
    "    \n",
    "    qdatosY = np.array(datos_qt[result].quantile([i / numqt for i in range(1, numqt+1)]))\n",
    "    fechas = []\n",
    "    max_periodo = periodos[-1]\n",
    "    numsig = len(señales)\n",
    "    \n",
    "    #dias, periodos, deciles, señal=[vixsi, retvix, vix]\n",
    "    \n",
    "    ldatos = []\n",
    "    ldatosY = []\n",
    "    for i in range(len(datos)-max_periodo):\n",
    "        mdatos = np.zeros((len(periodos), numqt, numsig))\n",
    "        mdatosY = np.zeros((numqt))\n",
    "        for j in range(len(periodos)):\n",
    "            datos_frec = datos.iloc[i+max_periodo-periodos[j]:i+max_periodo-periodos[j]+1]\n",
    "            for k in range(numqt):\n",
    "                if k == 0:\n",
    "                    for s in range(numsig):\n",
    "                        mdatos[j, k, s] = len(datos_frec.loc[(datos_frec[df_qdatos.columns[s]] <= df_qdatos.iloc[k,s])])\n",
    "                    #20241202\n",
    "                    if periodos[j]==1:\n",
    "                    #if j==len(periodos-1):                        \n",
    "                        mdatosY[k] = len(datos_frec.loc[(datos_frec[result] < qdatosY[k])])\n",
    "                else:\n",
    "                    for s in range(numsig):\n",
    "                        mdatos[j, k, s] = len(datos_frec.loc[(datos_frec[df_qdatos.columns[s]] > df_qdatos.iloc[k-1,s]) &\n",
    "                                                      (datos_frec[df_qdatos.columns[s]] <= df_qdatos.iloc[k,s])])\n",
    "                    if periodos[j]==1:\n",
    "                        mdatosY[k] = len(datos_frec.loc[(datos_frec[result] <= qdatosY[k]) &\n",
    "                                                          (datos_frec[result] > qdatosY[k-1])])\n",
    "                if k == numqt-1:\n",
    "                    for s in range(numsig):\n",
    "                        mdatos[j, k, s] = (mdatos[j, k, s] +\n",
    "                          len(datos_frec.loc[(datos_frec[df_qdatos.columns[s]] > df_qdatos.iloc[k,s])]))\n",
    "                    #20241202\n",
    "                    if periodos[j]==1:\n",
    "                    #if j==len(periodos-1):\n",
    "                        mdatosY[k] = mdatosY[k] + len(datos_frec.loc[(datos_frec[result] > qdatosY[k])])\n",
    "\n",
    "            for s in range(len(df_qdatos.columns)):\n",
    "                mdatos[j,:,s] = mdatos[j,:,s]/mdatos[j,:,s].sum()\n",
    "            if periodos[j]==1:\n",
    "                mdatosY = mdatosY/mdatosY.sum()\n",
    "\n",
    "        ldatos.append(mdatos)\n",
    "        ldatosY.append(mdatosY)\n",
    "        fechas.append(datos.iloc[i+max_periodo-1:i+max_periodo].index[-1])\n",
    "            \n",
    "    return np.array(ldatos), np.array(ldatosY), fechas\n",
    "\n"
   ]
  },
  {
   "cell_type": "code",
   "execution_count": null,
   "metadata": {},
   "outputs": [],
   "source": [
    "\n",
    "ini = time.time()\n",
    "\n",
    "datos[\"vixsisig\"] = datos[\"FVIXSI\"].shift(-1)\n",
    "periodos = [1, 2, 3, 4, 5, 6, 7, 8, 9, 10]\n",
    "max_periodo = periodos[-1]\n",
    "datos_train = datos.loc[\"2008-01-01\":\"2020-01-01\"]\n",
    "datos_qt = datos_train\n",
    "datos_test = datos.loc[datos_train.index[-max_periodo]:]\n",
    "#X_train, Y_train, F_train = designia_qt (datos_qt, datos_train,\n",
    "#                                         señales=[\"FVIXSI\"], periodos=periodos, result=\"retsig\")\n",
    "X_train, Y_train, F_train = designia_qt (datos_qt, datos_train,\n",
    "                                         señales=[\"FVIXSI\"], periodos=periodos, result=\"vixsisig\")\n",
    "#X_test, Y_test, F_test = designia_qt (datos_qt, datos_test, \n",
    "#                                      señales=[\"FVIXSI\"], periodos=periodos, result=\"retsig\")\n",
    "X_test, Y_test, F_test = designia_qt (datos_qt, datos_test, \n",
    "                                      señales=[\"FVIXSI\"], periodos=periodos, result=\"vixsisig\")\n",
    "\n",
    "print (\"tiempo creación datos train_test:\", time.time()-ini)\n",
    "\n",
    "with open('designia.pkl', 'wb') as file:\n",
    "    pickle.dump((X_train, Y_train, F_train, X_test, Y_test, F_test), file)"
   ]
  },
  {
   "cell_type": "code",
   "execution_count": 5,
   "metadata": {},
   "outputs": [],
   "source": [
    "with open('designia.pkl', 'rb') as file:\n",
    "    X_train, Y_train, F_train, X_test, Y_test, F_test = pickle.load(file)"
   ]
  },
  {
   "cell_type": "code",
   "execution_count": 6,
   "metadata": {},
   "outputs": [],
   "source": [
    "canales = X_train.shape[3]"
   ]
  },
  {
   "cell_type": "code",
   "execution_count": 7,
   "metadata": {},
   "outputs": [
    {
     "name": "stdout",
     "output_type": "stream",
     "text": [
      "WARNING:tensorflow:From C:\\Users\\abad\\Anaconda3\\envs\\python39\\lib\\site-packages\\keras\\src\\losses.py:2976: The name tf.losses.sparse_softmax_cross_entropy is deprecated. Please use tf.compat.v1.losses.sparse_softmax_cross_entropy instead.\n",
      "\n",
      "WARNING:tensorflow:From C:\\Users\\abad\\Anaconda3\\envs\\python39\\lib\\site-packages\\keras\\src\\backend.py:873: The name tf.get_default_graph is deprecated. Please use tf.compat.v1.get_default_graph instead.\n",
      "\n",
      "WARNING:tensorflow:From C:\\Users\\abad\\Anaconda3\\envs\\python39\\lib\\site-packages\\keras\\src\\layers\\pooling\\max_pooling2d.py:161: The name tf.nn.max_pool is deprecated. Please use tf.nn.max_pool2d instead.\n",
      "\n",
      "WARNING:tensorflow:From C:\\Users\\abad\\Anaconda3\\envs\\python39\\lib\\site-packages\\keras\\src\\optimizers\\__init__.py:309: The name tf.train.Optimizer is deprecated. Please use tf.compat.v1.train.Optimizer instead.\n",
      "\n",
      "Model: \"sequential\"\n",
      "_________________________________________________________________\n",
      " Layer (type)                Output Shape              Param #   \n",
      "=================================================================\n",
      " conv2d (Conv2D)             (None, 10, 10, 32)        320       \n",
      "                                                                 \n",
      " max_pooling2d (MaxPooling2  (None, 5, 5, 32)          0         \n",
      " D)                                                              \n",
      "                                                                 \n",
      " dropout (Dropout)           (None, 5, 5, 32)          0         \n",
      "                                                                 \n",
      " conv2d_1 (Conv2D)           (None, 5, 5, 64)          18496     \n",
      "                                                                 \n",
      " max_pooling2d_1 (MaxPoolin  (None, 2, 2, 64)          0         \n",
      " g2D)                                                            \n",
      "                                                                 \n",
      " dropout_1 (Dropout)         (None, 2, 2, 64)          0         \n",
      "                                                                 \n",
      " flatten (Flatten)           (None, 256)               0         \n",
      "                                                                 \n",
      " dense (Dense)               (None, 128)               32896     \n",
      "                                                                 \n",
      " dropout_2 (Dropout)         (None, 128)               0         \n",
      "                                                                 \n",
      " dense_1 (Dense)             (None, 10)                1290      \n",
      "                                                                 \n",
      "=================================================================\n",
      "Total params: 53002 (207.04 KB)\n",
      "Trainable params: 53002 (207.04 KB)\n",
      "Non-trainable params: 0 (0.00 Byte)\n",
      "_________________________________________________________________\n",
      "Epoch 1/100\n",
      "WARNING:tensorflow:From C:\\Users\\abad\\Anaconda3\\envs\\python39\\lib\\site-packages\\keras\\src\\utils\\tf_utils.py:492: The name tf.ragged.RaggedTensorValue is deprecated. Please use tf.compat.v1.ragged.RaggedTensorValue instead.\n",
      "\n",
      "WARNING:tensorflow:From C:\\Users\\abad\\Anaconda3\\envs\\python39\\lib\\site-packages\\keras\\src\\engine\\base_layer_utils.py:384: The name tf.executing_eagerly_outside_functions is deprecated. Please use tf.compat.v1.executing_eagerly_outside_functions instead.\n",
      "\n",
      "76/76 [==============================] - 2s 12ms/step - loss: 2.4894 - accuracy: 0.1213 - val_loss: 2.4623 - val_accuracy: 0.1061\n",
      "Epoch 2/100\n",
      "76/76 [==============================] - 1s 8ms/step - loss: 2.3839 - accuracy: 0.1591 - val_loss: 2.3768 - val_accuracy: 0.1526\n",
      "Epoch 3/100\n",
      "76/76 [==============================] - 1s 8ms/step - loss: 2.3273 - accuracy: 0.1661 - val_loss: 2.3366 - val_accuracy: 0.1509\n",
      "Epoch 4/100\n",
      "76/76 [==============================] - 1s 8ms/step - loss: 2.2979 - accuracy: 0.1748 - val_loss: 2.3080 - val_accuracy: 0.1658\n",
      "Epoch 5/100\n",
      "76/76 [==============================] - 1s 7ms/step - loss: 2.2795 - accuracy: 0.1748 - val_loss: 2.2913 - val_accuracy: 0.1642\n",
      "Epoch 6/100\n",
      "76/76 [==============================] - 1s 9ms/step - loss: 2.2552 - accuracy: 0.1902 - val_loss: 2.2744 - val_accuracy: 0.1692\n",
      "Epoch 7/100\n",
      "76/76 [==============================] - 1s 12ms/step - loss: 2.2343 - accuracy: 0.1952 - val_loss: 2.2666 - val_accuracy: 0.1625\n",
      "Epoch 8/100\n",
      "76/76 [==============================] - 1s 9ms/step - loss: 2.2408 - accuracy: 0.1823 - val_loss: 2.2584 - val_accuracy: 0.1841\n",
      "Epoch 9/100\n",
      "76/76 [==============================] - 1s 10ms/step - loss: 2.2216 - accuracy: 0.1831 - val_loss: 2.2597 - val_accuracy: 0.1658\n",
      "Epoch 10/100\n",
      "76/76 [==============================] - 1s 10ms/step - loss: 2.2115 - accuracy: 0.1948 - val_loss: 2.2458 - val_accuracy: 0.1542\n",
      "Epoch 11/100\n",
      "76/76 [==============================] - 1s 8ms/step - loss: 2.2100 - accuracy: 0.1960 - val_loss: 2.2537 - val_accuracy: 0.1592\n",
      "Epoch 12/100\n",
      "76/76 [==============================] - 1s 11ms/step - loss: 2.2099 - accuracy: 0.1873 - val_loss: 2.2536 - val_accuracy: 0.1476\n",
      "Epoch 13/100\n",
      "76/76 [==============================] - 1s 10ms/step - loss: 2.1993 - accuracy: 0.1898 - val_loss: 2.2426 - val_accuracy: 0.1559\n",
      "Epoch 14/100\n",
      "76/76 [==============================] - 1s 10ms/step - loss: 2.1952 - accuracy: 0.1985 - val_loss: 2.2424 - val_accuracy: 0.1376\n",
      "Epoch 15/100\n",
      "76/76 [==============================] - 1s 11ms/step - loss: 2.1936 - accuracy: 0.1981 - val_loss: 2.2406 - val_accuracy: 0.1575\n",
      "Epoch 16/100\n",
      "76/76 [==============================] - 1s 11ms/step - loss: 2.1879 - accuracy: 0.2056 - val_loss: 2.2503 - val_accuracy: 0.1526\n",
      "Epoch 17/100\n",
      "76/76 [==============================] - 1s 7ms/step - loss: 2.1980 - accuracy: 0.1890 - val_loss: 2.2415 - val_accuracy: 0.1609\n",
      "Epoch 18/100\n",
      "76/76 [==============================] - 1s 10ms/step - loss: 2.1767 - accuracy: 0.1989 - val_loss: 2.2373 - val_accuracy: 0.1741\n",
      "Epoch 19/100\n",
      "76/76 [==============================] - 1s 8ms/step - loss: 2.1931 - accuracy: 0.2097 - val_loss: 2.2413 - val_accuracy: 0.1493\n",
      "Epoch 20/100\n",
      "76/76 [==============================] - 1s 7ms/step - loss: 2.1812 - accuracy: 0.2043 - val_loss: 2.2394 - val_accuracy: 0.1575\n",
      "Epoch 21/100\n",
      "76/76 [==============================] - 1s 9ms/step - loss: 2.1656 - accuracy: 0.2110 - val_loss: 2.2424 - val_accuracy: 0.1609\n",
      "Epoch 22/100\n",
      "76/76 [==============================] - 1s 10ms/step - loss: 2.1696 - accuracy: 0.2130 - val_loss: 2.2394 - val_accuracy: 0.1509\n",
      "Epoch 23/100\n",
      "76/76 [==============================] - 1s 8ms/step - loss: 2.1735 - accuracy: 0.2051 - val_loss: 2.2348 - val_accuracy: 0.1575\n",
      "Epoch 24/100\n",
      "76/76 [==============================] - 1s 7ms/step - loss: 2.1629 - accuracy: 0.2305 - val_loss: 2.2433 - val_accuracy: 0.1459\n",
      "Epoch 25/100\n",
      "76/76 [==============================] - 1s 10ms/step - loss: 2.1660 - accuracy: 0.2089 - val_loss: 2.2381 - val_accuracy: 0.1725\n",
      "Epoch 26/100\n",
      "76/76 [==============================] - 1s 7ms/step - loss: 2.1629 - accuracy: 0.2068 - val_loss: 2.2364 - val_accuracy: 0.1758\n",
      "Epoch 27/100\n",
      "76/76 [==============================] - 1s 9ms/step - loss: 2.1564 - accuracy: 0.2292 - val_loss: 2.2436 - val_accuracy: 0.1526\n",
      "Epoch 28/100\n",
      "76/76 [==============================] - 1s 8ms/step - loss: 2.1622 - accuracy: 0.2159 - val_loss: 2.2431 - val_accuracy: 0.1625\n"
     ]
    },
    {
     "data": {
      "text/plain": [
       "<keras.src.callbacks.History at 0x1a4b49b3af0>"
      ]
     },
     "execution_count": 7,
     "metadata": {},
     "output_type": "execute_result"
    }
   ],
   "source": [
    "import tensorflow as tf\n",
    "from tensorflow.keras.models import Sequential\n",
    "from tensorflow.keras.layers import Conv2D, Flatten, Dense, MaxPooling2D\n",
    "from tensorflow.keras import layers, models, regularizers\n",
    "from tensorflow.keras.callbacks import EarlyStopping, LearningRateScheduler\n",
    "\n",
    "# Dimensiones de entrada y salida\n",
    "input_shape = (10, 10, canales)  # Matriz de píxeles 10x10 con 3 canales (color)\n",
    "num_clases = 10           # 10 clases de salida\n",
    "\n",
    "# Crear el modelo de la red convolucional\n",
    "model = Sequential()\n",
    "model.add(layers.Conv2D(32, (3, 3), activation='relu', padding='same', \n",
    "                    kernel_regularizer=regularizers.l2(0.001), input_shape=input_shape))\n",
    "model.add(MaxPooling2D(pool_size=(2, 2))),\n",
    "model.add(layers.Dropout(0.3))\n",
    "model.add(layers.Conv2D(64, (3, 3), activation='relu', padding='same', kernel_regularizer=regularizers.l2(0.001)))\n",
    "model.add(layers.MaxPooling2D((2, 2)))\n",
    "model.add(layers.Dropout(0.4))\n",
    "model.add(layers.Flatten())\n",
    "model.add(layers.Dense(128, activation='relu', \n",
    "                   kernel_regularizer=regularizers.l2(0.001)))\n",
    "model.add(layers.Dropout(0.5))  # Dropout adicional\n",
    "model.add(layers.Dense(10, activation='softmax'))\n",
    "\n",
    "# Compilar el modelo\n",
    "model.compile(\n",
    "    optimizer='adam',                # Optimizador Adam\n",
    "    loss='sparse_categorical_crossentropy',  # Pérdida para clasificación multiclase\n",
    "    metrics=['accuracy']             # Métrica de precisión\n",
    ")\n",
    "\n",
    "# Resumen del modelo\n",
    "model.summary()\n",
    "\n",
    "early_stopping = EarlyStopping(monitor='val_loss', patience=5, restore_best_weights=True)\n",
    "\n",
    "# Scheduler de tasa de aprendizaje\n",
    "def scheduler(epoch, lr):\n",
    "    if epoch < 10:\n",
    "        return lr\n",
    "    else:\n",
    "        return lr * tf.math.exp(-0.1)  # Reducción exponencial después de 10 épocas\n",
    "\n",
    "lr_scheduler = LearningRateScheduler(scheduler)\n",
    "\n",
    "Y_clases = np.argmax(Y_train, axis=1)\n",
    "model.fit(X_train, Y_clases, epochs=100, batch_size=32, validation_split=0.2,\n",
    "          #callbacks=[early_stopping, lr_scheduler], verbose=1)\n",
    "          callbacks=[early_stopping], verbose=1)"
   ]
  },
  {
   "cell_type": "code",
   "execution_count": null,
   "metadata": {},
   "outputs": [],
   "source": [
    "df_predict = pd.DataFrame(predict, index=F_test)\n",
    "df_predict[\"deltavix\"] = (np.argmax(predict, axis=1) < 2)\n"
   ]
  },
  {
   "cell_type": "code",
   "execution_count": 15,
   "metadata": {},
   "outputs": [
    {
     "name": "stdout",
     "output_type": "stream",
     "text": [
      "39/39 [==============================] - 0s 3ms/step\n"
     ]
    },
    {
     "data": {
      "text/plain": [
       "543"
      ]
     },
     "execution_count": 15,
     "metadata": {},
     "output_type": "execute_result"
    }
   ],
   "source": [
    "predict = model.predict(X_test)\n",
    "(np.argmax(predict, axis=1) < 2)"
   ]
  },
  {
   "cell_type": "code",
   "execution_count": 11,
   "metadata": {},
   "outputs": [
    {
     "data": {
      "text/plain": [
       "0    0.017673\n",
       "1    0.045390\n",
       "2    0.068043\n",
       "3    0.099313\n",
       "4    0.122388\n",
       "5    0.138155\n",
       "6    0.157051\n",
       "7    0.171191\n",
       "8    0.120943\n",
       "9    0.059853\n",
       "Name: 2019-12-31 00:00:00, dtype: float32"
      ]
     },
     "execution_count": 11,
     "metadata": {},
     "output_type": "execute_result"
    }
   ],
   "source": [
    "df_predict = pd.DataFrame(predict, index=F_test)\n",
    "df_predict.iloc[0,:]"
   ]
  },
  {
   "cell_type": "code",
   "execution_count": 28,
   "metadata": {},
   "outputs": [
    {
     "name": "stdout",
     "output_type": "stream",
     "text": [
      "39/39 [==============================] - 0s 3ms/step\n"
     ]
    },
    {
     "data": {
      "text/plain": [
       "<Axes: >"
      ]
     },
     "execution_count": 28,
     "metadata": {},
     "output_type": "execute_result"
    },
    {
     "data": {
      "image/png": "[encoded data removed]",
      "text/plain": [
       "<Figure size 640x480 with 1 Axes>"
      ]
     },
     "metadata": {},
     "output_type": "display_data"
    }
   ],
   "source": [
    "predict = model.predict(X_test)\n",
    "df_predict = pd.DataFrame(predict, index=F_test)\n",
    "df_predict[\"deltavix\"] = (np.argmax(predict, axis=1) < 5)\n",
    "#df_predict[\"deltavix\"] = df_predict.iloc[:,:-3].sum(axis=1)>0.9\n",
    "df_predict[\"retsig\"] = datos.loc[df_predict.index].retsig\n",
    "df_predict[\"rets\"] = datos.loc[df_predict.index].rets\n",
    "df_predict[\"vixsi\"] = datos.loc[df_predict.index].vixsi\n",
    "#df_deltavix = df_predict[df_predict.iloc[:,:-3].sum(axis=1)>0.9]\n",
    "#len(df_deltavix)/len(df_predict)\n",
    "(1 + df_predict.retsig).cumprod().plot()\n",
    "(1 + df_predict.retsig*df_predict.deltavix).cumprod().plot()\n"
   ]
  },
  {
   "cell_type": "code",
   "execution_count": null,
   "metadata": {},
   "outputs": [],
   "source": [
    "df_predict[\"retsig\"] = datos.loc[df_predict.index].retsig\n",
    "df_predict[\"rets\"] = datos.loc[df_predict.index].rets\n",
    "df_predict[\"vixsi\"] = datos.loc[df_predict.index].vixsi\n",
    "df_predict[\"deltavix\"] = df_predict.iloc[:,:-8].sum(axis=1)>0.9\n",
    "(1 + df_predict.retsig).cumprod().plot()\n",
    "#a = (1 + df_predict.retsig*df_predict.deltavix).cumprod()\n",
    "a = (1 + df_predict.retsig).cumprod()\n",
    "b = a.rolling(200).mean()\n",
    "(1 + df_predict.retsig*(a.shift(1)>b.shift(1))).cumprod().plot()\n",
    "#(1 + df_predict.retsig*df_predict.deltavix*(a>b)).cumprod().plot()\n",
    "a.plot()\n",
    "b.plot()\n",
    "c.plot()\n",
    "#(1 + df_predict.retsig * df_predict.vixsi).cumprod().plot()"
   ]
  }
 ],
 "metadata": {
  "kernelspec": {
   "display_name": "python39",
   "language": "python",
   "name": "python39"
  },
  "language_info": {
   "codemirror_mode": {
    "name": "ipython",
    "version": 3
   },
   "file_extension": ".py",
   "mimetype": "text/x-python",
   "name": "python",
   "nbconvert_exporter": "python",
   "pygments_lexer": "ipython3",
   "version": "3.9.13"
  }
 },
 "nbformat": 4,
 "nbformat_minor": 5
}
