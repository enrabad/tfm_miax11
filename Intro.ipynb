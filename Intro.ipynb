{
 "cells": [
  {
   "cell_type": "markdown",
   "metadata": {},
   "source": [
    "# <center> VIXSI: Indicador derivado del VIX para trading de cobertura</center>\n",
    "<center>\n",
    "<img src=\"vixsi.jpg\"  alt=\"drawing\" width=\"250\" />\n",
    "</center>\n",
    "\n",
    "### <center> TFM Enrique Abad Clarimón </center>\n",
    "#### <center>Instituto BME Máster en Inteligencia Artificial Aplicada a los Mercados Financieros 11ª edición (MIA-XI)</center>\n"
   ]
  },
  {
   "cell_type": "markdown",
   "metadata": {},
   "source": [
    "\n",
    "## NOTEBOOKS DEL TFM\n",
    "\n",
    "### Secciones: \n",
    "\n",
    "\n",
    "### Sección I: Estrategia de trading de cobertura al SPY utilizando VIXSI\n",
    "\n",
    "* [1.1.](secciones/VIXSI1_1.ipynb) Estrategia \n",
    "* [1.2.](secciones/VIXSI1_2.ipynb) Alpha de la estrategia \n",
    "\n",
    "### Sección II: Alphas de la estrategia con acciones del SP500\n",
    "\n",
    "* [2.1.](secciones/VIXSI2_1.ipynb) Creación del dataset de activos del SP500  \n",
    "* [2.2.](secciones/VIXSI2_2.ipynb) Alphas de la estrategia con activos del SP500\n",
    "\n",
    "### Sección III: Creación de carteras de cobertura VIXSI\n",
    "\n",
    "* [3.1.](secciones/VIXSI3_1.ipynb) Selección activos hedge con WFO\n",
    "* [3.2.](secciones/VIXSI3_2.ipynb) Selección modelos RNN para estimar alphas\n",
    "* [3.3.](secciones/VIXSI3_3.ipynb) Selección activos hedge con estimación de alphas\n"
   ]
  },
  {
   "cell_type": "markdown",
   "metadata": {},
   "source": [
    "## Resultados backtesting y código de la estrategia VIXSIhedge en quantconnect\n",
    "\n",
    "[Backtesting de VIXSIhedge con WFO](VIXSIhedge_benchmark.pdf) \n",
    "\n",
    "<a href=\"https://www.quantconnect.com/forum/discussion/18548/vixsihedge/p1\" target=\"_blank\">Descripción, código y backtesting de VIXSIhedge en quantconnect</a>\n"
   ]
  }
 ],
 "metadata": {
  "kernelspec": {
   "display_name": "Python 3",
   "language": "python",
   "name": "python3"
  },
  "language_info": {
   "codemirror_mode": {
    "name": "ipython",
    "version": 3
   },
   "file_extension": ".py",
   "mimetype": "text/x-python",
   "name": "python",
   "nbconvert_exporter": "python",
   "pygments_lexer": "ipython3",
   "version": "3.7.3"
  }
 },
 "nbformat": 4,
 "nbformat_minor": 4
}
